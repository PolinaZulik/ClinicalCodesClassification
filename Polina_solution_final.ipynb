{
  "cells": [
    {
      "cell_type": "markdown",
      "source": [
        "# Explanation of what I want to achieve\n",
        "\n",
        "The goal of this work is to classify texts from medical notes into diagnosis codes. The dataset contains short texts, written, apparently, by clinicians in medical summary documents (**sentence** column); and the related diagnosis codes (**code** column)."
      ],
      "metadata": {
        "id": "TYsJuNh0PZBn"
      }
    },
    {
      "cell_type": "markdown",
      "source": [
        "## Installing libraries for model loading, data pre-processing and metrics evaluation.\n",
        "\n",
        "As the suggested model is a *huggingface*-style model, I'm gonna load the **transformers library** which is developed to work with this kind of models, and the **dataset library** for respective data pre-processing."
      ],
      "metadata": {
        "id": "jn4hei_HQXo-"
      }
    },
    {
      "cell_type": "code",
      "execution_count": null,
      "metadata": {
        "id": "uokTuvlFWG8D",
        "colab": {
          "base_uri": "https://localhost:8080/"
        },
        "outputId": "e01eaace-4eb4-4e66-9677-d9ca02ccb594"
      },
      "outputs": [
        {
          "output_type": "stream",
          "name": "stdout",
          "text": [
            "Collecting transformers\n",
            "  Downloading transformers-4.18.0-py3-none-any.whl (4.0 MB)\n",
            "\u001b[K     |████████████████████████████████| 4.0 MB 5.3 MB/s \n",
            "\u001b[?25hRequirement already satisfied: filelock in /usr/local/lib/python3.7/dist-packages (from transformers) (3.6.0)\n",
            "Requirement already satisfied: importlib-metadata in /usr/local/lib/python3.7/dist-packages (from transformers) (4.11.3)\n",
            "Requirement already satisfied: requests in /usr/local/lib/python3.7/dist-packages (from transformers) (2.23.0)\n",
            "Requirement already satisfied: tqdm>=4.27 in /usr/local/lib/python3.7/dist-packages (from transformers) (4.63.0)\n",
            "Requirement already satisfied: numpy>=1.17 in /usr/local/lib/python3.7/dist-packages (from transformers) (1.21.5)\n",
            "Requirement already satisfied: packaging>=20.0 in /usr/local/lib/python3.7/dist-packages (from transformers) (21.3)\n",
            "Collecting sacremoses\n",
            "  Downloading sacremoses-0.0.49-py3-none-any.whl (895 kB)\n",
            "\u001b[K     |████████████████████████████████| 895 kB 35.0 MB/s \n",
            "\u001b[?25hCollecting tokenizers!=0.11.3,<0.13,>=0.11.1\n",
            "  Downloading tokenizers-0.11.6-cp37-cp37m-manylinux_2_12_x86_64.manylinux2010_x86_64.whl (6.5 MB)\n",
            "\u001b[K     |████████████████████████████████| 6.5 MB 27.9 MB/s \n",
            "\u001b[?25hCollecting huggingface-hub<1.0,>=0.1.0\n",
            "  Downloading huggingface_hub-0.5.1-py3-none-any.whl (77 kB)\n",
            "\u001b[K     |████████████████████████████████| 77 kB 5.6 MB/s \n",
            "\u001b[?25hCollecting pyyaml>=5.1\n",
            "  Downloading PyYAML-6.0-cp37-cp37m-manylinux_2_5_x86_64.manylinux1_x86_64.manylinux_2_12_x86_64.manylinux2010_x86_64.whl (596 kB)\n",
            "\u001b[K     |████████████████████████████████| 596 kB 23.1 MB/s \n",
            "\u001b[?25hRequirement already satisfied: regex!=2019.12.17 in /usr/local/lib/python3.7/dist-packages (from transformers) (2019.12.20)\n",
            "Requirement already satisfied: typing-extensions>=3.7.4.3 in /usr/local/lib/python3.7/dist-packages (from huggingface-hub<1.0,>=0.1.0->transformers) (3.10.0.2)\n",
            "Requirement already satisfied: pyparsing!=3.0.5,>=2.0.2 in /usr/local/lib/python3.7/dist-packages (from packaging>=20.0->transformers) (3.0.7)\n",
            "Requirement already satisfied: zipp>=0.5 in /usr/local/lib/python3.7/dist-packages (from importlib-metadata->transformers) (3.7.0)\n",
            "Requirement already satisfied: idna<3,>=2.5 in /usr/local/lib/python3.7/dist-packages (from requests->transformers) (2.10)\n",
            "Requirement already satisfied: certifi>=2017.4.17 in /usr/local/lib/python3.7/dist-packages (from requests->transformers) (2021.10.8)\n",
            "Requirement already satisfied: chardet<4,>=3.0.2 in /usr/local/lib/python3.7/dist-packages (from requests->transformers) (3.0.4)\n",
            "Requirement already satisfied: urllib3!=1.25.0,!=1.25.1,<1.26,>=1.21.1 in /usr/local/lib/python3.7/dist-packages (from requests->transformers) (1.24.3)\n",
            "Requirement already satisfied: click in /usr/local/lib/python3.7/dist-packages (from sacremoses->transformers) (7.1.2)\n",
            "Requirement already satisfied: joblib in /usr/local/lib/python3.7/dist-packages (from sacremoses->transformers) (1.1.0)\n",
            "Requirement already satisfied: six in /usr/local/lib/python3.7/dist-packages (from sacremoses->transformers) (1.15.0)\n",
            "Installing collected packages: pyyaml, tokenizers, sacremoses, huggingface-hub, transformers\n",
            "  Attempting uninstall: pyyaml\n",
            "    Found existing installation: PyYAML 3.13\n",
            "    Uninstalling PyYAML-3.13:\n",
            "      Successfully uninstalled PyYAML-3.13\n",
            "Successfully installed huggingface-hub-0.5.1 pyyaml-6.0 sacremoses-0.0.49 tokenizers-0.11.6 transformers-4.18.0\n"
          ]
        }
      ],
      "source": [
        "! pip install transformers"
      ]
    },
    {
      "cell_type": "code",
      "execution_count": null,
      "metadata": {
        "id": "TIN40H4xa3UO",
        "colab": {
          "base_uri": "https://localhost:8080/"
        },
        "outputId": "d1ef0ca0-0ca9-4d2f-acf6-87314b405bc1"
      },
      "outputs": [
        {
          "output_type": "stream",
          "name": "stdout",
          "text": [
            "Collecting datasets\n",
            "  Downloading datasets-2.0.0-py3-none-any.whl (325 kB)\n",
            "\u001b[K     |████████████████████████████████| 325 kB 5.2 MB/s \n",
            "\u001b[?25hCollecting xxhash\n",
            "  Downloading xxhash-3.0.0-cp37-cp37m-manylinux_2_17_x86_64.manylinux2014_x86_64.whl (212 kB)\n",
            "\u001b[K     |████████████████████████████████| 212 kB 44.9 MB/s \n",
            "\u001b[?25hCollecting responses<0.19\n",
            "  Downloading responses-0.18.0-py3-none-any.whl (38 kB)\n",
            "Requirement already satisfied: pyarrow>=5.0.0 in /usr/local/lib/python3.7/dist-packages (from datasets) (6.0.1)\n",
            "Requirement already satisfied: numpy>=1.17 in /usr/local/lib/python3.7/dist-packages (from datasets) (1.21.5)\n",
            "Requirement already satisfied: dill in /usr/local/lib/python3.7/dist-packages (from datasets) (0.3.4)\n",
            "Requirement already satisfied: tqdm>=4.62.1 in /usr/local/lib/python3.7/dist-packages (from datasets) (4.63.0)\n",
            "Collecting fsspec[http]>=2021.05.0\n",
            "  Downloading fsspec-2022.3.0-py3-none-any.whl (136 kB)\n",
            "\u001b[K     |████████████████████████████████| 136 kB 45.7 MB/s \n",
            "\u001b[?25hRequirement already satisfied: huggingface-hub<1.0.0,>=0.1.0 in /usr/local/lib/python3.7/dist-packages (from datasets) (0.5.1)\n",
            "Collecting aiohttp\n",
            "  Downloading aiohttp-3.8.1-cp37-cp37m-manylinux_2_5_x86_64.manylinux1_x86_64.manylinux_2_12_x86_64.manylinux2010_x86_64.whl (1.1 MB)\n",
            "\u001b[K     |████████████████████████████████| 1.1 MB 28.4 MB/s \n",
            "\u001b[?25hRequirement already satisfied: multiprocess in /usr/local/lib/python3.7/dist-packages (from datasets) (0.70.12.2)\n",
            "Requirement already satisfied: packaging in /usr/local/lib/python3.7/dist-packages (from datasets) (21.3)\n",
            "Requirement already satisfied: pandas in /usr/local/lib/python3.7/dist-packages (from datasets) (1.3.5)\n",
            "Requirement already satisfied: importlib-metadata in /usr/local/lib/python3.7/dist-packages (from datasets) (4.11.3)\n",
            "Requirement already satisfied: requests>=2.19.0 in /usr/local/lib/python3.7/dist-packages (from datasets) (2.23.0)\n",
            "Requirement already satisfied: typing-extensions>=3.7.4.3 in /usr/local/lib/python3.7/dist-packages (from huggingface-hub<1.0.0,>=0.1.0->datasets) (3.10.0.2)\n",
            "Requirement already satisfied: pyyaml in /usr/local/lib/python3.7/dist-packages (from huggingface-hub<1.0.0,>=0.1.0->datasets) (6.0)\n",
            "Requirement already satisfied: filelock in /usr/local/lib/python3.7/dist-packages (from huggingface-hub<1.0.0,>=0.1.0->datasets) (3.6.0)\n",
            "Requirement already satisfied: pyparsing!=3.0.5,>=2.0.2 in /usr/local/lib/python3.7/dist-packages (from packaging->datasets) (3.0.7)\n",
            "Requirement already satisfied: chardet<4,>=3.0.2 in /usr/local/lib/python3.7/dist-packages (from requests>=2.19.0->datasets) (3.0.4)\n",
            "Requirement already satisfied: certifi>=2017.4.17 in /usr/local/lib/python3.7/dist-packages (from requests>=2.19.0->datasets) (2021.10.8)\n",
            "Requirement already satisfied: urllib3!=1.25.0,!=1.25.1,<1.26,>=1.21.1 in /usr/local/lib/python3.7/dist-packages (from requests>=2.19.0->datasets) (1.24.3)\n",
            "Requirement already satisfied: idna<3,>=2.5 in /usr/local/lib/python3.7/dist-packages (from requests>=2.19.0->datasets) (2.10)\n",
            "Collecting urllib3!=1.25.0,!=1.25.1,<1.26,>=1.21.1\n",
            "  Downloading urllib3-1.25.11-py2.py3-none-any.whl (127 kB)\n",
            "\u001b[K     |████████████████████████████████| 127 kB 36.6 MB/s \n",
            "\u001b[?25hCollecting multidict<7.0,>=4.5\n",
            "  Downloading multidict-6.0.2-cp37-cp37m-manylinux_2_17_x86_64.manylinux2014_x86_64.whl (94 kB)\n",
            "\u001b[K     |████████████████████████████████| 94 kB 3.0 MB/s \n",
            "\u001b[?25hCollecting asynctest==0.13.0\n",
            "  Downloading asynctest-0.13.0-py3-none-any.whl (26 kB)\n",
            "Collecting aiosignal>=1.1.2\n",
            "  Downloading aiosignal-1.2.0-py3-none-any.whl (8.2 kB)\n",
            "Requirement already satisfied: charset-normalizer<3.0,>=2.0 in /usr/local/lib/python3.7/dist-packages (from aiohttp->datasets) (2.0.12)\n",
            "Collecting frozenlist>=1.1.1\n",
            "  Downloading frozenlist-1.3.0-cp37-cp37m-manylinux_2_5_x86_64.manylinux1_x86_64.manylinux_2_17_x86_64.manylinux2014_x86_64.whl (144 kB)\n",
            "\u001b[K     |████████████████████████████████| 144 kB 32.9 MB/s \n",
            "\u001b[?25hCollecting yarl<2.0,>=1.0\n",
            "  Downloading yarl-1.7.2-cp37-cp37m-manylinux_2_5_x86_64.manylinux1_x86_64.manylinux_2_12_x86_64.manylinux2010_x86_64.whl (271 kB)\n",
            "\u001b[K     |████████████████████████████████| 271 kB 9.6 MB/s \n",
            "\u001b[?25hRequirement already satisfied: attrs>=17.3.0 in /usr/local/lib/python3.7/dist-packages (from aiohttp->datasets) (21.4.0)\n",
            "Collecting async-timeout<5.0,>=4.0.0a3\n",
            "  Downloading async_timeout-4.0.2-py3-none-any.whl (5.8 kB)\n",
            "Requirement already satisfied: zipp>=0.5 in /usr/local/lib/python3.7/dist-packages (from importlib-metadata->datasets) (3.7.0)\n",
            "Requirement already satisfied: python-dateutil>=2.7.3 in /usr/local/lib/python3.7/dist-packages (from pandas->datasets) (2.8.2)\n",
            "Requirement already satisfied: pytz>=2017.3 in /usr/local/lib/python3.7/dist-packages (from pandas->datasets) (2018.9)\n",
            "Requirement already satisfied: six>=1.5 in /usr/local/lib/python3.7/dist-packages (from python-dateutil>=2.7.3->pandas->datasets) (1.15.0)\n",
            "Installing collected packages: multidict, frozenlist, yarl, urllib3, asynctest, async-timeout, aiosignal, fsspec, aiohttp, xxhash, responses, datasets\n",
            "  Attempting uninstall: urllib3\n",
            "    Found existing installation: urllib3 1.24.3\n",
            "    Uninstalling urllib3-1.24.3:\n",
            "      Successfully uninstalled urllib3-1.24.3\n",
            "\u001b[31mERROR: pip's dependency resolver does not currently take into account all the packages that are installed. This behaviour is the source of the following dependency conflicts.\n",
            "datascience 0.10.6 requires folium==0.2.1, but you have folium 0.8.3 which is incompatible.\u001b[0m\n",
            "Successfully installed aiohttp-3.8.1 aiosignal-1.2.0 async-timeout-4.0.2 asynctest-0.13.0 datasets-2.0.0 frozenlist-1.3.0 fsspec-2022.3.0 multidict-6.0.2 responses-0.18.0 urllib3-1.25.11 xxhash-3.0.0 yarl-1.7.2\n"
          ]
        }
      ],
      "source": [
        "! pip install datasets"
      ]
    },
    {
      "cell_type": "markdown",
      "source": [
        "## Loading the suggested model \n",
        "And the relevant tokenizer."
      ],
      "metadata": {
        "id": "qK8YUCQrRCm7"
      }
    },
    {
      "cell_type": "code",
      "execution_count": null,
      "metadata": {
        "colab": {
          "base_uri": "https://localhost:8080/",
          "height": 185,
          "referenced_widgets": [
            "a58e3e433f6349058671ed2e8a19d7ba",
            "03dfbc405bc34f9b904a60fe1a191f62",
            "3073ad3b3ef94ee9bfe79fb8fac7a43f",
            "d934f4c98693467097b83cbfea95c8fd",
            "9c090e5e04d64babbf13e4ea9ea577b5",
            "33c258bd69bc43e9a1c62e925907fd29",
            "9e4dc5fd7cb443ee8c1e34bb5da1a90a",
            "7451bb167ab043a19dd61ed2d2c354f1",
            "f937f9e428264cc5a0b2467f9e50cfca",
            "014dcd4e9146485eb42c86ac625c20db",
            "98987b7440e74c83bc70ce42690785a9",
            "c2ad9a8202624f9389437259800661c7",
            "51d5484ca52d4bdc9c01e27bae9dbea9",
            "d9e4b2601184491796693fe77dabf4cd",
            "5a743350a6704bd1b5ee19ac8bdb293c",
            "0719cb4ea1b74069909246495192d130",
            "994ee1ae64184ab88df59ec8520ff791",
            "f46159dcfcd040aa85b36b27f380892a",
            "f8fe7a2fa7fc490baf7c053e171563b1",
            "5c657b307bc446639e477d109c37272e",
            "2c7baab8285744a8b3d239d3d976d5c2",
            "52353025456c491d9df2a32ea7885891",
            "6d5899ec7aa94659b464275c68618cee",
            "a0d0d8281fa649f0b0ac5ed1848acc54",
            "818b1c5b80d04967bdcc3bc4d1d589a0",
            "8c1fdab61c8d428fb5f9285c6259b9f9",
            "293e219794134f96a2cea1601caa6cb3",
            "2e51777978ad484faf5bd05eb6e90342",
            "ddac70b66b6d491d827a04a758a6bf78",
            "7a10289e815742f28b3088b0bfcd402e",
            "ce9195d32ffa46fe915e8a55149799f5",
            "2f8fe7664c514b9a9d54c6552104ceef",
            "33e0b6aa3f9e4d0a99ba2a5da12ddd53"
          ]
        },
        "id": "QTA3gcthWLeJ",
        "outputId": "ecde5607-1832-4bee-eb38-0ada5639e201"
      },
      "outputs": [
        {
          "output_type": "display_data",
          "data": {
            "text/plain": [
              "Downloading:   0%|          | 0.00/385 [00:00<?, ?B/s]"
            ],
            "application/vnd.jupyter.widget-view+json": {
              "version_major": 2,
              "version_minor": 0,
              "model_id": "a58e3e433f6349058671ed2e8a19d7ba"
            }
          },
          "metadata": {}
        },
        {
          "output_type": "display_data",
          "data": {
            "text/plain": [
              "Downloading:   0%|          | 0.00/208k [00:00<?, ?B/s]"
            ],
            "application/vnd.jupyter.widget-view+json": {
              "version_major": 2,
              "version_minor": 0,
              "model_id": "c2ad9a8202624f9389437259800661c7"
            }
          },
          "metadata": {}
        },
        {
          "output_type": "display_data",
          "data": {
            "text/plain": [
              "Downloading:   0%|          | 0.00/416M [00:00<?, ?B/s]"
            ],
            "application/vnd.jupyter.widget-view+json": {
              "version_major": 2,
              "version_minor": 0,
              "model_id": "6d5899ec7aa94659b464275c68618cee"
            }
          },
          "metadata": {}
        },
        {
          "output_type": "stream",
          "name": "stderr",
          "text": [
            "Some weights of the model checkpoint at emilyalsentzer/Bio_ClinicalBERT were not used when initializing BertModel: ['cls.predictions.transform.LayerNorm.weight', 'cls.predictions.transform.dense.bias', 'cls.predictions.transform.dense.weight', 'cls.predictions.decoder.weight', 'cls.predictions.bias', 'cls.predictions.transform.LayerNorm.bias', 'cls.seq_relationship.bias', 'cls.seq_relationship.weight']\n",
            "- This IS expected if you are initializing BertModel from the checkpoint of a model trained on another task or with another architecture (e.g. initializing a BertForSequenceClassification model from a BertForPreTraining model).\n",
            "- This IS NOT expected if you are initializing BertModel from the checkpoint of a model that you expect to be exactly identical (initializing a BertForSequenceClassification model from a BertForSequenceClassification model).\n"
          ]
        }
      ],
      "source": [
        "from transformers import AutoTokenizer, AutoModel\n",
        "tokenizer = AutoTokenizer.from_pretrained(\"emilyalsentzer/Bio_ClinicalBERT\", do_lower_case=False, max_seq_len=512)\n",
        "model = AutoModel.from_pretrained(\"emilyalsentzer/Bio_ClinicalBERT\")"
      ]
    },
    {
      "cell_type": "markdown",
      "source": [
        "Looking at the number of parameters just to get an idea of the model size: this seems a normal (not large) BERT model."
      ],
      "metadata": {
        "id": "5O2oNuscRPYE"
      }
    },
    {
      "cell_type": "code",
      "execution_count": null,
      "metadata": {
        "colab": {
          "base_uri": "https://localhost:8080/"
        },
        "id": "FQBLUqnjsWHL",
        "outputId": "42d3fffe-7f88-4e76-97ac-921c5b81da6e"
      },
      "outputs": [
        {
          "output_type": "stream",
          "name": "stdout",
          "text": [
            "108310272\n"
          ]
        }
      ],
      "source": [
        "print(sum(p.numel() for p in model.parameters()))"
      ]
    },
    {
      "cell_type": "markdown",
      "source": [
        "Importing pandas to load the dataset"
      ],
      "metadata": {
        "id": "9UwPMsbhRboR"
      }
    },
    {
      "cell_type": "code",
      "execution_count": null,
      "metadata": {
        "id": "9A_4w4kBWwyE"
      },
      "outputs": [],
      "source": [
        "import pandas as pd"
      ]
    },
    {
      "cell_type": "markdown",
      "source": [
        "# Explanation of my assumptions\n",
        "\n",
        "I'm working with a simple sequence classification task, multi-class, but single-label. \n",
        "\n",
        "So, I'm going to use a workflow to build a sequence classification model based on a huggingface BERT model from these resources:\n",
        "\n",
        "https://huggingface.co/docs/transformers/tasks/sequence_classification, \n",
        "\n",
        "The model is prepared in pytorch (see paper by Alsentzer et al. 2019, https://arxiv.org/abs/1904.03323), so I'm gonna use the pytorch-based sequence classification tutorial: \n",
        "https://colab.research.google.com/github/huggingface/notebooks/blob/master/examples/text_classification.ipynb.\n",
        "\n",
        "The main assumption of using the suggested model in this task is that the codes areactual clinical codes, i.e. they are assigned based on the sentence contents, and the BERT-like models can effectively capture the semantics of the sentences; moreover, the suggested clinical-text-trained BERT captures more specifics in their semantics."
      ],
      "metadata": {
        "id": "3eMEUrmbRfY3"
      }
    },
    {
      "cell_type": "markdown",
      "source": [
        "Importing the required libs for the classification experiment"
      ],
      "metadata": {
        "id": "0xH1tpR0Svx1"
      }
    },
    {
      "cell_type": "code",
      "execution_count": null,
      "metadata": {
        "id": "WVpZTZ9TWh79"
      },
      "outputs": [],
      "source": [
        "from transformers import AutoModelForSequenceClassification, TrainingArguments, Trainer"
      ]
    },
    {
      "cell_type": "markdown",
      "source": [
        "#Consuming the provided dataset"
      ],
      "metadata": {
        "id": "PDbx8sQSS4PQ"
      }
    },
    {
      "cell_type": "code",
      "source": [
        "from google.colab import drive\n",
        "drive.mount('/content/drive')"
      ],
      "metadata": {
        "id": "R4cZi8nXcQP_",
        "colab": {
          "base_uri": "https://localhost:8080/"
        },
        "outputId": "8be85216-270f-4130-8a4c-5b761bcc2089"
      },
      "execution_count": null,
      "outputs": [
        {
          "output_type": "stream",
          "name": "stdout",
          "text": [
            "Mounted at /content/drive\n"
          ]
        }
      ]
    },
    {
      "cell_type": "code",
      "execution_count": null,
      "metadata": {
        "colab": {
          "base_uri": "https://localhost:8080/",
          "height": 423
        },
        "id": "yW6HKJc9W1e4",
        "outputId": "f0b9171a-a305-4842-cc9b-95f4cc37a6b8"
      },
      "outputs": [
        {
          "output_type": "execute_result",
          "data": {
            "text/plain": [
              "       Unnamed: 0                                           sentence   code\n",
              "0               0  pt transferred to [**hospital unit name 4**] c...    J80\n",
              "1               1  chb d/t hypothyroidism--pt with recent hx of n...   E039\n",
              "2               2  the patient is a 67-year-old female with a his...  I4891\n",
              "3               3  rca, htn, gerd, left knee replacement, bipolar...   F319\n",
              "4               4   chronic obstructive pulmonary disease diabete...   E119\n",
              "...           ...                                                ...    ...\n",
              "81022       64472  # encephalopathy following improvement of pati...   F329\n",
              "81023       64473   secondary progressive ms, sx onset [**8-/2167...   F329\n",
              "81024       64474  major depressive disorder, recurrent, without ...   F329\n",
              "81025       64475                             h/o major depression 3   F329\n",
              "81026       64476  during extensive history taking, the psychiatr...   F329\n",
              "\n",
              "[81027 rows x 3 columns]"
            ],
            "text/html": [
              "\n",
              "  <div id=\"df-99a36f34-6e88-4999-b9e2-ed9e9329fdc4\">\n",
              "    <div class=\"colab-df-container\">\n",
              "      <div>\n",
              "<style scoped>\n",
              "    .dataframe tbody tr th:only-of-type {\n",
              "        vertical-align: middle;\n",
              "    }\n",
              "\n",
              "    .dataframe tbody tr th {\n",
              "        vertical-align: top;\n",
              "    }\n",
              "\n",
              "    .dataframe thead th {\n",
              "        text-align: right;\n",
              "    }\n",
              "</style>\n",
              "<table border=\"1\" class=\"dataframe\">\n",
              "  <thead>\n",
              "    <tr style=\"text-align: right;\">\n",
              "      <th></th>\n",
              "      <th>Unnamed: 0</th>\n",
              "      <th>sentence</th>\n",
              "      <th>code</th>\n",
              "    </tr>\n",
              "  </thead>\n",
              "  <tbody>\n",
              "    <tr>\n",
              "      <th>0</th>\n",
              "      <td>0</td>\n",
              "      <td>pt transferred to [**hospital unit name 4**] c...</td>\n",
              "      <td>J80</td>\n",
              "    </tr>\n",
              "    <tr>\n",
              "      <th>1</th>\n",
              "      <td>1</td>\n",
              "      <td>chb d/t hypothyroidism--pt with recent hx of n...</td>\n",
              "      <td>E039</td>\n",
              "    </tr>\n",
              "    <tr>\n",
              "      <th>2</th>\n",
              "      <td>2</td>\n",
              "      <td>the patient is a 67-year-old female with a his...</td>\n",
              "      <td>I4891</td>\n",
              "    </tr>\n",
              "    <tr>\n",
              "      <th>3</th>\n",
              "      <td>3</td>\n",
              "      <td>rca, htn, gerd, left knee replacement, bipolar...</td>\n",
              "      <td>F319</td>\n",
              "    </tr>\n",
              "    <tr>\n",
              "      <th>4</th>\n",
              "      <td>4</td>\n",
              "      <td>chronic obstructive pulmonary disease diabete...</td>\n",
              "      <td>E119</td>\n",
              "    </tr>\n",
              "    <tr>\n",
              "      <th>...</th>\n",
              "      <td>...</td>\n",
              "      <td>...</td>\n",
              "      <td>...</td>\n",
              "    </tr>\n",
              "    <tr>\n",
              "      <th>81022</th>\n",
              "      <td>64472</td>\n",
              "      <td># encephalopathy following improvement of pati...</td>\n",
              "      <td>F329</td>\n",
              "    </tr>\n",
              "    <tr>\n",
              "      <th>81023</th>\n",
              "      <td>64473</td>\n",
              "      <td>secondary progressive ms, sx onset [**8-/2167...</td>\n",
              "      <td>F329</td>\n",
              "    </tr>\n",
              "    <tr>\n",
              "      <th>81024</th>\n",
              "      <td>64474</td>\n",
              "      <td>major depressive disorder, recurrent, without ...</td>\n",
              "      <td>F329</td>\n",
              "    </tr>\n",
              "    <tr>\n",
              "      <th>81025</th>\n",
              "      <td>64475</td>\n",
              "      <td>h/o major depression 3</td>\n",
              "      <td>F329</td>\n",
              "    </tr>\n",
              "    <tr>\n",
              "      <th>81026</th>\n",
              "      <td>64476</td>\n",
              "      <td>during extensive history taking, the psychiatr...</td>\n",
              "      <td>F329</td>\n",
              "    </tr>\n",
              "  </tbody>\n",
              "</table>\n",
              "<p>81027 rows × 3 columns</p>\n",
              "</div>\n",
              "      <button class=\"colab-df-convert\" onclick=\"convertToInteractive('df-99a36f34-6e88-4999-b9e2-ed9e9329fdc4')\"\n",
              "              title=\"Convert this dataframe to an interactive table.\"\n",
              "              style=\"display:none;\">\n",
              "        \n",
              "  <svg xmlns=\"http://www.w3.org/2000/svg\" height=\"24px\"viewBox=\"0 0 24 24\"\n",
              "       width=\"24px\">\n",
              "    <path d=\"M0 0h24v24H0V0z\" fill=\"none\"/>\n",
              "    <path d=\"M18.56 5.44l.94 2.06.94-2.06 2.06-.94-2.06-.94-.94-2.06-.94 2.06-2.06.94zm-11 1L8.5 8.5l.94-2.06 2.06-.94-2.06-.94L8.5 2.5l-.94 2.06-2.06.94zm10 10l.94 2.06.94-2.06 2.06-.94-2.06-.94-.94-2.06-.94 2.06-2.06.94z\"/><path d=\"M17.41 7.96l-1.37-1.37c-.4-.4-.92-.59-1.43-.59-.52 0-1.04.2-1.43.59L10.3 9.45l-7.72 7.72c-.78.78-.78 2.05 0 2.83L4 21.41c.39.39.9.59 1.41.59.51 0 1.02-.2 1.41-.59l7.78-7.78 2.81-2.81c.8-.78.8-2.07 0-2.86zM5.41 20L4 18.59l7.72-7.72 1.47 1.35L5.41 20z\"/>\n",
              "  </svg>\n",
              "      </button>\n",
              "      \n",
              "  <style>\n",
              "    .colab-df-container {\n",
              "      display:flex;\n",
              "      flex-wrap:wrap;\n",
              "      gap: 12px;\n",
              "    }\n",
              "\n",
              "    .colab-df-convert {\n",
              "      background-color: #E8F0FE;\n",
              "      border: none;\n",
              "      border-radius: 50%;\n",
              "      cursor: pointer;\n",
              "      display: none;\n",
              "      fill: #1967D2;\n",
              "      height: 32px;\n",
              "      padding: 0 0 0 0;\n",
              "      width: 32px;\n",
              "    }\n",
              "\n",
              "    .colab-df-convert:hover {\n",
              "      background-color: #E2EBFA;\n",
              "      box-shadow: 0px 1px 2px rgba(60, 64, 67, 0.3), 0px 1px 3px 1px rgba(60, 64, 67, 0.15);\n",
              "      fill: #174EA6;\n",
              "    }\n",
              "\n",
              "    [theme=dark] .colab-df-convert {\n",
              "      background-color: #3B4455;\n",
              "      fill: #D2E3FC;\n",
              "    }\n",
              "\n",
              "    [theme=dark] .colab-df-convert:hover {\n",
              "      background-color: #434B5C;\n",
              "      box-shadow: 0px 1px 3px 1px rgba(0, 0, 0, 0.15);\n",
              "      filter: drop-shadow(0px 1px 2px rgba(0, 0, 0, 0.3));\n",
              "      fill: #FFFFFF;\n",
              "    }\n",
              "  </style>\n",
              "\n",
              "      <script>\n",
              "        const buttonEl =\n",
              "          document.querySelector('#df-99a36f34-6e88-4999-b9e2-ed9e9329fdc4 button.colab-df-convert');\n",
              "        buttonEl.style.display =\n",
              "          google.colab.kernel.accessAllowed ? 'block' : 'none';\n",
              "\n",
              "        async function convertToInteractive(key) {\n",
              "          const element = document.querySelector('#df-99a36f34-6e88-4999-b9e2-ed9e9329fdc4');\n",
              "          const dataTable =\n",
              "            await google.colab.kernel.invokeFunction('convertToInteractive',\n",
              "                                                     [key], {});\n",
              "          if (!dataTable) return;\n",
              "\n",
              "          const docLinkHtml = 'Like what you see? Visit the ' +\n",
              "            '<a target=\"_blank\" href=https://colab.research.google.com/notebooks/data_table.ipynb>data table notebook</a>'\n",
              "            + ' to learn more about interactive tables.';\n",
              "          element.innerHTML = '';\n",
              "          dataTable['output_type'] = 'display_data';\n",
              "          await google.colab.output.renderOutput(dataTable, element);\n",
              "          const docLink = document.createElement('div');\n",
              "          docLink.innerHTML = docLinkHtml;\n",
              "          element.appendChild(docLink);\n",
              "        }\n",
              "      </script>\n",
              "    </div>\n",
              "  </div>\n",
              "  "
            ]
          },
          "metadata": {},
          "execution_count": 8
        }
      ],
      "source": [
        "foo = './drive/MyDrive/Maverick/'\n",
        "fn = foo + 'MIMIC III per sentence annotated dataset.csv'\n",
        "df = pd.read_csv(fn)\n",
        "df"
      ]
    },
    {
      "cell_type": "markdown",
      "source": [
        "Checking the number of duplicates for 2 reasons:\n",
        "1. if many text duplicates are present, this might actually look more like a multi-label task (i.e. a text can normally have more than 1 class);\n",
        "2. if duplicates are a big part of the data, it might make sense to de-duplicate. However, de-duplication is rather an issue of question here."
      ],
      "metadata": {
        "id": "3jCyazhdTB2J"
      }
    },
    {
      "cell_type": "markdown",
      "source": [
        "Less than 5% duplicates. Seems we don't have to worry about the duplicate-related issues mentioned above."
      ],
      "metadata": {
        "id": "D3N0r_8PTih0"
      }
    },
    {
      "cell_type": "code",
      "source": [
        "df.sentence.drop_duplicates().shape"
      ],
      "metadata": {
        "colab": {
          "base_uri": "https://localhost:8080/"
        },
        "id": "9rqreG-2zDD1",
        "outputId": "7db2a30f-823b-4a07-9a83-543247ddde40"
      },
      "execution_count": null,
      "outputs": [
        {
          "output_type": "execute_result",
          "data": {
            "text/plain": [
              "(77971,)"
            ]
          },
          "metadata": {},
          "execution_count": 9
        }
      ]
    },
    {
      "cell_type": "markdown",
      "source": [
        "Assigning numeric codes to the string class labels, because I'm not sure the classification model is able to handle string labels."
      ],
      "metadata": {
        "id": "B0WGlxk2TxU2"
      }
    },
    {
      "cell_type": "code",
      "execution_count": null,
      "metadata": {
        "colab": {
          "base_uri": "https://localhost:8080/"
        },
        "id": "nUPmirblgb2v",
        "outputId": "f68daa87-7004-46cc-bd18-b96c745f0aee"
      },
      "outputs": [
        {
          "output_type": "stream",
          "name": "stdout",
          "text": [
            "0 J80\n",
            "1 E039\n",
            "2 I4891\n",
            "3 F319\n",
            "4 E119\n",
            "5 F0280\n",
            "6 I609\n",
            "7 R65.21\n",
            "4 E119\n",
            "4 E119\n",
            "5 F0280\n",
            "5 F0280\n",
            "8 K7030\n",
            "9 K766\n",
            "2 I4891\n",
            "10 M810\n",
            "11 B182\n",
            "12 D696\n",
            "2 I4891\n",
            "10 M810\n",
            "13 I469\n",
            "14 N186\n",
            "7 R65.21\n",
            "15 J449\n",
            "16 I2699\n",
            "12 D696\n",
            "17 Z79.4\n",
            "2 I4891\n",
            "1 E039\n",
            "6 I609\n",
            "9 K766\n",
            "11 B182\n",
            "2 I4891\n",
            "14 N186\n",
            "18 F10239\n",
            "19 I25.2\n",
            "14 N186\n",
            "20 E6601\n",
            "18 F10239\n",
            "4 E119\n",
            "21 A419\n",
            "2 I4891\n",
            "17 Z79.4\n",
            "4 E119\n",
            "5 F0280\n",
            "11 B182\n",
            "11 B182\n",
            "20 E6601\n",
            "17 Z79.4\n",
            "2 I4891\n"
          ]
        }
      ],
      "source": [
        "code2id, id2code = {}, {}\n",
        "res = []\n",
        "m = -1\n",
        "for c in df.code:\n",
        "  if c in code2id.keys():\n",
        "    res.append(code2id[c])\n",
        "  else:\n",
        "    m = max(list(code2id.values()) + [-1])+1\n",
        "    res.append(m)  \n",
        "    code2id[c] = m\n",
        "    id2code[m] = c\n",
        "for i in range(50):\n",
        "  print(res[i], list(df.code)[i])"
      ]
    },
    {
      "cell_type": "code",
      "execution_count": null,
      "metadata": {
        "colab": {
          "base_uri": "https://localhost:8080/",
          "height": 423
        },
        "id": "MtCKTh3Sg2G3",
        "outputId": "1cd998f9-eb54-48b5-c64b-e33c660b23af"
      },
      "outputs": [
        {
          "output_type": "execute_result",
          "data": {
            "text/plain": [
              "       Unnamed: 0                                           sentence   code  \\\n",
              "0               0  pt transferred to [**hospital unit name 4**] c...    J80   \n",
              "1               1  chb d/t hypothyroidism--pt with recent hx of n...   E039   \n",
              "2               2  the patient is a 67-year-old female with a his...  I4891   \n",
              "3               3  rca, htn, gerd, left knee replacement, bipolar...   F319   \n",
              "4               4   chronic obstructive pulmonary disease diabete...   E119   \n",
              "...           ...                                                ...    ...   \n",
              "81022       64472  # encephalopathy following improvement of pati...   F329   \n",
              "81023       64473   secondary progressive ms, sx onset [**8-/2167...   F329   \n",
              "81024       64474  major depressive disorder, recurrent, without ...   F329   \n",
              "81025       64475                             h/o major depression 3   F329   \n",
              "81026       64476  during extensive history taking, the psychiatr...   F329   \n",
              "\n",
              "       label  \n",
              "0          0  \n",
              "1          1  \n",
              "2          2  \n",
              "3          3  \n",
              "4          4  \n",
              "...      ...  \n",
              "81022     28  \n",
              "81023     28  \n",
              "81024     28  \n",
              "81025     28  \n",
              "81026     28  \n",
              "\n",
              "[81027 rows x 4 columns]"
            ],
            "text/html": [
              "\n",
              "  <div id=\"df-0ed3f38e-c1c0-4685-9a52-49d695649df5\">\n",
              "    <div class=\"colab-df-container\">\n",
              "      <div>\n",
              "<style scoped>\n",
              "    .dataframe tbody tr th:only-of-type {\n",
              "        vertical-align: middle;\n",
              "    }\n",
              "\n",
              "    .dataframe tbody tr th {\n",
              "        vertical-align: top;\n",
              "    }\n",
              "\n",
              "    .dataframe thead th {\n",
              "        text-align: right;\n",
              "    }\n",
              "</style>\n",
              "<table border=\"1\" class=\"dataframe\">\n",
              "  <thead>\n",
              "    <tr style=\"text-align: right;\">\n",
              "      <th></th>\n",
              "      <th>Unnamed: 0</th>\n",
              "      <th>sentence</th>\n",
              "      <th>code</th>\n",
              "      <th>label</th>\n",
              "    </tr>\n",
              "  </thead>\n",
              "  <tbody>\n",
              "    <tr>\n",
              "      <th>0</th>\n",
              "      <td>0</td>\n",
              "      <td>pt transferred to [**hospital unit name 4**] c...</td>\n",
              "      <td>J80</td>\n",
              "      <td>0</td>\n",
              "    </tr>\n",
              "    <tr>\n",
              "      <th>1</th>\n",
              "      <td>1</td>\n",
              "      <td>chb d/t hypothyroidism--pt with recent hx of n...</td>\n",
              "      <td>E039</td>\n",
              "      <td>1</td>\n",
              "    </tr>\n",
              "    <tr>\n",
              "      <th>2</th>\n",
              "      <td>2</td>\n",
              "      <td>the patient is a 67-year-old female with a his...</td>\n",
              "      <td>I4891</td>\n",
              "      <td>2</td>\n",
              "    </tr>\n",
              "    <tr>\n",
              "      <th>3</th>\n",
              "      <td>3</td>\n",
              "      <td>rca, htn, gerd, left knee replacement, bipolar...</td>\n",
              "      <td>F319</td>\n",
              "      <td>3</td>\n",
              "    </tr>\n",
              "    <tr>\n",
              "      <th>4</th>\n",
              "      <td>4</td>\n",
              "      <td>chronic obstructive pulmonary disease diabete...</td>\n",
              "      <td>E119</td>\n",
              "      <td>4</td>\n",
              "    </tr>\n",
              "    <tr>\n",
              "      <th>...</th>\n",
              "      <td>...</td>\n",
              "      <td>...</td>\n",
              "      <td>...</td>\n",
              "      <td>...</td>\n",
              "    </tr>\n",
              "    <tr>\n",
              "      <th>81022</th>\n",
              "      <td>64472</td>\n",
              "      <td># encephalopathy following improvement of pati...</td>\n",
              "      <td>F329</td>\n",
              "      <td>28</td>\n",
              "    </tr>\n",
              "    <tr>\n",
              "      <th>81023</th>\n",
              "      <td>64473</td>\n",
              "      <td>secondary progressive ms, sx onset [**8-/2167...</td>\n",
              "      <td>F329</td>\n",
              "      <td>28</td>\n",
              "    </tr>\n",
              "    <tr>\n",
              "      <th>81024</th>\n",
              "      <td>64474</td>\n",
              "      <td>major depressive disorder, recurrent, without ...</td>\n",
              "      <td>F329</td>\n",
              "      <td>28</td>\n",
              "    </tr>\n",
              "    <tr>\n",
              "      <th>81025</th>\n",
              "      <td>64475</td>\n",
              "      <td>h/o major depression 3</td>\n",
              "      <td>F329</td>\n",
              "      <td>28</td>\n",
              "    </tr>\n",
              "    <tr>\n",
              "      <th>81026</th>\n",
              "      <td>64476</td>\n",
              "      <td>during extensive history taking, the psychiatr...</td>\n",
              "      <td>F329</td>\n",
              "      <td>28</td>\n",
              "    </tr>\n",
              "  </tbody>\n",
              "</table>\n",
              "<p>81027 rows × 4 columns</p>\n",
              "</div>\n",
              "      <button class=\"colab-df-convert\" onclick=\"convertToInteractive('df-0ed3f38e-c1c0-4685-9a52-49d695649df5')\"\n",
              "              title=\"Convert this dataframe to an interactive table.\"\n",
              "              style=\"display:none;\">\n",
              "        \n",
              "  <svg xmlns=\"http://www.w3.org/2000/svg\" height=\"24px\"viewBox=\"0 0 24 24\"\n",
              "       width=\"24px\">\n",
              "    <path d=\"M0 0h24v24H0V0z\" fill=\"none\"/>\n",
              "    <path d=\"M18.56 5.44l.94 2.06.94-2.06 2.06-.94-2.06-.94-.94-2.06-.94 2.06-2.06.94zm-11 1L8.5 8.5l.94-2.06 2.06-.94-2.06-.94L8.5 2.5l-.94 2.06-2.06.94zm10 10l.94 2.06.94-2.06 2.06-.94-2.06-.94-.94-2.06-.94 2.06-2.06.94z\"/><path d=\"M17.41 7.96l-1.37-1.37c-.4-.4-.92-.59-1.43-.59-.52 0-1.04.2-1.43.59L10.3 9.45l-7.72 7.72c-.78.78-.78 2.05 0 2.83L4 21.41c.39.39.9.59 1.41.59.51 0 1.02-.2 1.41-.59l7.78-7.78 2.81-2.81c.8-.78.8-2.07 0-2.86zM5.41 20L4 18.59l7.72-7.72 1.47 1.35L5.41 20z\"/>\n",
              "  </svg>\n",
              "      </button>\n",
              "      \n",
              "  <style>\n",
              "    .colab-df-container {\n",
              "      display:flex;\n",
              "      flex-wrap:wrap;\n",
              "      gap: 12px;\n",
              "    }\n",
              "\n",
              "    .colab-df-convert {\n",
              "      background-color: #E8F0FE;\n",
              "      border: none;\n",
              "      border-radius: 50%;\n",
              "      cursor: pointer;\n",
              "      display: none;\n",
              "      fill: #1967D2;\n",
              "      height: 32px;\n",
              "      padding: 0 0 0 0;\n",
              "      width: 32px;\n",
              "    }\n",
              "\n",
              "    .colab-df-convert:hover {\n",
              "      background-color: #E2EBFA;\n",
              "      box-shadow: 0px 1px 2px rgba(60, 64, 67, 0.3), 0px 1px 3px 1px rgba(60, 64, 67, 0.15);\n",
              "      fill: #174EA6;\n",
              "    }\n",
              "\n",
              "    [theme=dark] .colab-df-convert {\n",
              "      background-color: #3B4455;\n",
              "      fill: #D2E3FC;\n",
              "    }\n",
              "\n",
              "    [theme=dark] .colab-df-convert:hover {\n",
              "      background-color: #434B5C;\n",
              "      box-shadow: 0px 1px 3px 1px rgba(0, 0, 0, 0.15);\n",
              "      filter: drop-shadow(0px 1px 2px rgba(0, 0, 0, 0.3));\n",
              "      fill: #FFFFFF;\n",
              "    }\n",
              "  </style>\n",
              "\n",
              "      <script>\n",
              "        const buttonEl =\n",
              "          document.querySelector('#df-0ed3f38e-c1c0-4685-9a52-49d695649df5 button.colab-df-convert');\n",
              "        buttonEl.style.display =\n",
              "          google.colab.kernel.accessAllowed ? 'block' : 'none';\n",
              "\n",
              "        async function convertToInteractive(key) {\n",
              "          const element = document.querySelector('#df-0ed3f38e-c1c0-4685-9a52-49d695649df5');\n",
              "          const dataTable =\n",
              "            await google.colab.kernel.invokeFunction('convertToInteractive',\n",
              "                                                     [key], {});\n",
              "          if (!dataTable) return;\n",
              "\n",
              "          const docLinkHtml = 'Like what you see? Visit the ' +\n",
              "            '<a target=\"_blank\" href=https://colab.research.google.com/notebooks/data_table.ipynb>data table notebook</a>'\n",
              "            + ' to learn more about interactive tables.';\n",
              "          element.innerHTML = '';\n",
              "          dataTable['output_type'] = 'display_data';\n",
              "          await google.colab.output.renderOutput(dataTable, element);\n",
              "          const docLink = document.createElement('div');\n",
              "          docLink.innerHTML = docLinkHtml;\n",
              "          element.appendChild(docLink);\n",
              "        }\n",
              "      </script>\n",
              "    </div>\n",
              "  </div>\n",
              "  "
            ]
          },
          "metadata": {},
          "execution_count": 11
        }
      ],
      "source": [
        "df['label'] = res\n",
        "df"
      ]
    },
    {
      "cell_type": "markdown",
      "source": [
        "Tokenizing the texts to get an idea of the sequence length that I need to cover most of the texts."
      ],
      "metadata": {
        "id": "KBvFesWAUeKw"
      }
    },
    {
      "cell_type": "code",
      "source": [
        "lens = []\n",
        "for i,x in enumerate(df.sentence.to_list()):\n",
        "  lens.append(len(tokenizer.tokenize(x)))\n",
        "  if i%1000 == 0:\n",
        "    print(i)"
      ],
      "metadata": {
        "colab": {
          "base_uri": "https://localhost:8080/"
        },
        "id": "qSQ8jeSQBzzv",
        "outputId": "0a42f62f-a015-4ccf-f44c-b24f336f2d71"
      },
      "execution_count": null,
      "outputs": [
        {
          "output_type": "stream",
          "name": "stdout",
          "text": [
            "0\n",
            "1000\n",
            "2000\n",
            "3000\n",
            "4000\n",
            "5000\n",
            "6000\n",
            "7000\n",
            "8000\n",
            "9000\n",
            "10000\n",
            "11000\n",
            "12000\n",
            "13000\n",
            "14000\n",
            "15000\n",
            "16000\n",
            "17000\n",
            "18000\n",
            "19000\n",
            "20000\n",
            "21000\n",
            "22000\n",
            "23000\n",
            "24000\n",
            "25000\n",
            "26000\n",
            "27000\n",
            "28000\n",
            "29000\n",
            "30000\n",
            "31000\n",
            "32000\n",
            "33000\n",
            "34000\n",
            "35000\n",
            "36000\n",
            "37000\n",
            "38000\n",
            "39000\n",
            "40000\n",
            "41000\n",
            "42000\n",
            "43000\n",
            "44000\n",
            "45000\n",
            "46000\n",
            "47000\n",
            "48000\n",
            "49000\n",
            "50000\n",
            "51000\n",
            "52000\n",
            "53000\n",
            "54000\n",
            "55000\n",
            "56000\n",
            "57000\n",
            "58000\n",
            "59000\n",
            "60000\n",
            "61000\n",
            "62000\n",
            "63000\n",
            "64000\n",
            "65000\n",
            "66000\n",
            "67000\n",
            "68000\n",
            "69000\n",
            "70000\n",
            "71000\n",
            "72000\n",
            "73000\n",
            "74000\n",
            "75000\n",
            "76000\n",
            "77000\n",
            "78000\n",
            "79000\n",
            "80000\n",
            "81000\n"
          ]
        }
      ]
    },
    {
      "cell_type": "markdown",
      "source": [
        "Statistics of tokenized sequenced length shows that sequence length=32 will cover between 50 and 75% of texts. length=64 would cover even more, but for the sake of speed let's use 32 here below."
      ],
      "metadata": {
        "id": "qG-_VyZGUoup"
      }
    },
    {
      "cell_type": "code",
      "source": [
        "pd.Series(lens).describe()"
      ],
      "metadata": {
        "colab": {
          "base_uri": "https://localhost:8080/"
        },
        "id": "Zlygb0mWB5d_",
        "outputId": "6270bffa-5bf3-4d05-9e2b-e5ab2fc707be"
      },
      "execution_count": null,
      "outputs": [
        {
          "output_type": "execute_result",
          "data": {
            "text/plain": [
              "count    81027.000000\n",
              "mean        34.440014\n",
              "std         33.721708\n",
              "min          1.000000\n",
              "25%         15.000000\n",
              "50%         23.000000\n",
              "75%         42.000000\n",
              "max       2149.000000\n",
              "dtype: float64"
            ]
          },
          "metadata": {},
          "execution_count": 13
        }
      ]
    },
    {
      "cell_type": "markdown",
      "source": [
        "#Data preparation and dataset preprocessing where required\n",
        "I'm using the steps from the link above to create a dataset that would be processed by the AutoClassificationModel."
      ],
      "metadata": {
        "id": "i5REGOERU_ji"
      }
    },
    {
      "cell_type": "code",
      "execution_count": null,
      "metadata": {
        "id": "-e70z1dRbXIM"
      },
      "outputs": [],
      "source": [
        "from datasets import Dataset"
      ]
    },
    {
      "cell_type": "code",
      "execution_count": null,
      "metadata": {
        "id": "7Oik5LReW9-K"
      },
      "outputs": [],
      "source": [
        "def preprocess_function(examples):\n",
        "    return tokenizer(examples['sentence'], truncation=True, max_length=32, padding = True)"
      ]
    },
    {
      "cell_type": "markdown",
      "source": [
        "Get an idea of class sparcity. Not too sparse, let's get back to removing the smallest 1 or 3 classes later, *if needed*. "
      ],
      "metadata": {
        "id": "l1gzAG8bVVKo"
      }
    },
    {
      "cell_type": "code",
      "source": [
        "df.code.value_counts()"
      ],
      "metadata": {
        "colab": {
          "base_uri": "https://localhost:8080/"
        },
        "id": "cC2wDF1y8i25",
        "outputId": "40e5877d-e0d7-4147-a551-f0c1a5633acd"
      },
      "execution_count": null,
      "outputs": [
        {
          "output_type": "execute_result",
          "data": {
            "text/plain": [
              "I469      4326\n",
              "E780      4048\n",
              "I609      3295\n",
              "Z79.4     3284\n",
              "E119      3084\n",
              "I4891     2976\n",
              "E039      2811\n",
              "F0280     2698\n",
              "R570      2695\n",
              "R65.21    2575\n",
              "J9620     2548\n",
              "A419      2522\n",
              "F10239    2512\n",
              "N186      2417\n",
              "I10       2358\n",
              "K7030     2283\n",
              "D696      2266\n",
              "B182      2057\n",
              "I509      2013\n",
              "M810      1991\n",
              "E6601     1975\n",
              "I472      1741\n",
              "I25.2     1705\n",
              "K766      1670\n",
              "I6529     1624\n",
              "J80       1382\n",
              "C7931     1369\n",
              "G936      1321\n",
              "J15211    1258\n",
              "K219      1250\n",
              "J449      1231\n",
              "I714      1016\n",
              "M069      1014\n",
              "F319       968\n",
              "N189       955\n",
              "I214       758\n",
              "I2510      746\n",
              "E46        725\n",
              "I619       626\n",
              "I739       620\n",
              "I200       545\n",
              "I6350      503\n",
              "I129       395\n",
              "I2699      223\n",
              "J690       186\n",
              "N179       178\n",
              "R569       153\n",
              "C787        81\n",
              "F329        44\n",
              "F341         6\n",
              "Name: code, dtype: int64"
            ]
          },
          "metadata": {},
          "execution_count": 16
        }
      ]
    },
    {
      "cell_type": "code",
      "source": [
        "df1 = df\n",
        "#df1 = df[:1000][(df.code != 'F329') & (df.code != 'J690')]"
      ],
      "metadata": {
        "id": "wV7B13kV8xve"
      },
      "execution_count": null,
      "outputs": []
    },
    {
      "cell_type": "markdown",
      "source": [
        "## Making a train-dev-test split to perform the training and dev testing, and then the final sanity/quality check in heldout test data."
      ],
      "metadata": {
        "id": "tWHjG49kVsKz"
      }
    },
    {
      "cell_type": "code",
      "source": [
        "from sklearn.model_selection import train_test_split"
      ],
      "metadata": {
        "id": "7p2jWkLD_fMs"
      },
      "execution_count": null,
      "outputs": []
    },
    {
      "cell_type": "code",
      "source": [
        "idx = range(df1.shape[0])\n",
        "X_train, X_test1 = train_test_split(idx, stratify = list(df1['label']),\n",
        "                                   test_size=0.5)\n",
        "len(X_train), len(X_test1)\n",
        "X_test, X_val = train_test_split(X_test1, stratify = list(df1['label'].iloc[X_test1]),\n",
        "                                   test_size=0.5)\n",
        "print(len(X_train), len(X_val), len(X_test))\n",
        "print(X_train[:10], X_val[:10], X_test[:10])\n"
      ],
      "metadata": {
        "colab": {
          "base_uri": "https://localhost:8080/"
        },
        "id": "mFvUwvXFu6_t",
        "outputId": "174c8112-b7f8-42aa-a343-9384c4d1f518"
      },
      "execution_count": null,
      "outputs": [
        {
          "output_type": "stream",
          "name": "stdout",
          "text": [
            "40513 20257 20257\n",
            "[54583, 49559, 8136, 27682, 37968, 40531, 77030, 59713, 76908, 67796] [2841, 39748, 80228, 13722, 13043, 40747, 31895, 9093, 69090, 6828] [43010, 44322, 72306, 56091, 29770, 33357, 54032, 37793, 42909, 39420]\n"
          ]
        }
      ]
    },
    {
      "cell_type": "code",
      "source": [
        "set(X_test).intersection(X_val), set(X_test).intersection(X_train), set(X_train).intersection(X_val)"
      ],
      "metadata": {
        "colab": {
          "base_uri": "https://localhost:8080/"
        },
        "id": "sXL4AXZc8d0d",
        "outputId": "90a8bc72-6189-4947-a417-63ffaac7c7be"
      },
      "execution_count": null,
      "outputs": [
        {
          "output_type": "execute_result",
          "data": {
            "text/plain": [
              "(set(), set(), set())"
            ]
          },
          "metadata": {},
          "execution_count": 21
        }
      ]
    },
    {
      "cell_type": "markdown",
      "source": [
        "The above cell should be used instead of the below one.\n",
        "Actually, this was the source of the error that led to perfect results later:"
      ],
      "metadata": {
        "id": "UY-g5vqOw9dW"
      }
    },
    {
      "cell_type": "code",
      "source": [
        "#Found an error here:\n",
        "X_train, X_test1 = train_test_split(df1['label'], stratify = df1['label'],\n",
        "                                   test_size=0.5)\n",
        "len(X_train), len(X_test1)\n",
        "X_test, X_val = train_test_split(df1['label'].iloc[X_test1], stratify = df1['label'].iloc[X_test1],\n",
        "                                   test_size=0.5)\n",
        "print(len(X_train), len(X_val), len(X_test))\n",
        "print(X_train[:10], X_val[:10], X_test[:10])"
      ],
      "metadata": {
        "colab": {
          "base_uri": "https://localhost:8080/"
        },
        "id": "EG_CG5oh-_0N",
        "outputId": "89c44a2c-fe87-4ed7-a250-329d31314ea0"
      },
      "execution_count": null,
      "outputs": [
        {
          "output_type": "stream",
          "name": "stdout",
          "text": [
            "40513 20257 20257\n",
            "73363    13\n",
            "10650    43\n",
            "51701    35\n",
            "45365    10\n",
            "25335    29\n",
            "45094    10\n",
            "73362    13\n",
            "11630     1\n",
            "61483    25\n",
            "7535     43\n",
            "Name: label, dtype: int64 23    15\n",
            "26    17\n",
            "11     5\n",
            "6      6\n",
            "43     4\n",
            "35    19\n",
            "46    11\n",
            "6      6\n",
            "31    11\n",
            "10     5\n",
            "Name: label, dtype: int64 10     5\n",
            "6      6\n",
            "19    10\n",
            "37    20\n",
            "13     9\n",
            "10     5\n",
            "29     6\n",
            "8      4\n",
            "27     2\n",
            "30     9\n",
            "Name: label, dtype: int64\n"
          ]
        }
      ]
    },
    {
      "cell_type": "code",
      "source": [
        "data_train = df1.iloc[X_train]\n",
        "data_val = df1.iloc[X_val]\n",
        "data_test = df1.iloc[X_test]\n",
        "labels_test = data_test.label"
      ],
      "metadata": {
        "id": "ygbaV58F-4oM"
      },
      "execution_count": null,
      "outputs": []
    },
    {
      "cell_type": "markdown",
      "source": [
        "I only include the input features data (no labels) in the test dataset, to make 100% sure there's no data leakage.\n",
        "\n",
        "The test label are stored separately for later evaluation."
      ],
      "metadata": {
        "id": "kqDoPaVQWFR-"
      }
    },
    {
      "cell_type": "code",
      "execution_count": null,
      "metadata": {
        "id": "D_LWYLlJYg48"
      },
      "outputs": [],
      "source": [
        "dataset_train = Dataset.from_pandas(data_train[['sentence', 'label']])\n",
        "dataset_val = Dataset.from_pandas(data_val[['sentence', 'label']])\n",
        "dataset_test = Dataset.from_pandas(data_test[['sentence']])"
      ]
    },
    {
      "cell_type": "code",
      "execution_count": null,
      "metadata": {
        "colab": {
          "base_uri": "https://localhost:8080/",
          "height": 113,
          "referenced_widgets": [
            "096014f26b1149029c571ee91a80cfa9",
            "7078dd5e2cd74c4dac548b259bc1218e",
            "bd28e25fc4914ae6879ff6e96a983ce9",
            "6cc1e6bb136e456faec1d1dfcdaca8e7",
            "c96b09c4d83445c6a6d75df20331c0e6",
            "34e6e49717744db09524ba78db45e78d",
            "4ab4d0e8be0c4f4987f6469477fe5d41",
            "156c52467b4b4f4f82b2d39c61c55f21",
            "eeceb863c1fc4450a5179b12def064e3",
            "96f98b8a9483417baa83dc2f64bede6a",
            "f35bfac37a98444aa25bbf0d94e77e23",
            "e41d77408289408496bdb2679e1e0b24",
            "fea2ac48799f45d3a72745d8151d4975",
            "67c00f7699ff499990539c92c0364106",
            "59e4985146c54dfeadca0050cb9e53c6",
            "fadad1b8d77e47d7aef3597b3ed38a18",
            "e50542a6fc8e4f818d0412e6e70620ee",
            "cc3d8c5f46be4a44b2be2ff994534972",
            "e73b62754ae641049e2cfd40442f35c8",
            "9e49f043222c42a9981b83929fec8a96",
            "f7b3db7c02744880a8bb3dd5524c89ee",
            "71f09e61a48244d0978e188c13120115",
            "e84c731da195410e81de004978948b88",
            "f3deda05dfba4717b95818246c1c2293",
            "e05a7afaf85149ab9dc41f327e1a74b0",
            "232629fd12e64f72a5c1be1491bd5ecb",
            "1c77b32639db4faaae6ac04d09fb83e0",
            "021cb725aab34dd6ae80bf1189e05abe",
            "bb8bfc36bf5349139a3ecb38e27e1050",
            "1c565d8cf1374e3aa011a060f6d76c81",
            "899b194bd03a4fc39a673c28614d9e96",
            "6b8bda676d7146bbae08cad084a46601",
            "325dae055e624c929342fc2f358af1b1"
          ]
        },
        "id": "JVLS9lppXnPV",
        "outputId": "9f3cbc88-a187-4fb9-9c21-1b6dec6b9cf8"
      },
      "outputs": [
        {
          "output_type": "display_data",
          "data": {
            "text/plain": [
              "  0%|          | 0/41 [00:00<?, ?ba/s]"
            ],
            "application/vnd.jupyter.widget-view+json": {
              "version_major": 2,
              "version_minor": 0,
              "model_id": "096014f26b1149029c571ee91a80cfa9"
            }
          },
          "metadata": {}
        },
        {
          "output_type": "display_data",
          "data": {
            "text/plain": [
              "  0%|          | 0/21 [00:00<?, ?ba/s]"
            ],
            "application/vnd.jupyter.widget-view+json": {
              "version_major": 2,
              "version_minor": 0,
              "model_id": "e41d77408289408496bdb2679e1e0b24"
            }
          },
          "metadata": {}
        },
        {
          "output_type": "display_data",
          "data": {
            "text/plain": [
              "  0%|          | 0/21 [00:00<?, ?ba/s]"
            ],
            "application/vnd.jupyter.widget-view+json": {
              "version_major": 2,
              "version_minor": 0,
              "model_id": "e84c731da195410e81de004978948b88"
            }
          },
          "metadata": {}
        }
      ],
      "source": [
        "encoded_dataset_train = dataset_train.map(preprocess_function, batched = True)\n",
        "encoded_dataset_val = dataset_val.map(preprocess_function, batched = True)\n",
        "encoded_dataset_test = dataset_test.map(preprocess_function, batched = True)"
      ]
    },
    {
      "cell_type": "code",
      "execution_count": null,
      "metadata": {
        "id": "jAHN462XjaAs"
      },
      "outputs": [],
      "source": [
        "columns_to_return = ['input_ids', 'label', 'attention_mask']\n",
        "encoded_dataset_train.set_format(type='torch', columns=columns_to_return)\n",
        "encoded_dataset_val.set_format(type='torch', columns=columns_to_return)\n",
        "encoded_dataset_test.set_format(type='torch', columns=['input_ids', 'attention_mask'])"
      ]
    },
    {
      "cell_type": "code",
      "source": [
        "encoded_dataset_val, encoded_dataset_test"
      ],
      "metadata": {
        "colab": {
          "base_uri": "https://localhost:8080/"
        },
        "id": "qCd534w1_vg0",
        "outputId": "8d284ac1-9e50-4eb4-e97b-5bf73178d804"
      },
      "execution_count": null,
      "outputs": [
        {
          "output_type": "execute_result",
          "data": {
            "text/plain": [
              "(Dataset({\n",
              "     features: ['sentence', 'label', '__index_level_0__', 'input_ids', 'token_type_ids', 'attention_mask'],\n",
              "     num_rows: 20257\n",
              " }), Dataset({\n",
              "     features: ['sentence', '__index_level_0__', 'input_ids', 'token_type_ids', 'attention_mask'],\n",
              "     num_rows: 20257\n",
              " }))"
            ]
          },
          "metadata": {},
          "execution_count": 26
        }
      ]
    },
    {
      "cell_type": "code",
      "source": [
        "encoded_dataset_test[0], encoded_dataset_test[1]"
      ],
      "metadata": {
        "colab": {
          "base_uri": "https://localhost:8080/"
        },
        "id": "Ummfxn6wq8es",
        "outputId": "4ab53648-7251-4a80-ba3a-0677cf7c2245"
      },
      "execution_count": null,
      "outputs": [
        {
          "output_type": "execute_result",
          "data": {
            "text/plain": [
              "({'attention_mask': tensor([1, 1, 1, 1, 1, 1, 1, 1, 1, 1, 1, 1, 1, 1, 1, 1, 1, 1, 1, 1, 1, 1, 1, 1,\n",
              "          1, 1, 1, 1, 1, 1, 1, 1]),\n",
              "  'input_ids': tensor([  101,  1884, 15789,  1616, 18593,  3653,   117, 14255,  7562,  3946,\n",
              "           1762,  4290,   117, 17972,  1143,  6473,  4814,   117, 17963, 26557,\n",
              "           3653,   117, 24438, 16071,  4043,  3457,  9870, 23179,   117,   185,\n",
              "          15384,   102])},\n",
              " {'attention_mask': tensor([1, 1, 1, 1, 1, 1, 1, 1, 1, 1, 1, 1, 1, 1, 1, 1, 0, 0, 0, 0, 0, 0, 0, 0,\n",
              "          0, 0, 0, 0, 0, 0, 0, 0]),\n",
              "  'input_ids': tensor([  101,  6613, 11153,  6620,   117,   184, 13894,  4184, 14824,  4863,\n",
              "            117,  2012,  7777,  7874,  1279,   102,     0,     0,     0,     0,\n",
              "              0,     0,     0,     0,     0,     0,     0,     0,     0,     0,\n",
              "              0,     0])})"
            ]
          },
          "metadata": {},
          "execution_count": 27
        }
      ]
    },
    {
      "cell_type": "markdown",
      "source": [
        "#Model training\n",
        "Most steps are taken from the tutorial https://colab.research.google.com/github/huggingface/notebooks/blob/master/examples/text_classification.ipynb, except for the metrics evaluation part.\n",
        "\n",
        "The parameters are taken as-is, except for the batch size (after preliminary experiments have shown that batch size = 64 with sequence length = 32 works fine with the current GPU resources), N of epochs = 5 (taken randomly) and push to github = False (we don't need anything pushed there currently)."
      ],
      "metadata": {
        "id": "hwKxeB7HWgwF"
      }
    },
    {
      "cell_type": "code",
      "execution_count": null,
      "metadata": {
        "id": "CAKsUWYGaleU"
      },
      "outputs": [],
      "source": [
        "num_labels = len(set(df1.label))"
      ]
    },
    {
      "cell_type": "code",
      "execution_count": null,
      "metadata": {
        "colab": {
          "base_uri": "https://localhost:8080/"
        },
        "id": "GSLcgTsvccFl",
        "outputId": "5f0eb33f-accd-4d8f-9ab5-4db783cdd0a8"
      },
      "outputs": [
        {
          "output_type": "stream",
          "name": "stderr",
          "text": [
            "Some weights of the model checkpoint at emilyalsentzer/Bio_ClinicalBERT were not used when initializing BertForSequenceClassification: ['cls.predictions.transform.LayerNorm.weight', 'cls.predictions.transform.dense.bias', 'cls.predictions.transform.dense.weight', 'cls.predictions.decoder.weight', 'cls.predictions.bias', 'cls.predictions.transform.LayerNorm.bias', 'cls.seq_relationship.bias', 'cls.seq_relationship.weight']\n",
            "- This IS expected if you are initializing BertForSequenceClassification from the checkpoint of a model trained on another task or with another architecture (e.g. initializing a BertForSequenceClassification model from a BertForPreTraining model).\n",
            "- This IS NOT expected if you are initializing BertForSequenceClassification from the checkpoint of a model that you expect to be exactly identical (initializing a BertForSequenceClassification model from a BertForSequenceClassification model).\n",
            "Some weights of BertForSequenceClassification were not initialized from the model checkpoint at emilyalsentzer/Bio_ClinicalBERT and are newly initialized: ['classifier.bias', 'classifier.weight']\n",
            "You should probably TRAIN this model on a down-stream task to be able to use it for predictions and inference.\n"
          ]
        }
      ],
      "source": [
        "model = AutoModelForSequenceClassification.from_pretrained(\"emilyalsentzer/Bio_ClinicalBERT\", \n",
        "                                                           num_labels=num_labels)"
      ]
    },
    {
      "cell_type": "code",
      "execution_count": null,
      "metadata": {
        "id": "3jvJcBhxcgjc"
      },
      "outputs": [],
      "source": [
        "metric_name = \"accuracy\""
      ]
    },
    {
      "cell_type": "code",
      "execution_count": null,
      "metadata": {
        "id": "xDWQebCucvjN"
      },
      "outputs": [],
      "source": [
        "args = TrainingArguments(\n",
        "    f\"medical-finetuned\",\n",
        "    evaluation_strategy = \"epoch\",\n",
        "    save_strategy = \"epoch\",\n",
        "    learning_rate=2e-5,\n",
        "    per_device_train_batch_size=64,\n",
        "    per_device_eval_batch_size=64,\n",
        "    num_train_epochs=5,\n",
        "    weight_decay=0.01,\n",
        "    load_best_model_at_end=True,\n",
        "    metric_for_best_model=metric_name,\n",
        "    push_to_hub=False,\n",
        ")"
      ]
    },
    {
      "cell_type": "code",
      "execution_count": null,
      "metadata": {
        "id": "B5s2nuo3qq0c"
      },
      "outputs": [],
      "source": [
        "import numpy as np\n",
        "from sklearn.metrics import precision_recall_fscore_support, accuracy_score"
      ]
    },
    {
      "cell_type": "markdown",
      "source": [
        "## Setting up evaluation metrics\n",
        "as described here https://huggingface.co/transformers/v3.0.2/training.html#trainer\n",
        "\n",
        "Using the macro-averaged metrics (e.i. weighting different classes equally), because accuracy will give an idea of the micro-averaged performance, and because micro-averaged performance will give an overestimation: it weights large classes as more important, and it is the large classes which will likely have better results."
      ],
      "metadata": {
        "id": "nzZ2f4MGZ_4k"
      }
    },
    {
      "cell_type": "code",
      "source": [
        "def compute_metrics(pred):\n",
        "    labels = pred.label_ids\n",
        "    preds = pred.predictions.argmax(-1)\n",
        "    precision, recall, f1, _ = precision_recall_fscore_support(labels, preds, average='macro')\n",
        "    acc = accuracy_score(labels, preds)\n",
        "    return {\n",
        "        'accuracy': acc,\n",
        "        'f1': f1,\n",
        "        'precision': precision,\n",
        "        'recall': recall\n",
        "    }"
      ],
      "metadata": {
        "id": "N8d8y3-_4O99"
      },
      "execution_count": null,
      "outputs": []
    },
    {
      "cell_type": "markdown",
      "source": [
        "#Training"
      ],
      "metadata": {
        "id": "nKnGRg2VaMAQ"
      }
    },
    {
      "cell_type": "code",
      "execution_count": null,
      "metadata": {
        "id": "ZVMWwZTKdrAI"
      },
      "outputs": [],
      "source": [
        "trainer = Trainer(\n",
        "    model,\n",
        "    args,\n",
        "    train_dataset=encoded_dataset_train,\n",
        "    eval_dataset=encoded_dataset_val,\n",
        "    tokenizer=tokenizer,\n",
        "    compute_metrics=compute_metrics\n",
        ")"
      ]
    },
    {
      "cell_type": "code",
      "source": [
        "trainer.train()"
      ],
      "metadata": {
        "colab": {
          "base_uri": "https://localhost:8080/",
          "height": 1000
        },
        "id": "QxyYPlxTi0kH",
        "outputId": "65deb636-e1ca-4260-c13a-3a06d09acdb5"
      },
      "execution_count": null,
      "outputs": [
        {
          "output_type": "stream",
          "name": "stderr",
          "text": [
            "The following columns in the training set  don't have a corresponding argument in `BertForSequenceClassification.forward` and have been ignored: sentence, __index_level_0__. If sentence, __index_level_0__ are not expected by `BertForSequenceClassification.forward`,  you can safely ignore this message.\n",
            "/usr/local/lib/python3.7/dist-packages/transformers/optimization.py:309: FutureWarning: This implementation of AdamW is deprecated and will be removed in a future version. Use the PyTorch implementation torch.optim.AdamW instead, or set `no_deprecation_warning=True` to disable this warning\n",
            "  FutureWarning,\n",
            "***** Running training *****\n",
            "  Num examples = 40513\n",
            "  Num Epochs = 5\n",
            "  Instantaneous batch size per device = 64\n",
            "  Total train batch size (w. parallel, distributed & accumulation) = 64\n",
            "  Gradient Accumulation steps = 1\n",
            "  Total optimization steps = 3170\n"
          ]
        },
        {
          "output_type": "display_data",
          "data": {
            "text/plain": [
              "<IPython.core.display.HTML object>"
            ],
            "text/html": [
              "\n",
              "    <div>\n",
              "      \n",
              "      <progress value='3170' max='3170' style='width:300px; height:20px; vertical-align: middle;'></progress>\n",
              "      [3170/3170 48:18, Epoch 5/5]\n",
              "    </div>\n",
              "    <table border=\"1\" class=\"dataframe\">\n",
              "  <thead>\n",
              " <tr style=\"text-align: left;\">\n",
              "      <th>Epoch</th>\n",
              "      <th>Training Loss</th>\n",
              "      <th>Validation Loss</th>\n",
              "      <th>Accuracy</th>\n",
              "      <th>F1</th>\n",
              "      <th>Precision</th>\n",
              "      <th>Recall</th>\n",
              "    </tr>\n",
              "  </thead>\n",
              "  <tbody>\n",
              "    <tr>\n",
              "      <td>1</td>\n",
              "      <td>1.735800</td>\n",
              "      <td>0.803036</td>\n",
              "      <td>0.819766</td>\n",
              "      <td>0.710466</td>\n",
              "      <td>0.754940</td>\n",
              "      <td>0.702706</td>\n",
              "    </tr>\n",
              "    <tr>\n",
              "      <td>2</td>\n",
              "      <td>0.803100</td>\n",
              "      <td>0.710095</td>\n",
              "      <td>0.830626</td>\n",
              "      <td>0.755808</td>\n",
              "      <td>0.783392</td>\n",
              "      <td>0.750610</td>\n",
              "    </tr>\n",
              "    <tr>\n",
              "      <td>3</td>\n",
              "      <td>0.690600</td>\n",
              "      <td>0.680115</td>\n",
              "      <td>0.832947</td>\n",
              "      <td>0.771905</td>\n",
              "      <td>0.827557</td>\n",
              "      <td>0.760758</td>\n",
              "    </tr>\n",
              "    <tr>\n",
              "      <td>4</td>\n",
              "      <td>0.571200</td>\n",
              "      <td>0.671982</td>\n",
              "      <td>0.833736</td>\n",
              "      <td>0.784317</td>\n",
              "      <td>0.830808</td>\n",
              "      <td>0.770000</td>\n",
              "    </tr>\n",
              "    <tr>\n",
              "      <td>5</td>\n",
              "      <td>0.535200</td>\n",
              "      <td>0.670377</td>\n",
              "      <td>0.833934</td>\n",
              "      <td>0.790986</td>\n",
              "      <td>0.822818</td>\n",
              "      <td>0.776877</td>\n",
              "    </tr>\n",
              "  </tbody>\n",
              "</table><p>"
            ]
          },
          "metadata": {}
        },
        {
          "output_type": "stream",
          "name": "stderr",
          "text": [
            "The following columns in the evaluation set  don't have a corresponding argument in `BertForSequenceClassification.forward` and have been ignored: sentence, __index_level_0__. If sentence, __index_level_0__ are not expected by `BertForSequenceClassification.forward`,  you can safely ignore this message.\n",
            "***** Running Evaluation *****\n",
            "  Num examples = 20257\n",
            "  Batch size = 64\n",
            "/usr/local/lib/python3.7/dist-packages/sklearn/metrics/_classification.py:1318: UndefinedMetricWarning: Precision and F-score are ill-defined and being set to 0.0 in labels with no predicted samples. Use `zero_division` parameter to control this behavior.\n",
            "  _warn_prf(average, modifier, msg_start, len(result))\n",
            "Saving model checkpoint to medical-finetuned/checkpoint-634\n",
            "Configuration saved in medical-finetuned/checkpoint-634/config.json\n",
            "Model weights saved in medical-finetuned/checkpoint-634/pytorch_model.bin\n",
            "tokenizer config file saved in medical-finetuned/checkpoint-634/tokenizer_config.json\n",
            "Special tokens file saved in medical-finetuned/checkpoint-634/special_tokens_map.json\n",
            "The following columns in the evaluation set  don't have a corresponding argument in `BertForSequenceClassification.forward` and have been ignored: sentence, __index_level_0__. If sentence, __index_level_0__ are not expected by `BertForSequenceClassification.forward`,  you can safely ignore this message.\n",
            "***** Running Evaluation *****\n",
            "  Num examples = 20257\n",
            "  Batch size = 64\n",
            "/usr/local/lib/python3.7/dist-packages/sklearn/metrics/_classification.py:1318: UndefinedMetricWarning: Precision and F-score are ill-defined and being set to 0.0 in labels with no predicted samples. Use `zero_division` parameter to control this behavior.\n",
            "  _warn_prf(average, modifier, msg_start, len(result))\n",
            "Saving model checkpoint to medical-finetuned/checkpoint-1268\n",
            "Configuration saved in medical-finetuned/checkpoint-1268/config.json\n",
            "Model weights saved in medical-finetuned/checkpoint-1268/pytorch_model.bin\n",
            "tokenizer config file saved in medical-finetuned/checkpoint-1268/tokenizer_config.json\n",
            "Special tokens file saved in medical-finetuned/checkpoint-1268/special_tokens_map.json\n",
            "The following columns in the evaluation set  don't have a corresponding argument in `BertForSequenceClassification.forward` and have been ignored: sentence, __index_level_0__. If sentence, __index_level_0__ are not expected by `BertForSequenceClassification.forward`,  you can safely ignore this message.\n",
            "***** Running Evaluation *****\n",
            "  Num examples = 20257\n",
            "  Batch size = 64\n",
            "/usr/local/lib/python3.7/dist-packages/sklearn/metrics/_classification.py:1318: UndefinedMetricWarning: Precision and F-score are ill-defined and being set to 0.0 in labels with no predicted samples. Use `zero_division` parameter to control this behavior.\n",
            "  _warn_prf(average, modifier, msg_start, len(result))\n",
            "Saving model checkpoint to medical-finetuned/checkpoint-1902\n",
            "Configuration saved in medical-finetuned/checkpoint-1902/config.json\n",
            "Model weights saved in medical-finetuned/checkpoint-1902/pytorch_model.bin\n",
            "tokenizer config file saved in medical-finetuned/checkpoint-1902/tokenizer_config.json\n",
            "Special tokens file saved in medical-finetuned/checkpoint-1902/special_tokens_map.json\n",
            "The following columns in the evaluation set  don't have a corresponding argument in `BertForSequenceClassification.forward` and have been ignored: sentence, __index_level_0__. If sentence, __index_level_0__ are not expected by `BertForSequenceClassification.forward`,  you can safely ignore this message.\n",
            "***** Running Evaluation *****\n",
            "  Num examples = 20257\n",
            "  Batch size = 64\n",
            "/usr/local/lib/python3.7/dist-packages/sklearn/metrics/_classification.py:1318: UndefinedMetricWarning: Precision and F-score are ill-defined and being set to 0.0 in labels with no predicted samples. Use `zero_division` parameter to control this behavior.\n",
            "  _warn_prf(average, modifier, msg_start, len(result))\n",
            "Saving model checkpoint to medical-finetuned/checkpoint-2536\n",
            "Configuration saved in medical-finetuned/checkpoint-2536/config.json\n",
            "Model weights saved in medical-finetuned/checkpoint-2536/pytorch_model.bin\n",
            "tokenizer config file saved in medical-finetuned/checkpoint-2536/tokenizer_config.json\n",
            "Special tokens file saved in medical-finetuned/checkpoint-2536/special_tokens_map.json\n",
            "The following columns in the evaluation set  don't have a corresponding argument in `BertForSequenceClassification.forward` and have been ignored: sentence, __index_level_0__. If sentence, __index_level_0__ are not expected by `BertForSequenceClassification.forward`,  you can safely ignore this message.\n",
            "***** Running Evaluation *****\n",
            "  Num examples = 20257\n",
            "  Batch size = 64\n",
            "/usr/local/lib/python3.7/dist-packages/sklearn/metrics/_classification.py:1318: UndefinedMetricWarning: Precision and F-score are ill-defined and being set to 0.0 in labels with no predicted samples. Use `zero_division` parameter to control this behavior.\n",
            "  _warn_prf(average, modifier, msg_start, len(result))\n",
            "Saving model checkpoint to medical-finetuned/checkpoint-3170\n",
            "Configuration saved in medical-finetuned/checkpoint-3170/config.json\n",
            "Model weights saved in medical-finetuned/checkpoint-3170/pytorch_model.bin\n",
            "tokenizer config file saved in medical-finetuned/checkpoint-3170/tokenizer_config.json\n",
            "Special tokens file saved in medical-finetuned/checkpoint-3170/special_tokens_map.json\n",
            "\n",
            "\n",
            "Training completed. Do not forget to share your model on huggingface.co/models =)\n",
            "\n",
            "\n",
            "Loading best model from medical-finetuned/checkpoint-3170 (score: 0.8339339487584538).\n"
          ]
        },
        {
          "output_type": "execute_result",
          "data": {
            "text/plain": [
              "TrainOutput(global_step=3170, training_loss=0.8101381151458066, metrics={'train_runtime': 2899.4362, 'train_samples_per_second': 69.864, 'train_steps_per_second': 1.093, 'total_flos': 3332503782284160.0, 'train_loss': 0.8101381151458066, 'epoch': 5.0})"
            ]
          },
          "metadata": {},
          "execution_count": 31
        }
      ]
    },
    {
      "cell_type": "markdown",
      "source": [
        "The validation on the val dataset shows reasonably high results. \n",
        "\n",
        "Let's use the heldout test dataset for actual testing. Because the val results could be overestimated, as the model is over-fitted to the val sample (i.e. for val metrics, the best model is chosen)."
      ],
      "metadata": {
        "id": "Dv6OH6AraUoI"
      }
    },
    {
      "cell_type": "markdown",
      "source": [
        "# Testing/Validation: evaluation of trained model"
      ],
      "metadata": {
        "id": "-JJZN8EVai5z"
      }
    },
    {
      "cell_type": "code",
      "source": [
        "pred = trainer.predict(encoded_dataset_test)"
      ],
      "metadata": {
        "colab": {
          "base_uri": "https://localhost:8080/",
          "height": 132
        },
        "id": "n99g7vBQi1H6",
        "outputId": "99b79f00-253a-4f66-a57d-ce5045e5caad"
      },
      "execution_count": null,
      "outputs": [
        {
          "output_type": "stream",
          "name": "stderr",
          "text": [
            "The following columns in the test set  don't have a corresponding argument in `BertForSequenceClassification.forward` and have been ignored: sentence, __index_level_0__. If sentence, __index_level_0__ are not expected by `BertForSequenceClassification.forward`,  you can safely ignore this message.\n",
            "***** Running Prediction *****\n",
            "  Num examples = 20257\n",
            "  Batch size = 64\n"
          ]
        },
        {
          "output_type": "display_data",
          "data": {
            "text/plain": [
              "<IPython.core.display.HTML object>"
            ],
            "text/html": [
              "\n",
              "    <div>\n",
              "      \n",
              "      <progress value='317' max='317' style='width:300px; height:20px; vertical-align: middle;'></progress>\n",
              "      [317/317 01:24]\n",
              "    </div>\n",
              "    "
            ]
          },
          "metadata": {}
        }
      ]
    },
    {
      "cell_type": "markdown",
      "source": [
        "Outputting different metrics for testing: number of correct predictions + the traditional metrics."
      ],
      "metadata": {
        "id": "yUo0WsLPapi9"
      }
    },
    {
      "cell_type": "code",
      "source": [
        "predicted = pred.predictions.argmax(axis=1)\n",
        "sum(labels_test == predicted) ,'/', len(predicted)"
      ],
      "metadata": {
        "colab": {
          "base_uri": "https://localhost:8080/"
        },
        "id": "kIiXz6MxyVpV",
        "outputId": "bee1b292-4c0a-458d-88e5-99900a4ef496"
      },
      "execution_count": null,
      "outputs": [
        {
          "output_type": "execute_result",
          "data": {
            "text/plain": [
              "(16831, '/', 20257)"
            ]
          },
          "metadata": {},
          "execution_count": 33
        }
      ]
    },
    {
      "cell_type": "code",
      "source": [
        "precision, recall, f1, _ = precision_recall_fscore_support(labels_test, predicted, average='macro')\n",
        "acc = accuracy_score(labels_test, predicted)\n",
        "precision, recall, f1, acc"
      ],
      "metadata": {
        "colab": {
          "base_uri": "https://localhost:8080/"
        },
        "id": "BCaBfAJKyqsf",
        "outputId": "4b095969-bca9-4b6b-e00d-3de862d0d00d"
      },
      "execution_count": null,
      "outputs": [
        {
          "output_type": "stream",
          "name": "stderr",
          "text": [
            "/usr/local/lib/python3.7/dist-packages/sklearn/metrics/_classification.py:1318: UndefinedMetricWarning: Precision and F-score are ill-defined and being set to 0.0 in labels with no predicted samples. Use `zero_division` parameter to control this behavior.\n",
            "  _warn_prf(average, modifier, msg_start, len(result))\n"
          ]
        },
        {
          "output_type": "execute_result",
          "data": {
            "text/plain": [
              "(0.8130028958806585,\n",
              " 0.7625909720994425,\n",
              " 0.7763661629663445,\n",
              " 0.8308732783729081)"
            ]
          },
          "metadata": {},
          "execution_count": 34
        }
      ]
    },
    {
      "cell_type": "code",
      "source": [
        "from sklearn.metrics import classification_report"
      ],
      "metadata": {
        "id": "LpbLOmGEIxHN"
      },
      "execution_count": null,
      "outputs": []
    },
    {
      "cell_type": "markdown",
      "source": [
        "#Presentation of results"
      ],
      "metadata": {
        "id": "rkAsIjZ4JXle"
      }
    },
    {
      "cell_type": "markdown",
      "source": [
        "Overall metrics:"
      ],
      "metadata": {
        "id": "9M1rPKf2K0Mt"
      }
    },
    {
      "cell_type": "code",
      "source": [
        "print(classification_report(labels_test, predicted,\n",
        "      target_names = [id2code[x] for x in range(50)]))"
      ],
      "metadata": {
        "colab": {
          "base_uri": "https://localhost:8080/"
        },
        "id": "04sMXX85JBFL",
        "outputId": "a45c7e7a-7c37-44e7-ee1a-c6874222636e"
      },
      "execution_count": null,
      "outputs": [
        {
          "output_type": "stream",
          "name": "stdout",
          "text": [
            "              precision    recall  f1-score   support\n",
            "\n",
            "         J80       0.94      0.86      0.90       346\n",
            "        E039       0.66      0.73      0.69       703\n",
            "       I4891       0.84      0.81      0.82       744\n",
            "        F319       0.80      0.77      0.78       242\n",
            "        E119       0.60      0.71      0.65       771\n",
            "       F0280       0.87      0.87      0.87       674\n",
            "        I609       0.97      0.99      0.98       824\n",
            "      R65.21       0.91      0.88      0.90       644\n",
            "       K7030       0.90      0.92      0.91       571\n",
            "        K766       0.86      0.88      0.87       417\n",
            "        M810       0.73      0.69      0.71       498\n",
            "        B182       0.81      0.80      0.81       515\n",
            "        D696       0.88      0.84      0.86       567\n",
            "        I469       0.90      0.92      0.91      1081\n",
            "        N186       0.92      0.94      0.93       605\n",
            "        J449       0.65      0.66      0.66       307\n",
            "       I2699       0.85      0.82      0.83        55\n",
            "       Z79.4       0.97      0.96      0.96       821\n",
            "      F10239       0.93      0.92      0.92       628\n",
            "       I25.2       0.77      0.82      0.80       426\n",
            "       E6601       0.87      0.86      0.86       494\n",
            "        A419       0.90      0.91      0.90       630\n",
            "        I714       0.92      0.91      0.92       254\n",
            "        R570       0.89      0.89      0.89       674\n",
            "      J15211       0.89      0.89      0.89       315\n",
            "        I472       0.90      0.87      0.89       435\n",
            "         I10       0.67      0.58      0.62       590\n",
            "        E780       0.64      0.75      0.69      1012\n",
            "        F329       1.00      0.27      0.43        11\n",
            "         E46       0.83      0.75      0.78       181\n",
            "        K219       0.73      0.63      0.68       313\n",
            "       I6529       0.89      0.87      0.88       406\n",
            "        I619       0.94      0.94      0.94       156\n",
            "       I6350       0.88      0.85      0.86       126\n",
            "       J9620       0.90      0.88      0.89       637\n",
            "        G936       0.94      0.95      0.94       330\n",
            "        M069       0.82      0.79      0.80       253\n",
            "        N189       0.64      0.72      0.68       238\n",
            "        I739       0.65      0.46      0.54       155\n",
            "        N179       0.80      0.44      0.57        45\n",
            "        I200       0.93      0.82      0.87       136\n",
            "        I214       0.77      0.85      0.81       190\n",
            "        I509       0.83      0.82      0.82       504\n",
            "       C7931       0.91      0.94      0.92       342\n",
            "       I2510       0.60      0.65      0.62       186\n",
            "        I129       0.45      0.05      0.09        99\n",
            "        J690       0.84      0.70      0.76        46\n",
            "        R569       0.97      0.92      0.95        38\n",
            "        C787       0.89      0.40      0.55        20\n",
            "        F341       0.00      0.00      0.00         2\n",
            "\n",
            "    accuracy                           0.83     20257\n",
            "   macro avg       0.81      0.76      0.78     20257\n",
            "weighted avg       0.83      0.83      0.83     20257\n",
            "\n"
          ]
        },
        {
          "output_type": "stream",
          "name": "stderr",
          "text": [
            "/usr/local/lib/python3.7/dist-packages/sklearn/metrics/_classification.py:1318: UndefinedMetricWarning: Precision and F-score are ill-defined and being set to 0.0 in labels with no predicted samples. Use `zero_division` parameter to control this behavior.\n",
            "  _warn_prf(average, modifier, msg_start, len(result))\n",
            "/usr/local/lib/python3.7/dist-packages/sklearn/metrics/_classification.py:1318: UndefinedMetricWarning: Precision and F-score are ill-defined and being set to 0.0 in labels with no predicted samples. Use `zero_division` parameter to control this behavior.\n",
            "  _warn_prf(average, modifier, msg_start, len(result))\n",
            "/usr/local/lib/python3.7/dist-packages/sklearn/metrics/_classification.py:1318: UndefinedMetricWarning: Precision and F-score are ill-defined and being set to 0.0 in labels with no predicted samples. Use `zero_division` parameter to control this behavior.\n",
            "  _warn_prf(average, modifier, msg_start, len(result))\n"
          ]
        }
      ]
    },
    {
      "cell_type": "markdown",
      "source": [
        "Errors output:"
      ],
      "metadata": {
        "id": "Qu1DEK0zK38X"
      }
    },
    {
      "cell_type": "code",
      "source": [
        "size = 120\n",
        "labelsl = list(labels_test)\n",
        "print('Sentence\\tTrue label\\tPredicted label')\n",
        "for i, s in enumerate(dataset_test['sentence'][:size]):\n",
        "  if labelsl[i] != predicted[i]:\n",
        "    print(s, '\\t', id2code[labelsl[i]], '\\t', id2code[predicted[i]], '\\n')"
      ],
      "metadata": {
        "colab": {
          "base_uri": "https://localhost:8080/"
        },
        "id": "sopV3Q1-pVn1",
        "outputId": "6844e35e-f453-4ca3-a1ca-7ed66f254baf"
      },
      "execution_count": null,
      "outputs": [
        {
          "output_type": "stream",
          "name": "stdout",
          "text": [
            "Sentence\tTrue label\tPredicted label\n",
            " this is a 78 year-old male with a history of afib, pes while on coumadin, pulmonary hypertension and hypothyroidism who is admitted with shock on pressors \t E039 \t J449 \n",
            "\n",
            " [**known lastname 106013**] is a 60-year-old female with htn, ckd, untreated chronic hepatitis c and active depression with related acute on chronic renal failure (baseline cr 1.1), and mechanical avr/mvr on coumadin who is presenting with hyperkalemia and hypertensive urgency \t B182 \t F0280 \n",
            "\n",
            " global loss of [**doctor last name 352**]-white differentiation in bilateral cerebral hemispheres with diffuse hypodense appearance, most likely representing cerebral edema in this patient with cardiac arrest \t I469 \t G936 \n",
            "\n",
            "2) htn 3) pvd, s/p l fem-[**doctor last name **] [**2103**] 4) tcc of bladder - s/p turbt and local bcg treatments, no evidence of recurrence at last urology f/u 6 months ago 5) osteoporosis 6) hyperlipidemia 7) cataract surgery [**9-10**] \t M810 \t E780 \n",
            "\n",
            "he was called out to the liver-kidney service where his diuretics were stopped due to acute on chronic renal failure, thought to be from his dehydration \t N179 \t N189 \n",
            "\n",
            " - alzheimer's dementia - hypertension - hypercholesterolemia - hypothyroidism - bilateral hearing loss - basilar artery stenosis, noted on mri/a of brain [**2184-8-31**] - paroxysmal atrial fibrillation, not on anticoagulation due to fall risk - peripheral vascular disease \t E780 \t E039 \n",
            "\n",
            "in the ed, her vitals were t 96.3, hr 82, bp 112/73, rr 16, saturation 97% ra and was in atrial fibrillation \t I4891 \t J80 \n",
            "\n",
            " thrombocytopenia likely consumptive in the setting of septic shock \t D696 \t R65.21 \n",
            "\n",
            " atrial fibrillation, s/p pacemaker placement, on coumadin hypertension prostate cancer status post xrt benign prostatic hypertrophy osteoarthritis h/o rectal bleeding in [**2128**] mild dementia depression hypothyroidism retinitis pigmentosa \t I4891 \t I10 \n",
            "\n",
            " inferior st elevation myocardial infarction coronary artery disease diabetes mellitus hypertension hypercholesterolemia \t I25.2 \t E119 \n",
            "\n",
            " -l cva with right sided hemipareisis, in nh since stoke three years prior -htn -hl -gi bleed -depression -hypothyroidism -?lung ca->treated at [**hospital1 3278**] s/p chemo/radiation 5 years ago \t E039 \t E780 \n",
            "\n",
            "8)hypertension 9)dementia x 1 year, currently oriented to self only 10)s/p left hip fracture [**2129**] 11)hx of falls at home (last a few weeks ago) 12)s/p appendectomy 13)h/o c-section 14)h/o c \t I10 \t F0280 \n",
            "\n",
            "candidal esophagitis anemia peripheral neuropathy duodenitis chf - dilated cardiomyopathy with ef 30-35% hypothyroidism ? \t E039 \t K219 \n",
            "\n",
            "[**name10 (nameis) **] patient's likely has underlying chronic kidney disease secondary to hypertension and diabetes \t I129 \t N189 \n",
            "\n",
            " 57 year old male with history of type ii diabetes, hepatitis c s/p ivdu, recently diagnosed liver [**male first name (un) **] concerning for hcc, recent lower extremity excisonal biopsy for melanoma, bipolar disorder, ptsd, hypertension, hypothyroidism, \t F319 \t B182 \n",
            "\n",
            "carotid disease myocardial infarction ischemic cardiomyopathy hyperlipidemia hypertension cva [**2182**] (decreased balance residual deficit) diabetes mellitus type 2 gout skin cancer (facial) mildly hard of hearing b hand neuropathy \t E119 \t I25.2 \n",
            "\n",
            " adnexal mass was thought to be metastatic pancreatic ca - [**2106-7-14**] palliative chemotherapy with gemzar three out of four weeks - dose was reduced by 25% with her third cycle, due to thrombocytopenia, but she was still unable to get the third of three doses - starting with her fourth cycle she received gemzar on two of a three week cycle - last dose of gemcitabine given on [**2107-6-8**] - started xelox on [**2107-8-3**], currently c1d13 \t D696 \t C7931 \n",
            "\n",
            " coronary artery disease s/p cabg diabetes mellitus type ii peripheral vascular disease dyslpidemia hypertension arthritis \t I739 \t E119 \n",
            "\n",
            "he was also advised to follow-up within 1 week with his primary care physician for ongoing management of his hypertension and additional co-morbidities as outlined above \t I10 \t J449 \n",
            "\n",
            " congestive heart failure hypertension hypercholesterolemia polymalgia rheumatica/?rheumatoid arthritis s/p right inguinal hernia repair s/p lens implants for cataracts \t E780 \t M069 \n",
            "\n",
            "the loculated effusion was confirmed by transesophageal echocardiogram in the process of transferring him to the operating room, when the patient had a ventricular fibrillation arrest with persistent hypotension \t I469 \t K219 \n",
            "\n",
            " acute systolic congestive heart failure acute kidney injury on chronic kidney disease hypertension ventricular tachycardia aplastic anemia \t I129 \t N189 \n",
            "\n",
            "alternatively, his worsening heart failure may have triggered atrial fibrillation \t I509 \t I4891 \n",
            "\n",
            "significant for hepatitis c virus and alcoholic cirrhosis diagnosed in [**2101**] \t B182 \t K7030 \n",
            "\n",
            "cirrhosis (hepatitis c virus, alcohol) no esophageal varices on egd during this hospitalization \t B182 \t K7030 \n",
            "\n",
            " 65 yo f with pmhx significant for mds, tonsillar ca (last ctx 4yrs ago) and recently diagnosed cholelithiasis who was transferred from osh [**2119-11-9**] after presenting with septic shock and found to have labs remarkable for ast 248, alt 63, tbili 5.3, direct 3.3, wbc 11.1 \t R65.21 \t C7931 \n",
            "\n",
            " pt is a 46yom with a pmh of htn, dmii, chronic afib, alcoholism, and etoh cardiomyopathy (ef 20-25%) with pea/cardiac arrest s/p prolonged resuscitation \t I469 \t F10239 \n",
            "\n"
          ]
        }
      ]
    },
    {
      "cell_type": "markdown",
      "source": [
        "#Explanation of results\n",
        "The classifier works pretty well for large classes over 100 examples: F1 >= 0.6, mostly >= 0.8. It is the sparse classes which mostly degrade the overall macro-metrics.\n",
        "\n",
        "With more time resources, I'd suggest an output of the confusion matrix with a more thorough analysis of which classes were confused and why, in linguistic/semantic terms."
      ],
      "metadata": {
        "id": "gvD12VU6gtzl"
      }
    },
    {
      "cell_type": "markdown",
      "source": [
        "# Conclusions\n",
        "The suggested simple first-shot model works well on classifying the suggested dataset. The reasons for that:\n",
        "1. The suggested model was initially trained on the MIMIC-III dataset, which the current dataset is a part of. Although it was trained on other tasks (NLI and NER), the model appears to grasp important structural understanding of the domain.\n",
        "\n",
        "2. The suggested dataset contains very specific and well-structured short texts: probably, short summaries with diagnoses.\n",
        "\n",
        "However, the result are expectedly poor for extremely low-populated classes.\n",
        "\n",
        "Also, there seems to be no over-fitting in the current experiment, because the test results are very similar to the validation ones."
      ],
      "metadata": {
        "id": "x8HKa7tRiLbX"
      }
    },
    {
      "cell_type": "markdown",
      "source": [
        "#How to further continue given more time and resources\n",
        "The current dataset is classified reasonably well.\n",
        "\n",
        "However, to increase the performance and/or in further experiments, the following steps should/could be taken:\n",
        "\n",
        "1. Technical checks:\n",
        "\n",
        "-random seed initialization wherever needed (both in the model and in the dataset split) for full reproducibility;\n",
        "\n",
        "-check whether the best val model is actually used by the Trainer, or load the best saved model.\n",
        "\n",
        "2. Technical steps:\n",
        "\n",
        "-tweak parameters: adding more epochs (the results in terms of F1 are still increasing after 5 epochs, specifically, in terms of recall); changing learning rate and weight decay; adding  dropout and/or regularization (if it's not already there), perform early stopping based on evaluation loss dynamics (when it stops reducing);\n",
        "\n",
        "-balance data: duplicate/assign higher weights to low-populated class data; perform some synthetic data enhancement? - the simplest example being, combining several diagnoses the way it's done in some sentences.\n",
        "\n",
        "3. Analyze the reasons for errors:\n",
        "\n",
        "-are longer sentences more error-prone? if yes, increasing the max sequence length could help;\n",
        "\n",
        "-linguistic/semantic analysis: with the confusion matrix, analyze errors performed on specific classes and try to come up with generalized reasons of errors:\n",
        "\n",
        "--Are sentences containing many diagnoses at once more prone to errors? (for ex. *significant for hepatitis c virus and alcoholic cirrhosis diagnosed in* is labeled as *hepatitis* and classified as *cirrhosis*, but both seem correct.) If yes, we should probably modify the task to include many labels - and re-annotate it, too. \n",
        "\n",
        "--Does the model seem to ignore some specific information, or ignore everything apart from some words which are too significant? If yes, the training set could be balanced in these terms (see above);\n",
        "\n",
        "-output attention heatmaps of sentences where the algorithm makes mistakes: are the most attention-laden tokens actually correct? If not, try to add more training data containing them."
      ],
      "metadata": {
        "id": "hPlx6TXhkXJN"
      }
    },
    {
      "cell_type": "code",
      "source": [
        ""
      ],
      "metadata": {
        "id": "ao9LJjIBy6Q-"
      },
      "execution_count": null,
      "outputs": []
    },
    {
      "cell_type": "code",
      "source": [
        ""
      ],
      "metadata": {
        "id": "Y_Aga1sky6EQ"
      },
      "execution_count": null,
      "outputs": []
    },
    {
      "cell_type": "code",
      "source": [
        ""
      ],
      "metadata": {
        "id": "4q0n-77Dy50W"
      },
      "execution_count": null,
      "outputs": []
    },
    {
      "cell_type": "markdown",
      "source": [
        "#Some older runs"
      ],
      "metadata": {
        "id": "GyRcf6hKy7HE"
      }
    },
    {
      "cell_type": "code",
      "source": [
        "trainer.train()"
      ],
      "metadata": {
        "colab": {
          "base_uri": "https://localhost:8080/",
          "height": 1000
        },
        "id": "eROP8g67EqbG",
        "outputId": "bfd63968-433e-4657-b98c-f7fa83e0abd4"
      },
      "execution_count": null,
      "outputs": [
        {
          "output_type": "stream",
          "name": "stderr",
          "text": [
            "The following columns in the training set  don't have a corresponding argument in `BertForSequenceClassification.forward` and have been ignored: sentence, __index_level_0__. If sentence, __index_level_0__ are not expected by `BertForSequenceClassification.forward`,  you can safely ignore this message.\n",
            "/usr/local/lib/python3.7/dist-packages/transformers/optimization.py:309: FutureWarning: This implementation of AdamW is deprecated and will be removed in a future version. Use the PyTorch implementation torch.optim.AdamW instead, or set `no_deprecation_warning=True` to disable this warning\n",
            "  FutureWarning,\n",
            "***** Running training *****\n",
            "  Num examples = 54288\n",
            "  Num Epochs = 5\n",
            "  Instantaneous batch size per device = 64\n",
            "  Total train batch size (w. parallel, distributed & accumulation) = 64\n",
            "  Gradient Accumulation steps = 1\n",
            "  Total optimization steps = 4245\n"
          ]
        },
        {
          "output_type": "display_data",
          "data": {
            "text/plain": [
              "<IPython.core.display.HTML object>"
            ],
            "text/html": [
              "\n",
              "    <div>\n",
              "      \n",
              "      <progress value='4245' max='4245' style='width:300px; height:20px; vertical-align: middle;'></progress>\n",
              "      [4245/4245 1:05:35, Epoch 5/5]\n",
              "    </div>\n",
              "    <table border=\"1\" class=\"dataframe\">\n",
              "  <thead>\n",
              " <tr style=\"text-align: left;\">\n",
              "      <th>Epoch</th>\n",
              "      <th>Training Loss</th>\n",
              "      <th>Validation Loss</th>\n",
              "      <th>Accuracy</th>\n",
              "      <th>F1</th>\n",
              "      <th>Precision</th>\n",
              "      <th>Recall</th>\n",
              "    </tr>\n",
              "  </thead>\n",
              "  <tbody>\n",
              "    <tr>\n",
              "      <td>1</td>\n",
              "      <td>0.494800</td>\n",
              "      <td>0.004355</td>\n",
              "      <td>1.000000</td>\n",
              "      <td>1.000000</td>\n",
              "      <td>1.000000</td>\n",
              "      <td>1.000000</td>\n",
              "    </tr>\n",
              "    <tr>\n",
              "      <td>2</td>\n",
              "      <td>0.003600</td>\n",
              "      <td>0.001552</td>\n",
              "      <td>1.000000</td>\n",
              "      <td>1.000000</td>\n",
              "      <td>1.000000</td>\n",
              "      <td>1.000000</td>\n",
              "    </tr>\n",
              "    <tr>\n",
              "      <td>3</td>\n",
              "      <td>0.001500</td>\n",
              "      <td>0.000884</td>\n",
              "      <td>1.000000</td>\n",
              "      <td>1.000000</td>\n",
              "      <td>1.000000</td>\n",
              "      <td>1.000000</td>\n",
              "    </tr>\n",
              "    <tr>\n",
              "      <td>4</td>\n",
              "      <td>0.001100</td>\n",
              "      <td>0.000628</td>\n",
              "      <td>1.000000</td>\n",
              "      <td>1.000000</td>\n",
              "      <td>1.000000</td>\n",
              "      <td>1.000000</td>\n",
              "    </tr>\n",
              "    <tr>\n",
              "      <td>5</td>\n",
              "      <td>0.000800</td>\n",
              "      <td>0.000551</td>\n",
              "      <td>1.000000</td>\n",
              "      <td>1.000000</td>\n",
              "      <td>1.000000</td>\n",
              "      <td>1.000000</td>\n",
              "    </tr>\n",
              "  </tbody>\n",
              "</table><p>"
            ]
          },
          "metadata": {}
        },
        {
          "output_type": "stream",
          "name": "stderr",
          "text": [
            "The following columns in the evaluation set  don't have a corresponding argument in `BertForSequenceClassification.forward` and have been ignored: sentence, __index_level_0__. If sentence, __index_level_0__ are not expected by `BertForSequenceClassification.forward`,  you can safely ignore this message.\n",
            "***** Running Evaluation *****\n",
            "  Num examples = 26739\n",
            "  Batch size = 64\n",
            "Saving model checkpoint to medical-finetuned/checkpoint-849\n",
            "Configuration saved in medical-finetuned/checkpoint-849/config.json\n",
            "Model weights saved in medical-finetuned/checkpoint-849/pytorch_model.bin\n",
            "tokenizer config file saved in medical-finetuned/checkpoint-849/tokenizer_config.json\n",
            "Special tokens file saved in medical-finetuned/checkpoint-849/special_tokens_map.json\n",
            "The following columns in the evaluation set  don't have a corresponding argument in `BertForSequenceClassification.forward` and have been ignored: sentence, __index_level_0__. If sentence, __index_level_0__ are not expected by `BertForSequenceClassification.forward`,  you can safely ignore this message.\n",
            "***** Running Evaluation *****\n",
            "  Num examples = 26739\n",
            "  Batch size = 64\n",
            "Saving model checkpoint to medical-finetuned/checkpoint-1698\n",
            "Configuration saved in medical-finetuned/checkpoint-1698/config.json\n",
            "Model weights saved in medical-finetuned/checkpoint-1698/pytorch_model.bin\n",
            "tokenizer config file saved in medical-finetuned/checkpoint-1698/tokenizer_config.json\n",
            "Special tokens file saved in medical-finetuned/checkpoint-1698/special_tokens_map.json\n",
            "The following columns in the evaluation set  don't have a corresponding argument in `BertForSequenceClassification.forward` and have been ignored: sentence, __index_level_0__. If sentence, __index_level_0__ are not expected by `BertForSequenceClassification.forward`,  you can safely ignore this message.\n",
            "***** Running Evaluation *****\n",
            "  Num examples = 26739\n",
            "  Batch size = 64\n",
            "Saving model checkpoint to medical-finetuned/checkpoint-2547\n",
            "Configuration saved in medical-finetuned/checkpoint-2547/config.json\n",
            "Model weights saved in medical-finetuned/checkpoint-2547/pytorch_model.bin\n",
            "tokenizer config file saved in medical-finetuned/checkpoint-2547/tokenizer_config.json\n",
            "Special tokens file saved in medical-finetuned/checkpoint-2547/special_tokens_map.json\n",
            "The following columns in the evaluation set  don't have a corresponding argument in `BertForSequenceClassification.forward` and have been ignored: sentence, __index_level_0__. If sentence, __index_level_0__ are not expected by `BertForSequenceClassification.forward`,  you can safely ignore this message.\n",
            "***** Running Evaluation *****\n",
            "  Num examples = 26739\n",
            "  Batch size = 64\n",
            "Saving model checkpoint to medical-finetuned/checkpoint-3396\n",
            "Configuration saved in medical-finetuned/checkpoint-3396/config.json\n",
            "Model weights saved in medical-finetuned/checkpoint-3396/pytorch_model.bin\n",
            "tokenizer config file saved in medical-finetuned/checkpoint-3396/tokenizer_config.json\n",
            "Special tokens file saved in medical-finetuned/checkpoint-3396/special_tokens_map.json\n",
            "The following columns in the evaluation set  don't have a corresponding argument in `BertForSequenceClassification.forward` and have been ignored: sentence, __index_level_0__. If sentence, __index_level_0__ are not expected by `BertForSequenceClassification.forward`,  you can safely ignore this message.\n",
            "***** Running Evaluation *****\n",
            "  Num examples = 26739\n",
            "  Batch size = 64\n",
            "Saving model checkpoint to medical-finetuned/checkpoint-4245\n",
            "Configuration saved in medical-finetuned/checkpoint-4245/config.json\n",
            "Model weights saved in medical-finetuned/checkpoint-4245/pytorch_model.bin\n",
            "tokenizer config file saved in medical-finetuned/checkpoint-4245/tokenizer_config.json\n",
            "Special tokens file saved in medical-finetuned/checkpoint-4245/special_tokens_map.json\n",
            "\n",
            "\n",
            "Training completed. Do not forget to share your model on huggingface.co/models =)\n",
            "\n",
            "\n",
            "Loading best model from medical-finetuned/checkpoint-849 (score: 1.0).\n"
          ]
        },
        {
          "output_type": "execute_result",
          "data": {
            "text/plain": [
              "TrainOutput(global_step=4245, training_loss=0.0604822888145458, metrics={'train_runtime': 3935.9711, 'train_samples_per_second': 68.964, 'train_steps_per_second': 1.079, 'total_flos': 4465602777692160.0, 'train_loss': 0.0604822888145458, 'epoch': 5.0})"
            ]
          },
          "metadata": {},
          "execution_count": 29
        }
      ]
    },
    {
      "cell_type": "code",
      "source": [
        "trainer.evaluate()"
      ],
      "metadata": {
        "colab": {
          "base_uri": "https://localhost:8080/",
          "height": 283
        },
        "id": "n0Ua3ACtdI4s",
        "outputId": "722e5ab4-9155-4025-8428-c47569544a2a"
      },
      "execution_count": null,
      "outputs": [
        {
          "output_type": "stream",
          "name": "stderr",
          "text": [
            "The following columns in the evaluation set  don't have a corresponding argument in `BertForSequenceClassification.forward` and have been ignored: sentence, __index_level_0__. If sentence, __index_level_0__ are not expected by `BertForSequenceClassification.forward`,  you can safely ignore this message.\n",
            "***** Running Evaluation *****\n",
            "  Num examples = 26739\n",
            "  Batch size = 64\n"
          ]
        },
        {
          "output_type": "display_data",
          "data": {
            "text/plain": [
              "<IPython.core.display.HTML object>"
            ],
            "text/html": [
              "\n",
              "    <div>\n",
              "      \n",
              "      <progress value='418' max='418' style='width:300px; height:20px; vertical-align: middle;'></progress>\n",
              "      [418/418 01:55]\n",
              "    </div>\n",
              "    "
            ]
          },
          "metadata": {}
        },
        {
          "output_type": "execute_result",
          "data": {
            "text/plain": [
              "{'epoch': 5.0,\n",
              " 'eval_accuracy': 1.0,\n",
              " 'eval_f1': 1.0,\n",
              " 'eval_loss': 0.004354993347078562,\n",
              " 'eval_precision': 1.0,\n",
              " 'eval_recall': 1.0,\n",
              " 'eval_runtime': 115.5524,\n",
              " 'eval_samples_per_second': 231.402,\n",
              " 'eval_steps_per_second': 3.617}"
            ]
          },
          "metadata": {},
          "execution_count": 39
        }
      ]
    },
    {
      "cell_type": "code",
      "source": [
        "encoded_dataset_val."
      ],
      "metadata": {
        "colab": {
          "base_uri": "https://localhost:8080/"
        },
        "id": "E4gaYczgeL_R",
        "outputId": "e02ff9e4-2f49-42d5-a874-5dfdbbac6f63"
      },
      "execution_count": null,
      "outputs": [
        {
          "output_type": "execute_result",
          "data": {
            "text/plain": [
              "[]"
            ]
          },
          "metadata": {},
          "execution_count": 54
        }
      ]
    },
    {
      "cell_type": "code",
      "source": [
        "pred = trainer.predict(encoded_dataset_test)"
      ],
      "metadata": {
        "colab": {
          "base_uri": "https://localhost:8080/",
          "height": 127
        },
        "id": "s616jqHqd8be",
        "outputId": "4d3716ec-3e37-4a73-b9ec-5327e7aa9a96"
      },
      "execution_count": null,
      "outputs": [
        {
          "output_type": "stream",
          "name": "stderr",
          "text": [
            "The following columns in the test set  don't have a corresponding argument in `BertForSequenceClassification.forward` and have been ignored: sentence, __index_level_0__. If sentence, __index_level_0__ are not expected by `BertForSequenceClassification.forward`,  you can safely ignore this message.\n",
            "***** Running Prediction *****\n",
            "  Num examples = 500\n",
            "  Batch size = 64\n"
          ]
        },
        {
          "output_type": "display_data",
          "data": {
            "text/plain": [
              "<IPython.core.display.HTML object>"
            ],
            "text/html": [
              "\n",
              "    <div>\n",
              "      \n",
              "      <progress value='489' max='418' style='width:300px; height:20px; vertical-align: middle;'></progress>\n",
              "      [418/418 15:06]\n",
              "    </div>\n",
              "    "
            ]
          },
          "metadata": {}
        }
      ]
    },
    {
      "cell_type": "code",
      "source": [
        "pred.predictions.shape"
      ],
      "metadata": {
        "colab": {
          "base_uri": "https://localhost:8080/"
        },
        "id": "SKQSzdAnggz5",
        "outputId": "9b678e99-78cd-4776-d539-fd5d9cf195f7"
      },
      "execution_count": null,
      "outputs": [
        {
          "output_type": "execute_result",
          "data": {
            "text/plain": [
              "(500, 50)"
            ]
          },
          "metadata": {},
          "execution_count": 72
        }
      ]
    },
    {
      "cell_type": "code",
      "source": [
        "predicted = pred.predictions.argmax(axis=1)\n",
        "predicted"
      ],
      "metadata": {
        "colab": {
          "base_uri": "https://localhost:8080/"
        },
        "id": "g2UtHShjg0Pl",
        "outputId": "3adc75f0-0237-445f-9ae6-948d1ac624c1"
      },
      "execution_count": null,
      "outputs": [
        {
          "output_type": "execute_result",
          "data": {
            "text/plain": [
              "array([ 5, 15,  7, 16,  2,  6,  5,  9,  2, 13,  5,  9,  4, 13, 10, 12,  1,\n",
              "        2,  2,  5, 17,  7,  4, 15, 18,  2, 13,  2,  4, 20, 12,  9, 10,  2,\n",
              "       15,  9, 18, 17,  2,  4,  5, 13, 14,  7,  4,  7, 10,  8,  5,  2,  8,\n",
              "        9,  9,  7, 20,  5, 14,  2,  4,  5, 11, 18,  2,  5,  5,  2,  8,  1,\n",
              "        9, 12,  4,  9, 11,  7,  9, 10, 13, 12,  7,  9, 20,  4, 18, 14,  9,\n",
              "       15,  4,  2, 21,  9, 20,  2, 15,  2,  9,  9,  1,  2,  6,  5,  4, 15,\n",
              "       13, 13, 20,  2, 17, 18,  2,  2,  9, 13,  2,  2, 12,  5,  6, 17,  4,\n",
              "       18, 12, 18, 11,  0,  0, 14, 10,  2,  9,  5,  2,  0,  9,  2,  1,  1,\n",
              "       12,  6,  2,  2, 15, 17, 10, 13, 11,  5, 12, 14,  6, 12,  5, 18, 14,\n",
              "        4, 20, 16,  4,  5, 10,  6, 14, 15,  2,  9, 18,  9, 14, 20, 12,  7,\n",
              "       17, 20,  6,  4,  6,  5,  9, 19,  2,  8, 20, 14, 10, 15,  2,  1,  2,\n",
              "       18, 12,  3,  0, 12,  2, 15, 11,  5, 13, 18, 15,  7,  9, 16,  2,  5,\n",
              "        7,  6,  3, 17,  5,  6, 10,  0,  6, 11,  2,  4,  4,  5, 17,  0,  5,\n",
              "       16, 17,  2,  6,  4,  7,  7, 14,  4,  6,  2, 21, 13,  2, 15,  1,  8,\n",
              "        2, 11,  2, 17,  2,  1,  2,  4, 13,  4, 17,  2,  6,  2, 12,  7, 20,\n",
              "        9,  4, 17, 11,  2, 14,  0,  4,  5,  7,  4,  4,  2, 12,  2,  2,  6,\n",
              "       11, 15, 16, 10,  5,  4, 18,  5,  9,  0, 12,  4, 19,  1,  2, 14,  9,\n",
              "       13,  4,  5,  5,  2,  4, 15, 15,  6,  2,  7, 15, 16,  4, 18,  1, 16,\n",
              "       12, 18, 16, 19,  0,  5,  4,  5, 14,  9,  2, 15,  2, 11, 12,  1, 17,\n",
              "        6,  5,  5, 11,  7,  4,  4, 14,  5, 14,  9,  9, 10,  5,  7,  5,  4,\n",
              "        8,  4,  5,  3,  7,  5,  0,  2,  7, 11, 17,  2,  5, 15,  2,  6, 20,\n",
              "       12,  4,  4,  2,  2, 10,  2,  2,  2,  8,  6, 20,  6,  6,  4, 11, 13,\n",
              "        7,  5,  9,  5, 12,  9, 13,  3,  4,  6,  2,  2,  4,  4,  2,  9,  2,\n",
              "       17,  9, 20, 10, 17, 17, 18,  5, 18, 20, 18,  6, 12, 13,  2, 14,  4,\n",
              "        4,  2,  2, 17, 17,  4,  4,  0,  9,  8, 19,  2, 12, 18,  4,  4,  6,\n",
              "        5,  4,  5, 14,  5, 10,  4,  3, 14, 15, 12,  5,  4, 16,  6,  5, 12,\n",
              "        9,  9,  8, 19,  9, 11, 17, 18,  4,  0,  2,  5, 12,  4, 14,  5,  2,\n",
              "       19, 17, 12, 14, 14,  1,  0,  2,  2,  4,  9, 10, 14, 16,  9,  2,  1,\n",
              "       12,  4,  2,  4, 15, 12, 12,  2, 17, 14, 14,  5,  4,  5,  2,  4, 10,\n",
              "       18, 20,  4,  1,  2, 12,  0])"
            ]
          },
          "metadata": {},
          "execution_count": 78
        }
      ]
    },
    {
      "cell_type": "code",
      "source": [
        "sum(labels_test == predicted)"
      ],
      "metadata": {
        "colab": {
          "base_uri": "https://localhost:8080/"
        },
        "id": "w2EtdBfsbEFa",
        "outputId": "f1a270dc-1b78-4097-8b61-c813751eb03e"
      },
      "execution_count": null,
      "outputs": [
        {
          "output_type": "execute_result",
          "data": {
            "text/plain": [
              "500"
            ]
          },
          "metadata": {},
          "execution_count": 80
        }
      ]
    },
    {
      "cell_type": "code",
      "source": [
        "foo = './medical-finetuned/checkpoint-4245/'\n",
        "os.listdir(foo)"
      ],
      "metadata": {
        "colab": {
          "base_uri": "https://localhost:8080/"
        },
        "id": "5gDIPUHtbCzE",
        "outputId": "e69ded2f-eabc-4ac2-b285-23ebf2d28eda"
      },
      "execution_count": null,
      "outputs": [
        {
          "output_type": "execute_result",
          "data": {
            "text/plain": [
              "['trainer_state.json',\n",
              " 'special_tokens_map.json',\n",
              " 'scheduler.pt',\n",
              " 'training_args.bin',\n",
              " 'rng_state.pth',\n",
              " 'optimizer.pt',\n",
              " 'vocab.txt',\n",
              " 'config.json',\n",
              " 'tokenizer_config.json',\n",
              " 'pytorch_model.bin',\n",
              " 'tokenizer.json']"
            ]
          },
          "metadata": {},
          "execution_count": 32
        }
      ]
    },
    {
      "cell_type": "code",
      "source": [
        "m1 = AutoModelForSequenceClassification.from_pretrained(foo)"
      ],
      "metadata": {
        "colab": {
          "base_uri": "https://localhost:8080/"
        },
        "id": "WDBuHxmNaond",
        "outputId": "ae8d544d-8083-41e2-c960-32203dd77cda"
      },
      "execution_count": null,
      "outputs": [
        {
          "output_type": "stream",
          "name": "stderr",
          "text": [
            "loading configuration file ./medical-finetuned/checkpoint-4245/config.json\n",
            "Model config BertConfig {\n",
            "  \"_name_or_path\": \"./medical-finetuned/checkpoint-4245/\",\n",
            "  \"architectures\": [\n",
            "    \"BertForSequenceClassification\"\n",
            "  ],\n",
            "  \"attention_probs_dropout_prob\": 0.1,\n",
            "  \"classifier_dropout\": null,\n",
            "  \"hidden_act\": \"gelu\",\n",
            "  \"hidden_dropout_prob\": 0.1,\n",
            "  \"hidden_size\": 768,\n",
            "  \"id2label\": {\n",
            "    \"0\": \"LABEL_0\",\n",
            "    \"1\": \"LABEL_1\",\n",
            "    \"2\": \"LABEL_2\",\n",
            "    \"3\": \"LABEL_3\",\n",
            "    \"4\": \"LABEL_4\",\n",
            "    \"5\": \"LABEL_5\",\n",
            "    \"6\": \"LABEL_6\",\n",
            "    \"7\": \"LABEL_7\",\n",
            "    \"8\": \"LABEL_8\",\n",
            "    \"9\": \"LABEL_9\",\n",
            "    \"10\": \"LABEL_10\",\n",
            "    \"11\": \"LABEL_11\",\n",
            "    \"12\": \"LABEL_12\",\n",
            "    \"13\": \"LABEL_13\",\n",
            "    \"14\": \"LABEL_14\",\n",
            "    \"15\": \"LABEL_15\",\n",
            "    \"16\": \"LABEL_16\",\n",
            "    \"17\": \"LABEL_17\",\n",
            "    \"18\": \"LABEL_18\",\n",
            "    \"19\": \"LABEL_19\",\n",
            "    \"20\": \"LABEL_20\",\n",
            "    \"21\": \"LABEL_21\",\n",
            "    \"22\": \"LABEL_22\",\n",
            "    \"23\": \"LABEL_23\",\n",
            "    \"24\": \"LABEL_24\",\n",
            "    \"25\": \"LABEL_25\",\n",
            "    \"26\": \"LABEL_26\",\n",
            "    \"27\": \"LABEL_27\",\n",
            "    \"28\": \"LABEL_28\",\n",
            "    \"29\": \"LABEL_29\",\n",
            "    \"30\": \"LABEL_30\",\n",
            "    \"31\": \"LABEL_31\",\n",
            "    \"32\": \"LABEL_32\",\n",
            "    \"33\": \"LABEL_33\",\n",
            "    \"34\": \"LABEL_34\",\n",
            "    \"35\": \"LABEL_35\",\n",
            "    \"36\": \"LABEL_36\",\n",
            "    \"37\": \"LABEL_37\",\n",
            "    \"38\": \"LABEL_38\",\n",
            "    \"39\": \"LABEL_39\",\n",
            "    \"40\": \"LABEL_40\",\n",
            "    \"41\": \"LABEL_41\",\n",
            "    \"42\": \"LABEL_42\",\n",
            "    \"43\": \"LABEL_43\",\n",
            "    \"44\": \"LABEL_44\",\n",
            "    \"45\": \"LABEL_45\",\n",
            "    \"46\": \"LABEL_46\",\n",
            "    \"47\": \"LABEL_47\",\n",
            "    \"48\": \"LABEL_48\",\n",
            "    \"49\": \"LABEL_49\"\n",
            "  },\n",
            "  \"initializer_range\": 0.02,\n",
            "  \"intermediate_size\": 3072,\n",
            "  \"label2id\": {\n",
            "    \"LABEL_0\": 0,\n",
            "    \"LABEL_1\": 1,\n",
            "    \"LABEL_10\": 10,\n",
            "    \"LABEL_11\": 11,\n",
            "    \"LABEL_12\": 12,\n",
            "    \"LABEL_13\": 13,\n",
            "    \"LABEL_14\": 14,\n",
            "    \"LABEL_15\": 15,\n",
            "    \"LABEL_16\": 16,\n",
            "    \"LABEL_17\": 17,\n",
            "    \"LABEL_18\": 18,\n",
            "    \"LABEL_19\": 19,\n",
            "    \"LABEL_2\": 2,\n",
            "    \"LABEL_20\": 20,\n",
            "    \"LABEL_21\": 21,\n",
            "    \"LABEL_22\": 22,\n",
            "    \"LABEL_23\": 23,\n",
            "    \"LABEL_24\": 24,\n",
            "    \"LABEL_25\": 25,\n",
            "    \"LABEL_26\": 26,\n",
            "    \"LABEL_27\": 27,\n",
            "    \"LABEL_28\": 28,\n",
            "    \"LABEL_29\": 29,\n",
            "    \"LABEL_3\": 3,\n",
            "    \"LABEL_30\": 30,\n",
            "    \"LABEL_31\": 31,\n",
            "    \"LABEL_32\": 32,\n",
            "    \"LABEL_33\": 33,\n",
            "    \"LABEL_34\": 34,\n",
            "    \"LABEL_35\": 35,\n",
            "    \"LABEL_36\": 36,\n",
            "    \"LABEL_37\": 37,\n",
            "    \"LABEL_38\": 38,\n",
            "    \"LABEL_39\": 39,\n",
            "    \"LABEL_4\": 4,\n",
            "    \"LABEL_40\": 40,\n",
            "    \"LABEL_41\": 41,\n",
            "    \"LABEL_42\": 42,\n",
            "    \"LABEL_43\": 43,\n",
            "    \"LABEL_44\": 44,\n",
            "    \"LABEL_45\": 45,\n",
            "    \"LABEL_46\": 46,\n",
            "    \"LABEL_47\": 47,\n",
            "    \"LABEL_48\": 48,\n",
            "    \"LABEL_49\": 49,\n",
            "    \"LABEL_5\": 5,\n",
            "    \"LABEL_6\": 6,\n",
            "    \"LABEL_7\": 7,\n",
            "    \"LABEL_8\": 8,\n",
            "    \"LABEL_9\": 9\n",
            "  },\n",
            "  \"layer_norm_eps\": 1e-12,\n",
            "  \"max_position_embeddings\": 512,\n",
            "  \"model_type\": \"bert\",\n",
            "  \"num_attention_heads\": 12,\n",
            "  \"num_hidden_layers\": 12,\n",
            "  \"pad_token_id\": 0,\n",
            "  \"position_embedding_type\": \"absolute\",\n",
            "  \"problem_type\": \"single_label_classification\",\n",
            "  \"torch_dtype\": \"float32\",\n",
            "  \"transformers_version\": \"4.17.0\",\n",
            "  \"type_vocab_size\": 2,\n",
            "  \"use_cache\": true,\n",
            "  \"vocab_size\": 28996\n",
            "}\n",
            "\n",
            "loading weights file ./medical-finetuned/checkpoint-4245/pytorch_model.bin\n",
            "All model checkpoint weights were used when initializing BertForSequenceClassification.\n",
            "\n",
            "All the weights of BertForSequenceClassification were initialized from the model checkpoint at ./medical-finetuned/checkpoint-4245/.\n",
            "If your task is similar to the task the model of the checkpoint was trained on, you can already use BertForSequenceClassification for predictions without further training.\n"
          ]
        }
      ]
    },
    {
      "cell_type": "code",
      "source": [
        "m1(encoded_dataset_val)"
      ],
      "metadata": {
        "colab": {
          "base_uri": "https://localhost:8080/",
          "height": 346
        },
        "id": "3uEVTKSub2vy",
        "outputId": "ec19d3b1-9d35-42da-c78c-3abae9128357"
      },
      "execution_count": null,
      "outputs": [
        {
          "output_type": "error",
          "ename": "AttributeError",
          "evalue": "ignored",
          "traceback": [
            "\u001b[0;31m---------------------------------------------------------------------------\u001b[0m",
            "\u001b[0;31mAttributeError\u001b[0m                            Traceback (most recent call last)",
            "\u001b[0;32m<ipython-input-60-bbfcc68e044c>\u001b[0m in \u001b[0;36m<module>\u001b[0;34m()\u001b[0m\n\u001b[0;32m----> 1\u001b[0;31m \u001b[0mm1\u001b[0m\u001b[0;34m(\u001b[0m\u001b[0mencoded_dataset_val\u001b[0m\u001b[0;34m)\u001b[0m\u001b[0;34m\u001b[0m\u001b[0;34m\u001b[0m\u001b[0m\n\u001b[0m",
            "\u001b[0;32m/usr/local/lib/python3.7/dist-packages/torch/nn/modules/module.py\u001b[0m in \u001b[0;36m_call_impl\u001b[0;34m(self, *input, **kwargs)\u001b[0m\n\u001b[1;32m   1100\u001b[0m         if not (self._backward_hooks or self._forward_hooks or self._forward_pre_hooks or _global_backward_hooks\n\u001b[1;32m   1101\u001b[0m                 or _global_forward_hooks or _global_forward_pre_hooks):\n\u001b[0;32m-> 1102\u001b[0;31m             \u001b[0;32mreturn\u001b[0m \u001b[0mforward_call\u001b[0m\u001b[0;34m(\u001b[0m\u001b[0;34m*\u001b[0m\u001b[0minput\u001b[0m\u001b[0;34m,\u001b[0m \u001b[0;34m**\u001b[0m\u001b[0mkwargs\u001b[0m\u001b[0;34m)\u001b[0m\u001b[0;34m\u001b[0m\u001b[0;34m\u001b[0m\u001b[0m\n\u001b[0m\u001b[1;32m   1103\u001b[0m         \u001b[0;31m# Do not call functions when jit is used\u001b[0m\u001b[0;34m\u001b[0m\u001b[0;34m\u001b[0m\u001b[0;34m\u001b[0m\u001b[0m\n\u001b[1;32m   1104\u001b[0m         \u001b[0mfull_backward_hooks\u001b[0m\u001b[0;34m,\u001b[0m \u001b[0mnon_full_backward_hooks\u001b[0m \u001b[0;34m=\u001b[0m \u001b[0;34m[\u001b[0m\u001b[0;34m]\u001b[0m\u001b[0;34m,\u001b[0m \u001b[0;34m[\u001b[0m\u001b[0;34m]\u001b[0m\u001b[0;34m\u001b[0m\u001b[0;34m\u001b[0m\u001b[0m\n",
            "\u001b[0;32m/usr/local/lib/python3.7/dist-packages/transformers/models/bert/modeling_bert.py\u001b[0m in \u001b[0;36mforward\u001b[0;34m(self, input_ids, attention_mask, token_type_ids, position_ids, head_mask, inputs_embeds, labels, output_attentions, output_hidden_states, return_dict)\u001b[0m\n\u001b[1;32m   1552\u001b[0m             \u001b[0moutput_attentions\u001b[0m\u001b[0;34m=\u001b[0m\u001b[0moutput_attentions\u001b[0m\u001b[0;34m,\u001b[0m\u001b[0;34m\u001b[0m\u001b[0;34m\u001b[0m\u001b[0m\n\u001b[1;32m   1553\u001b[0m             \u001b[0moutput_hidden_states\u001b[0m\u001b[0;34m=\u001b[0m\u001b[0moutput_hidden_states\u001b[0m\u001b[0;34m,\u001b[0m\u001b[0;34m\u001b[0m\u001b[0;34m\u001b[0m\u001b[0m\n\u001b[0;32m-> 1554\u001b[0;31m             \u001b[0mreturn_dict\u001b[0m\u001b[0;34m=\u001b[0m\u001b[0mreturn_dict\u001b[0m\u001b[0;34m,\u001b[0m\u001b[0;34m\u001b[0m\u001b[0;34m\u001b[0m\u001b[0m\n\u001b[0m\u001b[1;32m   1555\u001b[0m         )\n\u001b[1;32m   1556\u001b[0m \u001b[0;34m\u001b[0m\u001b[0m\n",
            "\u001b[0;32m/usr/local/lib/python3.7/dist-packages/torch/nn/modules/module.py\u001b[0m in \u001b[0;36m_call_impl\u001b[0;34m(self, *input, **kwargs)\u001b[0m\n\u001b[1;32m   1100\u001b[0m         if not (self._backward_hooks or self._forward_hooks or self._forward_pre_hooks or _global_backward_hooks\n\u001b[1;32m   1101\u001b[0m                 or _global_forward_hooks or _global_forward_pre_hooks):\n\u001b[0;32m-> 1102\u001b[0;31m             \u001b[0;32mreturn\u001b[0m \u001b[0mforward_call\u001b[0m\u001b[0;34m(\u001b[0m\u001b[0;34m*\u001b[0m\u001b[0minput\u001b[0m\u001b[0;34m,\u001b[0m \u001b[0;34m**\u001b[0m\u001b[0mkwargs\u001b[0m\u001b[0;34m)\u001b[0m\u001b[0;34m\u001b[0m\u001b[0;34m\u001b[0m\u001b[0m\n\u001b[0m\u001b[1;32m   1103\u001b[0m         \u001b[0;31m# Do not call functions when jit is used\u001b[0m\u001b[0;34m\u001b[0m\u001b[0;34m\u001b[0m\u001b[0;34m\u001b[0m\u001b[0m\n\u001b[1;32m   1104\u001b[0m         \u001b[0mfull_backward_hooks\u001b[0m\u001b[0;34m,\u001b[0m \u001b[0mnon_full_backward_hooks\u001b[0m \u001b[0;34m=\u001b[0m \u001b[0;34m[\u001b[0m\u001b[0;34m]\u001b[0m\u001b[0;34m,\u001b[0m \u001b[0;34m[\u001b[0m\u001b[0;34m]\u001b[0m\u001b[0;34m\u001b[0m\u001b[0;34m\u001b[0m\u001b[0m\n",
            "\u001b[0;32m/usr/local/lib/python3.7/dist-packages/transformers/models/bert/modeling_bert.py\u001b[0m in \u001b[0;36mforward\u001b[0;34m(self, input_ids, attention_mask, token_type_ids, position_ids, head_mask, inputs_embeds, encoder_hidden_states, encoder_attention_mask, past_key_values, use_cache, output_attentions, output_hidden_states, return_dict)\u001b[0m\n\u001b[1;32m    942\u001b[0m             \u001b[0;32mraise\u001b[0m \u001b[0mValueError\u001b[0m\u001b[0;34m(\u001b[0m\u001b[0;34m\"You cannot specify both input_ids and inputs_embeds at the same time\"\u001b[0m\u001b[0;34m)\u001b[0m\u001b[0;34m\u001b[0m\u001b[0;34m\u001b[0m\u001b[0m\n\u001b[1;32m    943\u001b[0m         \u001b[0;32melif\u001b[0m \u001b[0minput_ids\u001b[0m \u001b[0;32mis\u001b[0m \u001b[0;32mnot\u001b[0m \u001b[0;32mNone\u001b[0m\u001b[0;34m:\u001b[0m\u001b[0;34m\u001b[0m\u001b[0;34m\u001b[0m\u001b[0m\n\u001b[0;32m--> 944\u001b[0;31m             \u001b[0minput_shape\u001b[0m \u001b[0;34m=\u001b[0m \u001b[0minput_ids\u001b[0m\u001b[0;34m.\u001b[0m\u001b[0msize\u001b[0m\u001b[0;34m(\u001b[0m\u001b[0;34m)\u001b[0m\u001b[0;34m\u001b[0m\u001b[0;34m\u001b[0m\u001b[0m\n\u001b[0m\u001b[1;32m    945\u001b[0m         \u001b[0;32melif\u001b[0m \u001b[0minputs_embeds\u001b[0m \u001b[0;32mis\u001b[0m \u001b[0;32mnot\u001b[0m \u001b[0;32mNone\u001b[0m\u001b[0;34m:\u001b[0m\u001b[0;34m\u001b[0m\u001b[0;34m\u001b[0m\u001b[0m\n\u001b[1;32m    946\u001b[0m             \u001b[0minput_shape\u001b[0m \u001b[0;34m=\u001b[0m \u001b[0minputs_embeds\u001b[0m\u001b[0;34m.\u001b[0m\u001b[0msize\u001b[0m\u001b[0;34m(\u001b[0m\u001b[0;34m)\u001b[0m\u001b[0;34m[\u001b[0m\u001b[0;34m:\u001b[0m\u001b[0;34m-\u001b[0m\u001b[0;36m1\u001b[0m\u001b[0;34m]\u001b[0m\u001b[0;34m\u001b[0m\u001b[0;34m\u001b[0m\u001b[0m\n",
            "\u001b[0;31mAttributeError\u001b[0m: 'Dataset' object has no attribute 'size'"
          ]
        }
      ]
    },
    {
      "cell_type": "code",
      "source": [
        "columns_to_return = ['input_ids', 'label', 'attention_mask']\n",
        "encoded_dataset_train.set_format(type='torch', columns=columns_to_return)\n",
        "encoded_dataset_val.set_format(type='torch', columns=columns_to_return)"
      ],
      "metadata": {
        "id": "IEG2DuMBcnt7"
      },
      "execution_count": null,
      "outputs": []
    },
    {
      "cell_type": "code",
      "source": [
        "m1.classifier"
      ],
      "metadata": {
        "colab": {
          "base_uri": "https://localhost:8080/"
        },
        "id": "aOmPwfO7aoZf",
        "outputId": "720e83dd-af63-490a-ebe9-c2cb435ed7e6"
      },
      "execution_count": null,
      "outputs": [
        {
          "output_type": "execute_result",
          "data": {
            "text/plain": [
              "Linear(in_features=768, out_features=50, bias=True)"
            ]
          },
          "metadata": {},
          "execution_count": 46
        }
      ]
    },
    {
      "cell_type": "code",
      "execution_count": null,
      "metadata": {
        "colab": {
          "base_uri": "https://localhost:8080/",
          "height": 1000
        },
        "id": "gWmJGyVwd-iG",
        "outputId": "b2e0bbbf-7cd8-45b8-fa34-658e3033a64d"
      },
      "outputs": [
        {
          "output_type": "stream",
          "name": "stderr",
          "text": [
            "The following columns in the training set  don't have a corresponding argument in `BertForSequenceClassification.forward` and have been ignored: sentence, __index_level_0__. If sentence, __index_level_0__ are not expected by `BertForSequenceClassification.forward`,  you can safely ignore this message.\n",
            "/usr/local/lib/python3.7/dist-packages/transformers/optimization.py:309: FutureWarning: This implementation of AdamW is deprecated and will be removed in a future version. Use the PyTorch implementation torch.optim.AdamW instead, or set `no_deprecation_warning=True` to disable this warning\n",
            "  FutureWarning,\n",
            "***** Running training *****\n",
            "  Num examples = 668\n",
            "  Num Epochs = 5\n",
            "  Instantaneous batch size per device = 32\n",
            "  Total train batch size (w. parallel, distributed & accumulation) = 32\n",
            "  Gradient Accumulation steps = 1\n",
            "  Total optimization steps = 105\n"
          ]
        },
        {
          "output_type": "display_data",
          "data": {
            "text/plain": [
              "<IPython.core.display.HTML object>"
            ],
            "text/html": [
              "\n",
              "    <div>\n",
              "      \n",
              "      <progress value='105' max='105' style='width:300px; height:20px; vertical-align: middle;'></progress>\n",
              "      [105/105 01:56, Epoch 5/5]\n",
              "    </div>\n",
              "    <table border=\"1\" class=\"dataframe\">\n",
              "  <thead>\n",
              " <tr style=\"text-align: left;\">\n",
              "      <th>Epoch</th>\n",
              "      <th>Training Loss</th>\n",
              "      <th>Validation Loss</th>\n",
              "      <th>Accuracy</th>\n",
              "      <th>F1</th>\n",
              "      <th>Precision</th>\n",
              "      <th>Recall</th>\n",
              "    </tr>\n",
              "  </thead>\n",
              "  <tbody>\n",
              "    <tr>\n",
              "      <td>1</td>\n",
              "      <td>No log</td>\n",
              "      <td>3.095351</td>\n",
              "      <td>0.506061</td>\n",
              "      <td>0.262821</td>\n",
              "      <td>0.248094</td>\n",
              "      <td>0.328736</td>\n",
              "    </tr>\n",
              "    <tr>\n",
              "      <td>2</td>\n",
              "      <td>No log</td>\n",
              "      <td>2.491139</td>\n",
              "      <td>0.654545</td>\n",
              "      <td>0.387783</td>\n",
              "      <td>0.377002</td>\n",
              "      <td>0.424839</td>\n",
              "    </tr>\n",
              "    <tr>\n",
              "      <td>3</td>\n",
              "      <td>No log</td>\n",
              "      <td>2.037671</td>\n",
              "      <td>0.800000</td>\n",
              "      <td>0.582829</td>\n",
              "      <td>0.588836</td>\n",
              "      <td>0.595455</td>\n",
              "    </tr>\n",
              "    <tr>\n",
              "      <td>4</td>\n",
              "      <td>No log</td>\n",
              "      <td>1.798174</td>\n",
              "      <td>0.824242</td>\n",
              "      <td>0.596699</td>\n",
              "      <td>0.591393</td>\n",
              "      <td>0.613636</td>\n",
              "    </tr>\n",
              "    <tr>\n",
              "      <td>5</td>\n",
              "      <td>No log</td>\n",
              "      <td>1.712147</td>\n",
              "      <td>0.866667</td>\n",
              "      <td>0.686627</td>\n",
              "      <td>0.687894</td>\n",
              "      <td>0.695455</td>\n",
              "    </tr>\n",
              "  </tbody>\n",
              "</table><p>"
            ]
          },
          "metadata": {}
        },
        {
          "output_type": "stream",
          "name": "stderr",
          "text": [
            "The following columns in the evaluation set  don't have a corresponding argument in `BertForSequenceClassification.forward` and have been ignored: sentence, __index_level_0__. If sentence, __index_level_0__ are not expected by `BertForSequenceClassification.forward`,  you can safely ignore this message.\n",
            "***** Running Evaluation *****\n",
            "  Num examples = 330\n",
            "  Batch size = 32\n",
            "/usr/local/lib/python3.7/dist-packages/sklearn/metrics/_classification.py:1318: UndefinedMetricWarning: Precision and F-score are ill-defined and being set to 0.0 in labels with no predicted samples. Use `zero_division` parameter to control this behavior.\n",
            "  _warn_prf(average, modifier, msg_start, len(result))\n",
            "Saving model checkpoint to medical-finetuned/checkpoint-21\n",
            "Configuration saved in medical-finetuned/checkpoint-21/config.json\n",
            "Model weights saved in medical-finetuned/checkpoint-21/pytorch_model.bin\n",
            "tokenizer config file saved in medical-finetuned/checkpoint-21/tokenizer_config.json\n",
            "Special tokens file saved in medical-finetuned/checkpoint-21/special_tokens_map.json\n",
            "The following columns in the evaluation set  don't have a corresponding argument in `BertForSequenceClassification.forward` and have been ignored: sentence, __index_level_0__. If sentence, __index_level_0__ are not expected by `BertForSequenceClassification.forward`,  you can safely ignore this message.\n",
            "***** Running Evaluation *****\n",
            "  Num examples = 330\n",
            "  Batch size = 32\n",
            "/usr/local/lib/python3.7/dist-packages/sklearn/metrics/_classification.py:1318: UndefinedMetricWarning: Precision and F-score are ill-defined and being set to 0.0 in labels with no predicted samples. Use `zero_division` parameter to control this behavior.\n",
            "  _warn_prf(average, modifier, msg_start, len(result))\n",
            "Saving model checkpoint to medical-finetuned/checkpoint-42\n",
            "Configuration saved in medical-finetuned/checkpoint-42/config.json\n",
            "Model weights saved in medical-finetuned/checkpoint-42/pytorch_model.bin\n",
            "tokenizer config file saved in medical-finetuned/checkpoint-42/tokenizer_config.json\n",
            "Special tokens file saved in medical-finetuned/checkpoint-42/special_tokens_map.json\n",
            "The following columns in the evaluation set  don't have a corresponding argument in `BertForSequenceClassification.forward` and have been ignored: sentence, __index_level_0__. If sentence, __index_level_0__ are not expected by `BertForSequenceClassification.forward`,  you can safely ignore this message.\n",
            "***** Running Evaluation *****\n",
            "  Num examples = 330\n",
            "  Batch size = 32\n",
            "/usr/local/lib/python3.7/dist-packages/sklearn/metrics/_classification.py:1318: UndefinedMetricWarning: Precision and F-score are ill-defined and being set to 0.0 in labels with no predicted samples. Use `zero_division` parameter to control this behavior.\n",
            "  _warn_prf(average, modifier, msg_start, len(result))\n",
            "Saving model checkpoint to medical-finetuned/checkpoint-63\n",
            "Configuration saved in medical-finetuned/checkpoint-63/config.json\n",
            "Model weights saved in medical-finetuned/checkpoint-63/pytorch_model.bin\n",
            "tokenizer config file saved in medical-finetuned/checkpoint-63/tokenizer_config.json\n",
            "Special tokens file saved in medical-finetuned/checkpoint-63/special_tokens_map.json\n",
            "The following columns in the evaluation set  don't have a corresponding argument in `BertForSequenceClassification.forward` and have been ignored: sentence, __index_level_0__. If sentence, __index_level_0__ are not expected by `BertForSequenceClassification.forward`,  you can safely ignore this message.\n",
            "***** Running Evaluation *****\n",
            "  Num examples = 330\n",
            "  Batch size = 32\n",
            "/usr/local/lib/python3.7/dist-packages/sklearn/metrics/_classification.py:1318: UndefinedMetricWarning: Precision and F-score are ill-defined and being set to 0.0 in labels with no predicted samples. Use `zero_division` parameter to control this behavior.\n",
            "  _warn_prf(average, modifier, msg_start, len(result))\n",
            "Saving model checkpoint to medical-finetuned/checkpoint-84\n",
            "Configuration saved in medical-finetuned/checkpoint-84/config.json\n",
            "Model weights saved in medical-finetuned/checkpoint-84/pytorch_model.bin\n",
            "tokenizer config file saved in medical-finetuned/checkpoint-84/tokenizer_config.json\n",
            "Special tokens file saved in medical-finetuned/checkpoint-84/special_tokens_map.json\n",
            "The following columns in the evaluation set  don't have a corresponding argument in `BertForSequenceClassification.forward` and have been ignored: sentence, __index_level_0__. If sentence, __index_level_0__ are not expected by `BertForSequenceClassification.forward`,  you can safely ignore this message.\n",
            "***** Running Evaluation *****\n",
            "  Num examples = 330\n",
            "  Batch size = 32\n",
            "/usr/local/lib/python3.7/dist-packages/sklearn/metrics/_classification.py:1318: UndefinedMetricWarning: Precision and F-score are ill-defined and being set to 0.0 in labels with no predicted samples. Use `zero_division` parameter to control this behavior.\n",
            "  _warn_prf(average, modifier, msg_start, len(result))\n",
            "Saving model checkpoint to medical-finetuned/checkpoint-105\n",
            "Configuration saved in medical-finetuned/checkpoint-105/config.json\n",
            "Model weights saved in medical-finetuned/checkpoint-105/pytorch_model.bin\n",
            "tokenizer config file saved in medical-finetuned/checkpoint-105/tokenizer_config.json\n",
            "Special tokens file saved in medical-finetuned/checkpoint-105/special_tokens_map.json\n",
            "\n",
            "\n",
            "Training completed. Do not forget to share your model on huggingface.co/models =)\n",
            "\n",
            "\n",
            "Loading best model from medical-finetuned/checkpoint-105 (score: 0.8666666666666667).\n"
          ]
        },
        {
          "output_type": "execute_result",
          "data": {
            "text/plain": [
              "TrainOutput(global_step=105, training_loss=2.523679896763393, metrics={'train_runtime': 117.4686, 'train_samples_per_second': 28.433, 'train_steps_per_second': 0.894, 'total_flos': 109891276024320.0, 'train_loss': 2.523679896763393, 'epoch': 5.0})"
            ]
          },
          "metadata": {},
          "execution_count": 127
        }
      ],
      "source": [
        "trainer.train()"
      ]
    },
    {
      "cell_type": "code",
      "execution_count": null,
      "metadata": {
        "id": "XYXsVrmieanx"
      },
      "outputs": [],
      "source": [
        ""
      ]
    }
  ],
  "metadata": {
    "accelerator": "GPU",
    "colab": {
      "name": "Polina_solution_final.ipynb",
      "provenance": [],
      "collapsed_sections": []
    },
    "kernelspec": {
      "display_name": "Python 3",
      "name": "python3"
    },
    "language_info": {
      "name": "python"
    },
    "widgets": {
      "application/vnd.jupyter.widget-state+json": {
        "a58e3e433f6349058671ed2e8a19d7ba": {
          "model_module": "@jupyter-widgets/controls",
          "model_name": "HBoxModel",
          "model_module_version": "1.5.0",
          "state": {
            "_dom_classes": [],
            "_model_module": "@jupyter-widgets/controls",
            "_model_module_version": "1.5.0",
            "_model_name": "HBoxModel",
            "_view_count": null,
            "_view_module": "@jupyter-widgets/controls",
            "_view_module_version": "1.5.0",
            "_view_name": "HBoxView",
            "box_style": "",
            "children": [
              "IPY_MODEL_03dfbc405bc34f9b904a60fe1a191f62",
              "IPY_MODEL_3073ad3b3ef94ee9bfe79fb8fac7a43f",
              "IPY_MODEL_d934f4c98693467097b83cbfea95c8fd"
            ],
            "layout": "IPY_MODEL_9c090e5e04d64babbf13e4ea9ea577b5"
          }
        },
        "03dfbc405bc34f9b904a60fe1a191f62": {
          "model_module": "@jupyter-widgets/controls",
          "model_name": "HTMLModel",
          "model_module_version": "1.5.0",
          "state": {
            "_dom_classes": [],
            "_model_module": "@jupyter-widgets/controls",
            "_model_module_version": "1.5.0",
            "_model_name": "HTMLModel",
            "_view_count": null,
            "_view_module": "@jupyter-widgets/controls",
            "_view_module_version": "1.5.0",
            "_view_name": "HTMLView",
            "description": "",
            "description_tooltip": null,
            "layout": "IPY_MODEL_33c258bd69bc43e9a1c62e925907fd29",
            "placeholder": "​",
            "style": "IPY_MODEL_9e4dc5fd7cb443ee8c1e34bb5da1a90a",
            "value": "Downloading: 100%"
          }
        },
        "3073ad3b3ef94ee9bfe79fb8fac7a43f": {
          "model_module": "@jupyter-widgets/controls",
          "model_name": "FloatProgressModel",
          "model_module_version": "1.5.0",
          "state": {
            "_dom_classes": [],
            "_model_module": "@jupyter-widgets/controls",
            "_model_module_version": "1.5.0",
            "_model_name": "FloatProgressModel",
            "_view_count": null,
            "_view_module": "@jupyter-widgets/controls",
            "_view_module_version": "1.5.0",
            "_view_name": "ProgressView",
            "bar_style": "success",
            "description": "",
            "description_tooltip": null,
            "layout": "IPY_MODEL_7451bb167ab043a19dd61ed2d2c354f1",
            "max": 385,
            "min": 0,
            "orientation": "horizontal",
            "style": "IPY_MODEL_f937f9e428264cc5a0b2467f9e50cfca",
            "value": 385
          }
        },
        "d934f4c98693467097b83cbfea95c8fd": {
          "model_module": "@jupyter-widgets/controls",
          "model_name": "HTMLModel",
          "model_module_version": "1.5.0",
          "state": {
            "_dom_classes": [],
            "_model_module": "@jupyter-widgets/controls",
            "_model_module_version": "1.5.0",
            "_model_name": "HTMLModel",
            "_view_count": null,
            "_view_module": "@jupyter-widgets/controls",
            "_view_module_version": "1.5.0",
            "_view_name": "HTMLView",
            "description": "",
            "description_tooltip": null,
            "layout": "IPY_MODEL_014dcd4e9146485eb42c86ac625c20db",
            "placeholder": "​",
            "style": "IPY_MODEL_98987b7440e74c83bc70ce42690785a9",
            "value": " 385/385 [00:00&lt;00:00, 3.78kB/s]"
          }
        },
        "9c090e5e04d64babbf13e4ea9ea577b5": {
          "model_module": "@jupyter-widgets/base",
          "model_name": "LayoutModel",
          "model_module_version": "1.2.0",
          "state": {
            "_model_module": "@jupyter-widgets/base",
            "_model_module_version": "1.2.0",
            "_model_name": "LayoutModel",
            "_view_count": null,
            "_view_module": "@jupyter-widgets/base",
            "_view_module_version": "1.2.0",
            "_view_name": "LayoutView",
            "align_content": null,
            "align_items": null,
            "align_self": null,
            "border": null,
            "bottom": null,
            "display": null,
            "flex": null,
            "flex_flow": null,
            "grid_area": null,
            "grid_auto_columns": null,
            "grid_auto_flow": null,
            "grid_auto_rows": null,
            "grid_column": null,
            "grid_gap": null,
            "grid_row": null,
            "grid_template_areas": null,
            "grid_template_columns": null,
            "grid_template_rows": null,
            "height": null,
            "justify_content": null,
            "justify_items": null,
            "left": null,
            "margin": null,
            "max_height": null,
            "max_width": null,
            "min_height": null,
            "min_width": null,
            "object_fit": null,
            "object_position": null,
            "order": null,
            "overflow": null,
            "overflow_x": null,
            "overflow_y": null,
            "padding": null,
            "right": null,
            "top": null,
            "visibility": null,
            "width": null
          }
        },
        "33c258bd69bc43e9a1c62e925907fd29": {
          "model_module": "@jupyter-widgets/base",
          "model_name": "LayoutModel",
          "model_module_version": "1.2.0",
          "state": {
            "_model_module": "@jupyter-widgets/base",
            "_model_module_version": "1.2.0",
            "_model_name": "LayoutModel",
            "_view_count": null,
            "_view_module": "@jupyter-widgets/base",
            "_view_module_version": "1.2.0",
            "_view_name": "LayoutView",
            "align_content": null,
            "align_items": null,
            "align_self": null,
            "border": null,
            "bottom": null,
            "display": null,
            "flex": null,
            "flex_flow": null,
            "grid_area": null,
            "grid_auto_columns": null,
            "grid_auto_flow": null,
            "grid_auto_rows": null,
            "grid_column": null,
            "grid_gap": null,
            "grid_row": null,
            "grid_template_areas": null,
            "grid_template_columns": null,
            "grid_template_rows": null,
            "height": null,
            "justify_content": null,
            "justify_items": null,
            "left": null,
            "margin": null,
            "max_height": null,
            "max_width": null,
            "min_height": null,
            "min_width": null,
            "object_fit": null,
            "object_position": null,
            "order": null,
            "overflow": null,
            "overflow_x": null,
            "overflow_y": null,
            "padding": null,
            "right": null,
            "top": null,
            "visibility": null,
            "width": null
          }
        },
        "9e4dc5fd7cb443ee8c1e34bb5da1a90a": {
          "model_module": "@jupyter-widgets/controls",
          "model_name": "DescriptionStyleModel",
          "model_module_version": "1.5.0",
          "state": {
            "_model_module": "@jupyter-widgets/controls",
            "_model_module_version": "1.5.0",
            "_model_name": "DescriptionStyleModel",
            "_view_count": null,
            "_view_module": "@jupyter-widgets/base",
            "_view_module_version": "1.2.0",
            "_view_name": "StyleView",
            "description_width": ""
          }
        },
        "7451bb167ab043a19dd61ed2d2c354f1": {
          "model_module": "@jupyter-widgets/base",
          "model_name": "LayoutModel",
          "model_module_version": "1.2.0",
          "state": {
            "_model_module": "@jupyter-widgets/base",
            "_model_module_version": "1.2.0",
            "_model_name": "LayoutModel",
            "_view_count": null,
            "_view_module": "@jupyter-widgets/base",
            "_view_module_version": "1.2.0",
            "_view_name": "LayoutView",
            "align_content": null,
            "align_items": null,
            "align_self": null,
            "border": null,
            "bottom": null,
            "display": null,
            "flex": null,
            "flex_flow": null,
            "grid_area": null,
            "grid_auto_columns": null,
            "grid_auto_flow": null,
            "grid_auto_rows": null,
            "grid_column": null,
            "grid_gap": null,
            "grid_row": null,
            "grid_template_areas": null,
            "grid_template_columns": null,
            "grid_template_rows": null,
            "height": null,
            "justify_content": null,
            "justify_items": null,
            "left": null,
            "margin": null,
            "max_height": null,
            "max_width": null,
            "min_height": null,
            "min_width": null,
            "object_fit": null,
            "object_position": null,
            "order": null,
            "overflow": null,
            "overflow_x": null,
            "overflow_y": null,
            "padding": null,
            "right": null,
            "top": null,
            "visibility": null,
            "width": null
          }
        },
        "f937f9e428264cc5a0b2467f9e50cfca": {
          "model_module": "@jupyter-widgets/controls",
          "model_name": "ProgressStyleModel",
          "model_module_version": "1.5.0",
          "state": {
            "_model_module": "@jupyter-widgets/controls",
            "_model_module_version": "1.5.0",
            "_model_name": "ProgressStyleModel",
            "_view_count": null,
            "_view_module": "@jupyter-widgets/base",
            "_view_module_version": "1.2.0",
            "_view_name": "StyleView",
            "bar_color": null,
            "description_width": ""
          }
        },
        "014dcd4e9146485eb42c86ac625c20db": {
          "model_module": "@jupyter-widgets/base",
          "model_name": "LayoutModel",
          "model_module_version": "1.2.0",
          "state": {
            "_model_module": "@jupyter-widgets/base",
            "_model_module_version": "1.2.0",
            "_model_name": "LayoutModel",
            "_view_count": null,
            "_view_module": "@jupyter-widgets/base",
            "_view_module_version": "1.2.0",
            "_view_name": "LayoutView",
            "align_content": null,
            "align_items": null,
            "align_self": null,
            "border": null,
            "bottom": null,
            "display": null,
            "flex": null,
            "flex_flow": null,
            "grid_area": null,
            "grid_auto_columns": null,
            "grid_auto_flow": null,
            "grid_auto_rows": null,
            "grid_column": null,
            "grid_gap": null,
            "grid_row": null,
            "grid_template_areas": null,
            "grid_template_columns": null,
            "grid_template_rows": null,
            "height": null,
            "justify_content": null,
            "justify_items": null,
            "left": null,
            "margin": null,
            "max_height": null,
            "max_width": null,
            "min_height": null,
            "min_width": null,
            "object_fit": null,
            "object_position": null,
            "order": null,
            "overflow": null,
            "overflow_x": null,
            "overflow_y": null,
            "padding": null,
            "right": null,
            "top": null,
            "visibility": null,
            "width": null
          }
        },
        "98987b7440e74c83bc70ce42690785a9": {
          "model_module": "@jupyter-widgets/controls",
          "model_name": "DescriptionStyleModel",
          "model_module_version": "1.5.0",
          "state": {
            "_model_module": "@jupyter-widgets/controls",
            "_model_module_version": "1.5.0",
            "_model_name": "DescriptionStyleModel",
            "_view_count": null,
            "_view_module": "@jupyter-widgets/base",
            "_view_module_version": "1.2.0",
            "_view_name": "StyleView",
            "description_width": ""
          }
        },
        "c2ad9a8202624f9389437259800661c7": {
          "model_module": "@jupyter-widgets/controls",
          "model_name": "HBoxModel",
          "model_module_version": "1.5.0",
          "state": {
            "_dom_classes": [],
            "_model_module": "@jupyter-widgets/controls",
            "_model_module_version": "1.5.0",
            "_model_name": "HBoxModel",
            "_view_count": null,
            "_view_module": "@jupyter-widgets/controls",
            "_view_module_version": "1.5.0",
            "_view_name": "HBoxView",
            "box_style": "",
            "children": [
              "IPY_MODEL_51d5484ca52d4bdc9c01e27bae9dbea9",
              "IPY_MODEL_d9e4b2601184491796693fe77dabf4cd",
              "IPY_MODEL_5a743350a6704bd1b5ee19ac8bdb293c"
            ],
            "layout": "IPY_MODEL_0719cb4ea1b74069909246495192d130"
          }
        },
        "51d5484ca52d4bdc9c01e27bae9dbea9": {
          "model_module": "@jupyter-widgets/controls",
          "model_name": "HTMLModel",
          "model_module_version": "1.5.0",
          "state": {
            "_dom_classes": [],
            "_model_module": "@jupyter-widgets/controls",
            "_model_module_version": "1.5.0",
            "_model_name": "HTMLModel",
            "_view_count": null,
            "_view_module": "@jupyter-widgets/controls",
            "_view_module_version": "1.5.0",
            "_view_name": "HTMLView",
            "description": "",
            "description_tooltip": null,
            "layout": "IPY_MODEL_994ee1ae64184ab88df59ec8520ff791",
            "placeholder": "​",
            "style": "IPY_MODEL_f46159dcfcd040aa85b36b27f380892a",
            "value": "Downloading: 100%"
          }
        },
        "d9e4b2601184491796693fe77dabf4cd": {
          "model_module": "@jupyter-widgets/controls",
          "model_name": "FloatProgressModel",
          "model_module_version": "1.5.0",
          "state": {
            "_dom_classes": [],
            "_model_module": "@jupyter-widgets/controls",
            "_model_module_version": "1.5.0",
            "_model_name": "FloatProgressModel",
            "_view_count": null,
            "_view_module": "@jupyter-widgets/controls",
            "_view_module_version": "1.5.0",
            "_view_name": "ProgressView",
            "bar_style": "success",
            "description": "",
            "description_tooltip": null,
            "layout": "IPY_MODEL_f8fe7a2fa7fc490baf7c053e171563b1",
            "max": 213450,
            "min": 0,
            "orientation": "horizontal",
            "style": "IPY_MODEL_5c657b307bc446639e477d109c37272e",
            "value": 213450
          }
        },
        "5a743350a6704bd1b5ee19ac8bdb293c": {
          "model_module": "@jupyter-widgets/controls",
          "model_name": "HTMLModel",
          "model_module_version": "1.5.0",
          "state": {
            "_dom_classes": [],
            "_model_module": "@jupyter-widgets/controls",
            "_model_module_version": "1.5.0",
            "_model_name": "HTMLModel",
            "_view_count": null,
            "_view_module": "@jupyter-widgets/controls",
            "_view_module_version": "1.5.0",
            "_view_name": "HTMLView",
            "description": "",
            "description_tooltip": null,
            "layout": "IPY_MODEL_2c7baab8285744a8b3d239d3d976d5c2",
            "placeholder": "​",
            "style": "IPY_MODEL_52353025456c491d9df2a32ea7885891",
            "value": " 208k/208k [00:00&lt;00:00, 7.10kB/s]"
          }
        },
        "0719cb4ea1b74069909246495192d130": {
          "model_module": "@jupyter-widgets/base",
          "model_name": "LayoutModel",
          "model_module_version": "1.2.0",
          "state": {
            "_model_module": "@jupyter-widgets/base",
            "_model_module_version": "1.2.0",
            "_model_name": "LayoutModel",
            "_view_count": null,
            "_view_module": "@jupyter-widgets/base",
            "_view_module_version": "1.2.0",
            "_view_name": "LayoutView",
            "align_content": null,
            "align_items": null,
            "align_self": null,
            "border": null,
            "bottom": null,
            "display": null,
            "flex": null,
            "flex_flow": null,
            "grid_area": null,
            "grid_auto_columns": null,
            "grid_auto_flow": null,
            "grid_auto_rows": null,
            "grid_column": null,
            "grid_gap": null,
            "grid_row": null,
            "grid_template_areas": null,
            "grid_template_columns": null,
            "grid_template_rows": null,
            "height": null,
            "justify_content": null,
            "justify_items": null,
            "left": null,
            "margin": null,
            "max_height": null,
            "max_width": null,
            "min_height": null,
            "min_width": null,
            "object_fit": null,
            "object_position": null,
            "order": null,
            "overflow": null,
            "overflow_x": null,
            "overflow_y": null,
            "padding": null,
            "right": null,
            "top": null,
            "visibility": null,
            "width": null
          }
        },
        "994ee1ae64184ab88df59ec8520ff791": {
          "model_module": "@jupyter-widgets/base",
          "model_name": "LayoutModel",
          "model_module_version": "1.2.0",
          "state": {
            "_model_module": "@jupyter-widgets/base",
            "_model_module_version": "1.2.0",
            "_model_name": "LayoutModel",
            "_view_count": null,
            "_view_module": "@jupyter-widgets/base",
            "_view_module_version": "1.2.0",
            "_view_name": "LayoutView",
            "align_content": null,
            "align_items": null,
            "align_self": null,
            "border": null,
            "bottom": null,
            "display": null,
            "flex": null,
            "flex_flow": null,
            "grid_area": null,
            "grid_auto_columns": null,
            "grid_auto_flow": null,
            "grid_auto_rows": null,
            "grid_column": null,
            "grid_gap": null,
            "grid_row": null,
            "grid_template_areas": null,
            "grid_template_columns": null,
            "grid_template_rows": null,
            "height": null,
            "justify_content": null,
            "justify_items": null,
            "left": null,
            "margin": null,
            "max_height": null,
            "max_width": null,
            "min_height": null,
            "min_width": null,
            "object_fit": null,
            "object_position": null,
            "order": null,
            "overflow": null,
            "overflow_x": null,
            "overflow_y": null,
            "padding": null,
            "right": null,
            "top": null,
            "visibility": null,
            "width": null
          }
        },
        "f46159dcfcd040aa85b36b27f380892a": {
          "model_module": "@jupyter-widgets/controls",
          "model_name": "DescriptionStyleModel",
          "model_module_version": "1.5.0",
          "state": {
            "_model_module": "@jupyter-widgets/controls",
            "_model_module_version": "1.5.0",
            "_model_name": "DescriptionStyleModel",
            "_view_count": null,
            "_view_module": "@jupyter-widgets/base",
            "_view_module_version": "1.2.0",
            "_view_name": "StyleView",
            "description_width": ""
          }
        },
        "f8fe7a2fa7fc490baf7c053e171563b1": {
          "model_module": "@jupyter-widgets/base",
          "model_name": "LayoutModel",
          "model_module_version": "1.2.0",
          "state": {
            "_model_module": "@jupyter-widgets/base",
            "_model_module_version": "1.2.0",
            "_model_name": "LayoutModel",
            "_view_count": null,
            "_view_module": "@jupyter-widgets/base",
            "_view_module_version": "1.2.0",
            "_view_name": "LayoutView",
            "align_content": null,
            "align_items": null,
            "align_self": null,
            "border": null,
            "bottom": null,
            "display": null,
            "flex": null,
            "flex_flow": null,
            "grid_area": null,
            "grid_auto_columns": null,
            "grid_auto_flow": null,
            "grid_auto_rows": null,
            "grid_column": null,
            "grid_gap": null,
            "grid_row": null,
            "grid_template_areas": null,
            "grid_template_columns": null,
            "grid_template_rows": null,
            "height": null,
            "justify_content": null,
            "justify_items": null,
            "left": null,
            "margin": null,
            "max_height": null,
            "max_width": null,
            "min_height": null,
            "min_width": null,
            "object_fit": null,
            "object_position": null,
            "order": null,
            "overflow": null,
            "overflow_x": null,
            "overflow_y": null,
            "padding": null,
            "right": null,
            "top": null,
            "visibility": null,
            "width": null
          }
        },
        "5c657b307bc446639e477d109c37272e": {
          "model_module": "@jupyter-widgets/controls",
          "model_name": "ProgressStyleModel",
          "model_module_version": "1.5.0",
          "state": {
            "_model_module": "@jupyter-widgets/controls",
            "_model_module_version": "1.5.0",
            "_model_name": "ProgressStyleModel",
            "_view_count": null,
            "_view_module": "@jupyter-widgets/base",
            "_view_module_version": "1.2.0",
            "_view_name": "StyleView",
            "bar_color": null,
            "description_width": ""
          }
        },
        "2c7baab8285744a8b3d239d3d976d5c2": {
          "model_module": "@jupyter-widgets/base",
          "model_name": "LayoutModel",
          "model_module_version": "1.2.0",
          "state": {
            "_model_module": "@jupyter-widgets/base",
            "_model_module_version": "1.2.0",
            "_model_name": "LayoutModel",
            "_view_count": null,
            "_view_module": "@jupyter-widgets/base",
            "_view_module_version": "1.2.0",
            "_view_name": "LayoutView",
            "align_content": null,
            "align_items": null,
            "align_self": null,
            "border": null,
            "bottom": null,
            "display": null,
            "flex": null,
            "flex_flow": null,
            "grid_area": null,
            "grid_auto_columns": null,
            "grid_auto_flow": null,
            "grid_auto_rows": null,
            "grid_column": null,
            "grid_gap": null,
            "grid_row": null,
            "grid_template_areas": null,
            "grid_template_columns": null,
            "grid_template_rows": null,
            "height": null,
            "justify_content": null,
            "justify_items": null,
            "left": null,
            "margin": null,
            "max_height": null,
            "max_width": null,
            "min_height": null,
            "min_width": null,
            "object_fit": null,
            "object_position": null,
            "order": null,
            "overflow": null,
            "overflow_x": null,
            "overflow_y": null,
            "padding": null,
            "right": null,
            "top": null,
            "visibility": null,
            "width": null
          }
        },
        "52353025456c491d9df2a32ea7885891": {
          "model_module": "@jupyter-widgets/controls",
          "model_name": "DescriptionStyleModel",
          "model_module_version": "1.5.0",
          "state": {
            "_model_module": "@jupyter-widgets/controls",
            "_model_module_version": "1.5.0",
            "_model_name": "DescriptionStyleModel",
            "_view_count": null,
            "_view_module": "@jupyter-widgets/base",
            "_view_module_version": "1.2.0",
            "_view_name": "StyleView",
            "description_width": ""
          }
        },
        "6d5899ec7aa94659b464275c68618cee": {
          "model_module": "@jupyter-widgets/controls",
          "model_name": "HBoxModel",
          "model_module_version": "1.5.0",
          "state": {
            "_dom_classes": [],
            "_model_module": "@jupyter-widgets/controls",
            "_model_module_version": "1.5.0",
            "_model_name": "HBoxModel",
            "_view_count": null,
            "_view_module": "@jupyter-widgets/controls",
            "_view_module_version": "1.5.0",
            "_view_name": "HBoxView",
            "box_style": "",
            "children": [
              "IPY_MODEL_a0d0d8281fa649f0b0ac5ed1848acc54",
              "IPY_MODEL_818b1c5b80d04967bdcc3bc4d1d589a0",
              "IPY_MODEL_8c1fdab61c8d428fb5f9285c6259b9f9"
            ],
            "layout": "IPY_MODEL_293e219794134f96a2cea1601caa6cb3"
          }
        },
        "a0d0d8281fa649f0b0ac5ed1848acc54": {
          "model_module": "@jupyter-widgets/controls",
          "model_name": "HTMLModel",
          "model_module_version": "1.5.0",
          "state": {
            "_dom_classes": [],
            "_model_module": "@jupyter-widgets/controls",
            "_model_module_version": "1.5.0",
            "_model_name": "HTMLModel",
            "_view_count": null,
            "_view_module": "@jupyter-widgets/controls",
            "_view_module_version": "1.5.0",
            "_view_name": "HTMLView",
            "description": "",
            "description_tooltip": null,
            "layout": "IPY_MODEL_2e51777978ad484faf5bd05eb6e90342",
            "placeholder": "​",
            "style": "IPY_MODEL_ddac70b66b6d491d827a04a758a6bf78",
            "value": "Downloading: 100%"
          }
        },
        "818b1c5b80d04967bdcc3bc4d1d589a0": {
          "model_module": "@jupyter-widgets/controls",
          "model_name": "FloatProgressModel",
          "model_module_version": "1.5.0",
          "state": {
            "_dom_classes": [],
            "_model_module": "@jupyter-widgets/controls",
            "_model_module_version": "1.5.0",
            "_model_name": "FloatProgressModel",
            "_view_count": null,
            "_view_module": "@jupyter-widgets/controls",
            "_view_module_version": "1.5.0",
            "_view_name": "ProgressView",
            "bar_style": "success",
            "description": "",
            "description_tooltip": null,
            "layout": "IPY_MODEL_7a10289e815742f28b3088b0bfcd402e",
            "max": 435778770,
            "min": 0,
            "orientation": "horizontal",
            "style": "IPY_MODEL_ce9195d32ffa46fe915e8a55149799f5",
            "value": 435778770
          }
        },
        "8c1fdab61c8d428fb5f9285c6259b9f9": {
          "model_module": "@jupyter-widgets/controls",
          "model_name": "HTMLModel",
          "model_module_version": "1.5.0",
          "state": {
            "_dom_classes": [],
            "_model_module": "@jupyter-widgets/controls",
            "_model_module_version": "1.5.0",
            "_model_name": "HTMLModel",
            "_view_count": null,
            "_view_module": "@jupyter-widgets/controls",
            "_view_module_version": "1.5.0",
            "_view_name": "HTMLView",
            "description": "",
            "description_tooltip": null,
            "layout": "IPY_MODEL_2f8fe7664c514b9a9d54c6552104ceef",
            "placeholder": "​",
            "style": "IPY_MODEL_33e0b6aa3f9e4d0a99ba2a5da12ddd53",
            "value": " 416M/416M [00:26&lt;00:00, 14.9MB/s]"
          }
        },
        "293e219794134f96a2cea1601caa6cb3": {
          "model_module": "@jupyter-widgets/base",
          "model_name": "LayoutModel",
          "model_module_version": "1.2.0",
          "state": {
            "_model_module": "@jupyter-widgets/base",
            "_model_module_version": "1.2.0",
            "_model_name": "LayoutModel",
            "_view_count": null,
            "_view_module": "@jupyter-widgets/base",
            "_view_module_version": "1.2.0",
            "_view_name": "LayoutView",
            "align_content": null,
            "align_items": null,
            "align_self": null,
            "border": null,
            "bottom": null,
            "display": null,
            "flex": null,
            "flex_flow": null,
            "grid_area": null,
            "grid_auto_columns": null,
            "grid_auto_flow": null,
            "grid_auto_rows": null,
            "grid_column": null,
            "grid_gap": null,
            "grid_row": null,
            "grid_template_areas": null,
            "grid_template_columns": null,
            "grid_template_rows": null,
            "height": null,
            "justify_content": null,
            "justify_items": null,
            "left": null,
            "margin": null,
            "max_height": null,
            "max_width": null,
            "min_height": null,
            "min_width": null,
            "object_fit": null,
            "object_position": null,
            "order": null,
            "overflow": null,
            "overflow_x": null,
            "overflow_y": null,
            "padding": null,
            "right": null,
            "top": null,
            "visibility": null,
            "width": null
          }
        },
        "2e51777978ad484faf5bd05eb6e90342": {
          "model_module": "@jupyter-widgets/base",
          "model_name": "LayoutModel",
          "model_module_version": "1.2.0",
          "state": {
            "_model_module": "@jupyter-widgets/base",
            "_model_module_version": "1.2.0",
            "_model_name": "LayoutModel",
            "_view_count": null,
            "_view_module": "@jupyter-widgets/base",
            "_view_module_version": "1.2.0",
            "_view_name": "LayoutView",
            "align_content": null,
            "align_items": null,
            "align_self": null,
            "border": null,
            "bottom": null,
            "display": null,
            "flex": null,
            "flex_flow": null,
            "grid_area": null,
            "grid_auto_columns": null,
            "grid_auto_flow": null,
            "grid_auto_rows": null,
            "grid_column": null,
            "grid_gap": null,
            "grid_row": null,
            "grid_template_areas": null,
            "grid_template_columns": null,
            "grid_template_rows": null,
            "height": null,
            "justify_content": null,
            "justify_items": null,
            "left": null,
            "margin": null,
            "max_height": null,
            "max_width": null,
            "min_height": null,
            "min_width": null,
            "object_fit": null,
            "object_position": null,
            "order": null,
            "overflow": null,
            "overflow_x": null,
            "overflow_y": null,
            "padding": null,
            "right": null,
            "top": null,
            "visibility": null,
            "width": null
          }
        },
        "ddac70b66b6d491d827a04a758a6bf78": {
          "model_module": "@jupyter-widgets/controls",
          "model_name": "DescriptionStyleModel",
          "model_module_version": "1.5.0",
          "state": {
            "_model_module": "@jupyter-widgets/controls",
            "_model_module_version": "1.5.0",
            "_model_name": "DescriptionStyleModel",
            "_view_count": null,
            "_view_module": "@jupyter-widgets/base",
            "_view_module_version": "1.2.0",
            "_view_name": "StyleView",
            "description_width": ""
          }
        },
        "7a10289e815742f28b3088b0bfcd402e": {
          "model_module": "@jupyter-widgets/base",
          "model_name": "LayoutModel",
          "model_module_version": "1.2.0",
          "state": {
            "_model_module": "@jupyter-widgets/base",
            "_model_module_version": "1.2.0",
            "_model_name": "LayoutModel",
            "_view_count": null,
            "_view_module": "@jupyter-widgets/base",
            "_view_module_version": "1.2.0",
            "_view_name": "LayoutView",
            "align_content": null,
            "align_items": null,
            "align_self": null,
            "border": null,
            "bottom": null,
            "display": null,
            "flex": null,
            "flex_flow": null,
            "grid_area": null,
            "grid_auto_columns": null,
            "grid_auto_flow": null,
            "grid_auto_rows": null,
            "grid_column": null,
            "grid_gap": null,
            "grid_row": null,
            "grid_template_areas": null,
            "grid_template_columns": null,
            "grid_template_rows": null,
            "height": null,
            "justify_content": null,
            "justify_items": null,
            "left": null,
            "margin": null,
            "max_height": null,
            "max_width": null,
            "min_height": null,
            "min_width": null,
            "object_fit": null,
            "object_position": null,
            "order": null,
            "overflow": null,
            "overflow_x": null,
            "overflow_y": null,
            "padding": null,
            "right": null,
            "top": null,
            "visibility": null,
            "width": null
          }
        },
        "ce9195d32ffa46fe915e8a55149799f5": {
          "model_module": "@jupyter-widgets/controls",
          "model_name": "ProgressStyleModel",
          "model_module_version": "1.5.0",
          "state": {
            "_model_module": "@jupyter-widgets/controls",
            "_model_module_version": "1.5.0",
            "_model_name": "ProgressStyleModel",
            "_view_count": null,
            "_view_module": "@jupyter-widgets/base",
            "_view_module_version": "1.2.0",
            "_view_name": "StyleView",
            "bar_color": null,
            "description_width": ""
          }
        },
        "2f8fe7664c514b9a9d54c6552104ceef": {
          "model_module": "@jupyter-widgets/base",
          "model_name": "LayoutModel",
          "model_module_version": "1.2.0",
          "state": {
            "_model_module": "@jupyter-widgets/base",
            "_model_module_version": "1.2.0",
            "_model_name": "LayoutModel",
            "_view_count": null,
            "_view_module": "@jupyter-widgets/base",
            "_view_module_version": "1.2.0",
            "_view_name": "LayoutView",
            "align_content": null,
            "align_items": null,
            "align_self": null,
            "border": null,
            "bottom": null,
            "display": null,
            "flex": null,
            "flex_flow": null,
            "grid_area": null,
            "grid_auto_columns": null,
            "grid_auto_flow": null,
            "grid_auto_rows": null,
            "grid_column": null,
            "grid_gap": null,
            "grid_row": null,
            "grid_template_areas": null,
            "grid_template_columns": null,
            "grid_template_rows": null,
            "height": null,
            "justify_content": null,
            "justify_items": null,
            "left": null,
            "margin": null,
            "max_height": null,
            "max_width": null,
            "min_height": null,
            "min_width": null,
            "object_fit": null,
            "object_position": null,
            "order": null,
            "overflow": null,
            "overflow_x": null,
            "overflow_y": null,
            "padding": null,
            "right": null,
            "top": null,
            "visibility": null,
            "width": null
          }
        },
        "33e0b6aa3f9e4d0a99ba2a5da12ddd53": {
          "model_module": "@jupyter-widgets/controls",
          "model_name": "DescriptionStyleModel",
          "model_module_version": "1.5.0",
          "state": {
            "_model_module": "@jupyter-widgets/controls",
            "_model_module_version": "1.5.0",
            "_model_name": "DescriptionStyleModel",
            "_view_count": null,
            "_view_module": "@jupyter-widgets/base",
            "_view_module_version": "1.2.0",
            "_view_name": "StyleView",
            "description_width": ""
          }
        },
        "096014f26b1149029c571ee91a80cfa9": {
          "model_module": "@jupyter-widgets/controls",
          "model_name": "HBoxModel",
          "model_module_version": "1.5.0",
          "state": {
            "_dom_classes": [],
            "_model_module": "@jupyter-widgets/controls",
            "_model_module_version": "1.5.0",
            "_model_name": "HBoxModel",
            "_view_count": null,
            "_view_module": "@jupyter-widgets/controls",
            "_view_module_version": "1.5.0",
            "_view_name": "HBoxView",
            "box_style": "",
            "children": [
              "IPY_MODEL_7078dd5e2cd74c4dac548b259bc1218e",
              "IPY_MODEL_bd28e25fc4914ae6879ff6e96a983ce9",
              "IPY_MODEL_6cc1e6bb136e456faec1d1dfcdaca8e7"
            ],
            "layout": "IPY_MODEL_c96b09c4d83445c6a6d75df20331c0e6"
          }
        },
        "7078dd5e2cd74c4dac548b259bc1218e": {
          "model_module": "@jupyter-widgets/controls",
          "model_name": "HTMLModel",
          "model_module_version": "1.5.0",
          "state": {
            "_dom_classes": [],
            "_model_module": "@jupyter-widgets/controls",
            "_model_module_version": "1.5.0",
            "_model_name": "HTMLModel",
            "_view_count": null,
            "_view_module": "@jupyter-widgets/controls",
            "_view_module_version": "1.5.0",
            "_view_name": "HTMLView",
            "description": "",
            "description_tooltip": null,
            "layout": "IPY_MODEL_34e6e49717744db09524ba78db45e78d",
            "placeholder": "​",
            "style": "IPY_MODEL_4ab4d0e8be0c4f4987f6469477fe5d41",
            "value": "100%"
          }
        },
        "bd28e25fc4914ae6879ff6e96a983ce9": {
          "model_module": "@jupyter-widgets/controls",
          "model_name": "FloatProgressModel",
          "model_module_version": "1.5.0",
          "state": {
            "_dom_classes": [],
            "_model_module": "@jupyter-widgets/controls",
            "_model_module_version": "1.5.0",
            "_model_name": "FloatProgressModel",
            "_view_count": null,
            "_view_module": "@jupyter-widgets/controls",
            "_view_module_version": "1.5.0",
            "_view_name": "ProgressView",
            "bar_style": "success",
            "description": "",
            "description_tooltip": null,
            "layout": "IPY_MODEL_156c52467b4b4f4f82b2d39c61c55f21",
            "max": 41,
            "min": 0,
            "orientation": "horizontal",
            "style": "IPY_MODEL_eeceb863c1fc4450a5179b12def064e3",
            "value": 41
          }
        },
        "6cc1e6bb136e456faec1d1dfcdaca8e7": {
          "model_module": "@jupyter-widgets/controls",
          "model_name": "HTMLModel",
          "model_module_version": "1.5.0",
          "state": {
            "_dom_classes": [],
            "_model_module": "@jupyter-widgets/controls",
            "_model_module_version": "1.5.0",
            "_model_name": "HTMLModel",
            "_view_count": null,
            "_view_module": "@jupyter-widgets/controls",
            "_view_module_version": "1.5.0",
            "_view_name": "HTMLView",
            "description": "",
            "description_tooltip": null,
            "layout": "IPY_MODEL_96f98b8a9483417baa83dc2f64bede6a",
            "placeholder": "​",
            "style": "IPY_MODEL_f35bfac37a98444aa25bbf0d94e77e23",
            "value": " 41/41 [00:04&lt;00:00, 11.61ba/s]"
          }
        },
        "c96b09c4d83445c6a6d75df20331c0e6": {
          "model_module": "@jupyter-widgets/base",
          "model_name": "LayoutModel",
          "model_module_version": "1.2.0",
          "state": {
            "_model_module": "@jupyter-widgets/base",
            "_model_module_version": "1.2.0",
            "_model_name": "LayoutModel",
            "_view_count": null,
            "_view_module": "@jupyter-widgets/base",
            "_view_module_version": "1.2.0",
            "_view_name": "LayoutView",
            "align_content": null,
            "align_items": null,
            "align_self": null,
            "border": null,
            "bottom": null,
            "display": null,
            "flex": null,
            "flex_flow": null,
            "grid_area": null,
            "grid_auto_columns": null,
            "grid_auto_flow": null,
            "grid_auto_rows": null,
            "grid_column": null,
            "grid_gap": null,
            "grid_row": null,
            "grid_template_areas": null,
            "grid_template_columns": null,
            "grid_template_rows": null,
            "height": null,
            "justify_content": null,
            "justify_items": null,
            "left": null,
            "margin": null,
            "max_height": null,
            "max_width": null,
            "min_height": null,
            "min_width": null,
            "object_fit": null,
            "object_position": null,
            "order": null,
            "overflow": null,
            "overflow_x": null,
            "overflow_y": null,
            "padding": null,
            "right": null,
            "top": null,
            "visibility": null,
            "width": null
          }
        },
        "34e6e49717744db09524ba78db45e78d": {
          "model_module": "@jupyter-widgets/base",
          "model_name": "LayoutModel",
          "model_module_version": "1.2.0",
          "state": {
            "_model_module": "@jupyter-widgets/base",
            "_model_module_version": "1.2.0",
            "_model_name": "LayoutModel",
            "_view_count": null,
            "_view_module": "@jupyter-widgets/base",
            "_view_module_version": "1.2.0",
            "_view_name": "LayoutView",
            "align_content": null,
            "align_items": null,
            "align_self": null,
            "border": null,
            "bottom": null,
            "display": null,
            "flex": null,
            "flex_flow": null,
            "grid_area": null,
            "grid_auto_columns": null,
            "grid_auto_flow": null,
            "grid_auto_rows": null,
            "grid_column": null,
            "grid_gap": null,
            "grid_row": null,
            "grid_template_areas": null,
            "grid_template_columns": null,
            "grid_template_rows": null,
            "height": null,
            "justify_content": null,
            "justify_items": null,
            "left": null,
            "margin": null,
            "max_height": null,
            "max_width": null,
            "min_height": null,
            "min_width": null,
            "object_fit": null,
            "object_position": null,
            "order": null,
            "overflow": null,
            "overflow_x": null,
            "overflow_y": null,
            "padding": null,
            "right": null,
            "top": null,
            "visibility": null,
            "width": null
          }
        },
        "4ab4d0e8be0c4f4987f6469477fe5d41": {
          "model_module": "@jupyter-widgets/controls",
          "model_name": "DescriptionStyleModel",
          "model_module_version": "1.5.0",
          "state": {
            "_model_module": "@jupyter-widgets/controls",
            "_model_module_version": "1.5.0",
            "_model_name": "DescriptionStyleModel",
            "_view_count": null,
            "_view_module": "@jupyter-widgets/base",
            "_view_module_version": "1.2.0",
            "_view_name": "StyleView",
            "description_width": ""
          }
        },
        "156c52467b4b4f4f82b2d39c61c55f21": {
          "model_module": "@jupyter-widgets/base",
          "model_name": "LayoutModel",
          "model_module_version": "1.2.0",
          "state": {
            "_model_module": "@jupyter-widgets/base",
            "_model_module_version": "1.2.0",
            "_model_name": "LayoutModel",
            "_view_count": null,
            "_view_module": "@jupyter-widgets/base",
            "_view_module_version": "1.2.0",
            "_view_name": "LayoutView",
            "align_content": null,
            "align_items": null,
            "align_self": null,
            "border": null,
            "bottom": null,
            "display": null,
            "flex": null,
            "flex_flow": null,
            "grid_area": null,
            "grid_auto_columns": null,
            "grid_auto_flow": null,
            "grid_auto_rows": null,
            "grid_column": null,
            "grid_gap": null,
            "grid_row": null,
            "grid_template_areas": null,
            "grid_template_columns": null,
            "grid_template_rows": null,
            "height": null,
            "justify_content": null,
            "justify_items": null,
            "left": null,
            "margin": null,
            "max_height": null,
            "max_width": null,
            "min_height": null,
            "min_width": null,
            "object_fit": null,
            "object_position": null,
            "order": null,
            "overflow": null,
            "overflow_x": null,
            "overflow_y": null,
            "padding": null,
            "right": null,
            "top": null,
            "visibility": null,
            "width": null
          }
        },
        "eeceb863c1fc4450a5179b12def064e3": {
          "model_module": "@jupyter-widgets/controls",
          "model_name": "ProgressStyleModel",
          "model_module_version": "1.5.0",
          "state": {
            "_model_module": "@jupyter-widgets/controls",
            "_model_module_version": "1.5.0",
            "_model_name": "ProgressStyleModel",
            "_view_count": null,
            "_view_module": "@jupyter-widgets/base",
            "_view_module_version": "1.2.0",
            "_view_name": "StyleView",
            "bar_color": null,
            "description_width": ""
          }
        },
        "96f98b8a9483417baa83dc2f64bede6a": {
          "model_module": "@jupyter-widgets/base",
          "model_name": "LayoutModel",
          "model_module_version": "1.2.0",
          "state": {
            "_model_module": "@jupyter-widgets/base",
            "_model_module_version": "1.2.0",
            "_model_name": "LayoutModel",
            "_view_count": null,
            "_view_module": "@jupyter-widgets/base",
            "_view_module_version": "1.2.0",
            "_view_name": "LayoutView",
            "align_content": null,
            "align_items": null,
            "align_self": null,
            "border": null,
            "bottom": null,
            "display": null,
            "flex": null,
            "flex_flow": null,
            "grid_area": null,
            "grid_auto_columns": null,
            "grid_auto_flow": null,
            "grid_auto_rows": null,
            "grid_column": null,
            "grid_gap": null,
            "grid_row": null,
            "grid_template_areas": null,
            "grid_template_columns": null,
            "grid_template_rows": null,
            "height": null,
            "justify_content": null,
            "justify_items": null,
            "left": null,
            "margin": null,
            "max_height": null,
            "max_width": null,
            "min_height": null,
            "min_width": null,
            "object_fit": null,
            "object_position": null,
            "order": null,
            "overflow": null,
            "overflow_x": null,
            "overflow_y": null,
            "padding": null,
            "right": null,
            "top": null,
            "visibility": null,
            "width": null
          }
        },
        "f35bfac37a98444aa25bbf0d94e77e23": {
          "model_module": "@jupyter-widgets/controls",
          "model_name": "DescriptionStyleModel",
          "model_module_version": "1.5.0",
          "state": {
            "_model_module": "@jupyter-widgets/controls",
            "_model_module_version": "1.5.0",
            "_model_name": "DescriptionStyleModel",
            "_view_count": null,
            "_view_module": "@jupyter-widgets/base",
            "_view_module_version": "1.2.0",
            "_view_name": "StyleView",
            "description_width": ""
          }
        },
        "e41d77408289408496bdb2679e1e0b24": {
          "model_module": "@jupyter-widgets/controls",
          "model_name": "HBoxModel",
          "model_module_version": "1.5.0",
          "state": {
            "_dom_classes": [],
            "_model_module": "@jupyter-widgets/controls",
            "_model_module_version": "1.5.0",
            "_model_name": "HBoxModel",
            "_view_count": null,
            "_view_module": "@jupyter-widgets/controls",
            "_view_module_version": "1.5.0",
            "_view_name": "HBoxView",
            "box_style": "",
            "children": [
              "IPY_MODEL_fea2ac48799f45d3a72745d8151d4975",
              "IPY_MODEL_67c00f7699ff499990539c92c0364106",
              "IPY_MODEL_59e4985146c54dfeadca0050cb9e53c6"
            ],
            "layout": "IPY_MODEL_fadad1b8d77e47d7aef3597b3ed38a18"
          }
        },
        "fea2ac48799f45d3a72745d8151d4975": {
          "model_module": "@jupyter-widgets/controls",
          "model_name": "HTMLModel",
          "model_module_version": "1.5.0",
          "state": {
            "_dom_classes": [],
            "_model_module": "@jupyter-widgets/controls",
            "_model_module_version": "1.5.0",
            "_model_name": "HTMLModel",
            "_view_count": null,
            "_view_module": "@jupyter-widgets/controls",
            "_view_module_version": "1.5.0",
            "_view_name": "HTMLView",
            "description": "",
            "description_tooltip": null,
            "layout": "IPY_MODEL_e50542a6fc8e4f818d0412e6e70620ee",
            "placeholder": "​",
            "style": "IPY_MODEL_cc3d8c5f46be4a44b2be2ff994534972",
            "value": "100%"
          }
        },
        "67c00f7699ff499990539c92c0364106": {
          "model_module": "@jupyter-widgets/controls",
          "model_name": "FloatProgressModel",
          "model_module_version": "1.5.0",
          "state": {
            "_dom_classes": [],
            "_model_module": "@jupyter-widgets/controls",
            "_model_module_version": "1.5.0",
            "_model_name": "FloatProgressModel",
            "_view_count": null,
            "_view_module": "@jupyter-widgets/controls",
            "_view_module_version": "1.5.0",
            "_view_name": "ProgressView",
            "bar_style": "success",
            "description": "",
            "description_tooltip": null,
            "layout": "IPY_MODEL_e73b62754ae641049e2cfd40442f35c8",
            "max": 21,
            "min": 0,
            "orientation": "horizontal",
            "style": "IPY_MODEL_9e49f043222c42a9981b83929fec8a96",
            "value": 21
          }
        },
        "59e4985146c54dfeadca0050cb9e53c6": {
          "model_module": "@jupyter-widgets/controls",
          "model_name": "HTMLModel",
          "model_module_version": "1.5.0",
          "state": {
            "_dom_classes": [],
            "_model_module": "@jupyter-widgets/controls",
            "_model_module_version": "1.5.0",
            "_model_name": "HTMLModel",
            "_view_count": null,
            "_view_module": "@jupyter-widgets/controls",
            "_view_module_version": "1.5.0",
            "_view_name": "HTMLView",
            "description": "",
            "description_tooltip": null,
            "layout": "IPY_MODEL_f7b3db7c02744880a8bb3dd5524c89ee",
            "placeholder": "​",
            "style": "IPY_MODEL_71f09e61a48244d0978e188c13120115",
            "value": " 21/21 [00:02&lt;00:00, 11.84ba/s]"
          }
        },
        "fadad1b8d77e47d7aef3597b3ed38a18": {
          "model_module": "@jupyter-widgets/base",
          "model_name": "LayoutModel",
          "model_module_version": "1.2.0",
          "state": {
            "_model_module": "@jupyter-widgets/base",
            "_model_module_version": "1.2.0",
            "_model_name": "LayoutModel",
            "_view_count": null,
            "_view_module": "@jupyter-widgets/base",
            "_view_module_version": "1.2.0",
            "_view_name": "LayoutView",
            "align_content": null,
            "align_items": null,
            "align_self": null,
            "border": null,
            "bottom": null,
            "display": null,
            "flex": null,
            "flex_flow": null,
            "grid_area": null,
            "grid_auto_columns": null,
            "grid_auto_flow": null,
            "grid_auto_rows": null,
            "grid_column": null,
            "grid_gap": null,
            "grid_row": null,
            "grid_template_areas": null,
            "grid_template_columns": null,
            "grid_template_rows": null,
            "height": null,
            "justify_content": null,
            "justify_items": null,
            "left": null,
            "margin": null,
            "max_height": null,
            "max_width": null,
            "min_height": null,
            "min_width": null,
            "object_fit": null,
            "object_position": null,
            "order": null,
            "overflow": null,
            "overflow_x": null,
            "overflow_y": null,
            "padding": null,
            "right": null,
            "top": null,
            "visibility": null,
            "width": null
          }
        },
        "e50542a6fc8e4f818d0412e6e70620ee": {
          "model_module": "@jupyter-widgets/base",
          "model_name": "LayoutModel",
          "model_module_version": "1.2.0",
          "state": {
            "_model_module": "@jupyter-widgets/base",
            "_model_module_version": "1.2.0",
            "_model_name": "LayoutModel",
            "_view_count": null,
            "_view_module": "@jupyter-widgets/base",
            "_view_module_version": "1.2.0",
            "_view_name": "LayoutView",
            "align_content": null,
            "align_items": null,
            "align_self": null,
            "border": null,
            "bottom": null,
            "display": null,
            "flex": null,
            "flex_flow": null,
            "grid_area": null,
            "grid_auto_columns": null,
            "grid_auto_flow": null,
            "grid_auto_rows": null,
            "grid_column": null,
            "grid_gap": null,
            "grid_row": null,
            "grid_template_areas": null,
            "grid_template_columns": null,
            "grid_template_rows": null,
            "height": null,
            "justify_content": null,
            "justify_items": null,
            "left": null,
            "margin": null,
            "max_height": null,
            "max_width": null,
            "min_height": null,
            "min_width": null,
            "object_fit": null,
            "object_position": null,
            "order": null,
            "overflow": null,
            "overflow_x": null,
            "overflow_y": null,
            "padding": null,
            "right": null,
            "top": null,
            "visibility": null,
            "width": null
          }
        },
        "cc3d8c5f46be4a44b2be2ff994534972": {
          "model_module": "@jupyter-widgets/controls",
          "model_name": "DescriptionStyleModel",
          "model_module_version": "1.5.0",
          "state": {
            "_model_module": "@jupyter-widgets/controls",
            "_model_module_version": "1.5.0",
            "_model_name": "DescriptionStyleModel",
            "_view_count": null,
            "_view_module": "@jupyter-widgets/base",
            "_view_module_version": "1.2.0",
            "_view_name": "StyleView",
            "description_width": ""
          }
        },
        "e73b62754ae641049e2cfd40442f35c8": {
          "model_module": "@jupyter-widgets/base",
          "model_name": "LayoutModel",
          "model_module_version": "1.2.0",
          "state": {
            "_model_module": "@jupyter-widgets/base",
            "_model_module_version": "1.2.0",
            "_model_name": "LayoutModel",
            "_view_count": null,
            "_view_module": "@jupyter-widgets/base",
            "_view_module_version": "1.2.0",
            "_view_name": "LayoutView",
            "align_content": null,
            "align_items": null,
            "align_self": null,
            "border": null,
            "bottom": null,
            "display": null,
            "flex": null,
            "flex_flow": null,
            "grid_area": null,
            "grid_auto_columns": null,
            "grid_auto_flow": null,
            "grid_auto_rows": null,
            "grid_column": null,
            "grid_gap": null,
            "grid_row": null,
            "grid_template_areas": null,
            "grid_template_columns": null,
            "grid_template_rows": null,
            "height": null,
            "justify_content": null,
            "justify_items": null,
            "left": null,
            "margin": null,
            "max_height": null,
            "max_width": null,
            "min_height": null,
            "min_width": null,
            "object_fit": null,
            "object_position": null,
            "order": null,
            "overflow": null,
            "overflow_x": null,
            "overflow_y": null,
            "padding": null,
            "right": null,
            "top": null,
            "visibility": null,
            "width": null
          }
        },
        "9e49f043222c42a9981b83929fec8a96": {
          "model_module": "@jupyter-widgets/controls",
          "model_name": "ProgressStyleModel",
          "model_module_version": "1.5.0",
          "state": {
            "_model_module": "@jupyter-widgets/controls",
            "_model_module_version": "1.5.0",
            "_model_name": "ProgressStyleModel",
            "_view_count": null,
            "_view_module": "@jupyter-widgets/base",
            "_view_module_version": "1.2.0",
            "_view_name": "StyleView",
            "bar_color": null,
            "description_width": ""
          }
        },
        "f7b3db7c02744880a8bb3dd5524c89ee": {
          "model_module": "@jupyter-widgets/base",
          "model_name": "LayoutModel",
          "model_module_version": "1.2.0",
          "state": {
            "_model_module": "@jupyter-widgets/base",
            "_model_module_version": "1.2.0",
            "_model_name": "LayoutModel",
            "_view_count": null,
            "_view_module": "@jupyter-widgets/base",
            "_view_module_version": "1.2.0",
            "_view_name": "LayoutView",
            "align_content": null,
            "align_items": null,
            "align_self": null,
            "border": null,
            "bottom": null,
            "display": null,
            "flex": null,
            "flex_flow": null,
            "grid_area": null,
            "grid_auto_columns": null,
            "grid_auto_flow": null,
            "grid_auto_rows": null,
            "grid_column": null,
            "grid_gap": null,
            "grid_row": null,
            "grid_template_areas": null,
            "grid_template_columns": null,
            "grid_template_rows": null,
            "height": null,
            "justify_content": null,
            "justify_items": null,
            "left": null,
            "margin": null,
            "max_height": null,
            "max_width": null,
            "min_height": null,
            "min_width": null,
            "object_fit": null,
            "object_position": null,
            "order": null,
            "overflow": null,
            "overflow_x": null,
            "overflow_y": null,
            "padding": null,
            "right": null,
            "top": null,
            "visibility": null,
            "width": null
          }
        },
        "71f09e61a48244d0978e188c13120115": {
          "model_module": "@jupyter-widgets/controls",
          "model_name": "DescriptionStyleModel",
          "model_module_version": "1.5.0",
          "state": {
            "_model_module": "@jupyter-widgets/controls",
            "_model_module_version": "1.5.0",
            "_model_name": "DescriptionStyleModel",
            "_view_count": null,
            "_view_module": "@jupyter-widgets/base",
            "_view_module_version": "1.2.0",
            "_view_name": "StyleView",
            "description_width": ""
          }
        },
        "e84c731da195410e81de004978948b88": {
          "model_module": "@jupyter-widgets/controls",
          "model_name": "HBoxModel",
          "model_module_version": "1.5.0",
          "state": {
            "_dom_classes": [],
            "_model_module": "@jupyter-widgets/controls",
            "_model_module_version": "1.5.0",
            "_model_name": "HBoxModel",
            "_view_count": null,
            "_view_module": "@jupyter-widgets/controls",
            "_view_module_version": "1.5.0",
            "_view_name": "HBoxView",
            "box_style": "",
            "children": [
              "IPY_MODEL_f3deda05dfba4717b95818246c1c2293",
              "IPY_MODEL_e05a7afaf85149ab9dc41f327e1a74b0",
              "IPY_MODEL_232629fd12e64f72a5c1be1491bd5ecb"
            ],
            "layout": "IPY_MODEL_1c77b32639db4faaae6ac04d09fb83e0"
          }
        },
        "f3deda05dfba4717b95818246c1c2293": {
          "model_module": "@jupyter-widgets/controls",
          "model_name": "HTMLModel",
          "model_module_version": "1.5.0",
          "state": {
            "_dom_classes": [],
            "_model_module": "@jupyter-widgets/controls",
            "_model_module_version": "1.5.0",
            "_model_name": "HTMLModel",
            "_view_count": null,
            "_view_module": "@jupyter-widgets/controls",
            "_view_module_version": "1.5.0",
            "_view_name": "HTMLView",
            "description": "",
            "description_tooltip": null,
            "layout": "IPY_MODEL_021cb725aab34dd6ae80bf1189e05abe",
            "placeholder": "​",
            "style": "IPY_MODEL_bb8bfc36bf5349139a3ecb38e27e1050",
            "value": "100%"
          }
        },
        "e05a7afaf85149ab9dc41f327e1a74b0": {
          "model_module": "@jupyter-widgets/controls",
          "model_name": "FloatProgressModel",
          "model_module_version": "1.5.0",
          "state": {
            "_dom_classes": [],
            "_model_module": "@jupyter-widgets/controls",
            "_model_module_version": "1.5.0",
            "_model_name": "FloatProgressModel",
            "_view_count": null,
            "_view_module": "@jupyter-widgets/controls",
            "_view_module_version": "1.5.0",
            "_view_name": "ProgressView",
            "bar_style": "success",
            "description": "",
            "description_tooltip": null,
            "layout": "IPY_MODEL_1c565d8cf1374e3aa011a060f6d76c81",
            "max": 21,
            "min": 0,
            "orientation": "horizontal",
            "style": "IPY_MODEL_899b194bd03a4fc39a673c28614d9e96",
            "value": 21
          }
        },
        "232629fd12e64f72a5c1be1491bd5ecb": {
          "model_module": "@jupyter-widgets/controls",
          "model_name": "HTMLModel",
          "model_module_version": "1.5.0",
          "state": {
            "_dom_classes": [],
            "_model_module": "@jupyter-widgets/controls",
            "_model_module_version": "1.5.0",
            "_model_name": "HTMLModel",
            "_view_count": null,
            "_view_module": "@jupyter-widgets/controls",
            "_view_module_version": "1.5.0",
            "_view_name": "HTMLView",
            "description": "",
            "description_tooltip": null,
            "layout": "IPY_MODEL_6b8bda676d7146bbae08cad084a46601",
            "placeholder": "​",
            "style": "IPY_MODEL_325dae055e624c929342fc2f358af1b1",
            "value": " 21/21 [00:02&lt;00:00, 10.75ba/s]"
          }
        },
        "1c77b32639db4faaae6ac04d09fb83e0": {
          "model_module": "@jupyter-widgets/base",
          "model_name": "LayoutModel",
          "model_module_version": "1.2.0",
          "state": {
            "_model_module": "@jupyter-widgets/base",
            "_model_module_version": "1.2.0",
            "_model_name": "LayoutModel",
            "_view_count": null,
            "_view_module": "@jupyter-widgets/base",
            "_view_module_version": "1.2.0",
            "_view_name": "LayoutView",
            "align_content": null,
            "align_items": null,
            "align_self": null,
            "border": null,
            "bottom": null,
            "display": null,
            "flex": null,
            "flex_flow": null,
            "grid_area": null,
            "grid_auto_columns": null,
            "grid_auto_flow": null,
            "grid_auto_rows": null,
            "grid_column": null,
            "grid_gap": null,
            "grid_row": null,
            "grid_template_areas": null,
            "grid_template_columns": null,
            "grid_template_rows": null,
            "height": null,
            "justify_content": null,
            "justify_items": null,
            "left": null,
            "margin": null,
            "max_height": null,
            "max_width": null,
            "min_height": null,
            "min_width": null,
            "object_fit": null,
            "object_position": null,
            "order": null,
            "overflow": null,
            "overflow_x": null,
            "overflow_y": null,
            "padding": null,
            "right": null,
            "top": null,
            "visibility": null,
            "width": null
          }
        },
        "021cb725aab34dd6ae80bf1189e05abe": {
          "model_module": "@jupyter-widgets/base",
          "model_name": "LayoutModel",
          "model_module_version": "1.2.0",
          "state": {
            "_model_module": "@jupyter-widgets/base",
            "_model_module_version": "1.2.0",
            "_model_name": "LayoutModel",
            "_view_count": null,
            "_view_module": "@jupyter-widgets/base",
            "_view_module_version": "1.2.0",
            "_view_name": "LayoutView",
            "align_content": null,
            "align_items": null,
            "align_self": null,
            "border": null,
            "bottom": null,
            "display": null,
            "flex": null,
            "flex_flow": null,
            "grid_area": null,
            "grid_auto_columns": null,
            "grid_auto_flow": null,
            "grid_auto_rows": null,
            "grid_column": null,
            "grid_gap": null,
            "grid_row": null,
            "grid_template_areas": null,
            "grid_template_columns": null,
            "grid_template_rows": null,
            "height": null,
            "justify_content": null,
            "justify_items": null,
            "left": null,
            "margin": null,
            "max_height": null,
            "max_width": null,
            "min_height": null,
            "min_width": null,
            "object_fit": null,
            "object_position": null,
            "order": null,
            "overflow": null,
            "overflow_x": null,
            "overflow_y": null,
            "padding": null,
            "right": null,
            "top": null,
            "visibility": null,
            "width": null
          }
        },
        "bb8bfc36bf5349139a3ecb38e27e1050": {
          "model_module": "@jupyter-widgets/controls",
          "model_name": "DescriptionStyleModel",
          "model_module_version": "1.5.0",
          "state": {
            "_model_module": "@jupyter-widgets/controls",
            "_model_module_version": "1.5.0",
            "_model_name": "DescriptionStyleModel",
            "_view_count": null,
            "_view_module": "@jupyter-widgets/base",
            "_view_module_version": "1.2.0",
            "_view_name": "StyleView",
            "description_width": ""
          }
        },
        "1c565d8cf1374e3aa011a060f6d76c81": {
          "model_module": "@jupyter-widgets/base",
          "model_name": "LayoutModel",
          "model_module_version": "1.2.0",
          "state": {
            "_model_module": "@jupyter-widgets/base",
            "_model_module_version": "1.2.0",
            "_model_name": "LayoutModel",
            "_view_count": null,
            "_view_module": "@jupyter-widgets/base",
            "_view_module_version": "1.2.0",
            "_view_name": "LayoutView",
            "align_content": null,
            "align_items": null,
            "align_self": null,
            "border": null,
            "bottom": null,
            "display": null,
            "flex": null,
            "flex_flow": null,
            "grid_area": null,
            "grid_auto_columns": null,
            "grid_auto_flow": null,
            "grid_auto_rows": null,
            "grid_column": null,
            "grid_gap": null,
            "grid_row": null,
            "grid_template_areas": null,
            "grid_template_columns": null,
            "grid_template_rows": null,
            "height": null,
            "justify_content": null,
            "justify_items": null,
            "left": null,
            "margin": null,
            "max_height": null,
            "max_width": null,
            "min_height": null,
            "min_width": null,
            "object_fit": null,
            "object_position": null,
            "order": null,
            "overflow": null,
            "overflow_x": null,
            "overflow_y": null,
            "padding": null,
            "right": null,
            "top": null,
            "visibility": null,
            "width": null
          }
        },
        "899b194bd03a4fc39a673c28614d9e96": {
          "model_module": "@jupyter-widgets/controls",
          "model_name": "ProgressStyleModel",
          "model_module_version": "1.5.0",
          "state": {
            "_model_module": "@jupyter-widgets/controls",
            "_model_module_version": "1.5.0",
            "_model_name": "ProgressStyleModel",
            "_view_count": null,
            "_view_module": "@jupyter-widgets/base",
            "_view_module_version": "1.2.0",
            "_view_name": "StyleView",
            "bar_color": null,
            "description_width": ""
          }
        },
        "6b8bda676d7146bbae08cad084a46601": {
          "model_module": "@jupyter-widgets/base",
          "model_name": "LayoutModel",
          "model_module_version": "1.2.0",
          "state": {
            "_model_module": "@jupyter-widgets/base",
            "_model_module_version": "1.2.0",
            "_model_name": "LayoutModel",
            "_view_count": null,
            "_view_module": "@jupyter-widgets/base",
            "_view_module_version": "1.2.0",
            "_view_name": "LayoutView",
            "align_content": null,
            "align_items": null,
            "align_self": null,
            "border": null,
            "bottom": null,
            "display": null,
            "flex": null,
            "flex_flow": null,
            "grid_area": null,
            "grid_auto_columns": null,
            "grid_auto_flow": null,
            "grid_auto_rows": null,
            "grid_column": null,
            "grid_gap": null,
            "grid_row": null,
            "grid_template_areas": null,
            "grid_template_columns": null,
            "grid_template_rows": null,
            "height": null,
            "justify_content": null,
            "justify_items": null,
            "left": null,
            "margin": null,
            "max_height": null,
            "max_width": null,
            "min_height": null,
            "min_width": null,
            "object_fit": null,
            "object_position": null,
            "order": null,
            "overflow": null,
            "overflow_x": null,
            "overflow_y": null,
            "padding": null,
            "right": null,
            "top": null,
            "visibility": null,
            "width": null
          }
        },
        "325dae055e624c929342fc2f358af1b1": {
          "model_module": "@jupyter-widgets/controls",
          "model_name": "DescriptionStyleModel",
          "model_module_version": "1.5.0",
          "state": {
            "_model_module": "@jupyter-widgets/controls",
            "_model_module_version": "1.5.0",
            "_model_name": "DescriptionStyleModel",
            "_view_count": null,
            "_view_module": "@jupyter-widgets/base",
            "_view_module_version": "1.2.0",
            "_view_name": "StyleView",
            "description_width": ""
          }
        }
      }
    }
  },
  "nbformat": 4,
  "nbformat_minor": 0
}